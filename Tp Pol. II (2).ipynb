{
 "cells": [
  {
   "cell_type": "code",
   "execution_count": 1,
   "id": "90db1aaa",
   "metadata": {},
   "outputs": [],
   "source": [
    "import pandas as pd\n",
    "import numpy as np\n",
    "import matplotlib as mpl\n",
    "import matplotlib.pyplot as plt\n",
    "import plotly.express as px\n",
    "import seaborn as sns"
   ]
  },
  {
   "cell_type": "code",
   "execution_count": 2,
   "id": "0c355e3e",
   "metadata": {},
   "outputs": [],
   "source": [
    "data_loc = \"../Data/pbi.csv\"\n",
    "\n",
    "datapbi = pd.read_csv(data_loc,encoding='latin1',delimiter=';',decimal=\".\",index_col=0)\n",
    "datapbi = datapbi.drop(['Country Code'], axis=1)\n",
    "\n"
   ]
  },
  {
   "cell_type": "code",
   "execution_count": 3,
   "id": "207259e0",
   "metadata": {},
   "outputs": [
    {
     "data": {
      "text/html": [
       "<div>\n",
       "<style scoped>\n",
       "    .dataframe tbody tr th:only-of-type {\n",
       "        vertical-align: middle;\n",
       "    }\n",
       "\n",
       "    .dataframe tbody tr th {\n",
       "        vertical-align: top;\n",
       "    }\n",
       "\n",
       "    .dataframe thead th {\n",
       "        text-align: right;\n",
       "    }\n",
       "</style>\n",
       "<table border=\"1\" class=\"dataframe\">\n",
       "  <thead>\n",
       "    <tr style=\"text-align: right;\">\n",
       "      <th></th>\n",
       "      <th>2011</th>\n",
       "      <th>2012</th>\n",
       "      <th>2013</th>\n",
       "      <th>2014</th>\n",
       "      <th>2015</th>\n",
       "      <th>2016</th>\n",
       "      <th>2017</th>\n",
       "      <th>2018</th>\n",
       "      <th>2019</th>\n",
       "      <th>2020</th>\n",
       "    </tr>\n",
       "    <tr>\n",
       "      <th>Country Name</th>\n",
       "      <th></th>\n",
       "      <th></th>\n",
       "      <th></th>\n",
       "      <th></th>\n",
       "      <th></th>\n",
       "      <th></th>\n",
       "      <th></th>\n",
       "      <th></th>\n",
       "      <th></th>\n",
       "      <th></th>\n",
       "    </tr>\n",
       "  </thead>\n",
       "  <tbody>\n",
       "    <tr>\n",
       "      <th>Argentina</th>\n",
       "      <td>10883.3</td>\n",
       "      <td>10649.8</td>\n",
       "      <td>10784.6</td>\n",
       "      <td>10398.7</td>\n",
       "      <td>10568.2</td>\n",
       "      <td>10239.5</td>\n",
       "      <td>10419.5</td>\n",
       "      <td>10049.6</td>\n",
       "      <td>9742.5</td>\n",
       "      <td>8692.7</td>\n",
       "    </tr>\n",
       "    <tr>\n",
       "      <th>Australia</th>\n",
       "      <td>52567.8</td>\n",
       "      <td>53682.0</td>\n",
       "      <td>54129.9</td>\n",
       "      <td>54679.4</td>\n",
       "      <td>55079.9</td>\n",
       "      <td>55728.7</td>\n",
       "      <td>56058.5</td>\n",
       "      <td>56832.1</td>\n",
       "      <td>57183.4</td>\n",
       "      <td>56307.3</td>\n",
       "    </tr>\n",
       "  </tbody>\n",
       "</table>\n",
       "</div>"
      ],
      "text/plain": [
       "                 2011     2012     2013     2014     2015     2016     2017  \\\n",
       "Country Name                                                                  \n",
       "Argentina     10883.3  10649.8  10784.6  10398.7  10568.2  10239.5  10419.5   \n",
       "Australia     52567.8  53682.0  54129.9  54679.4  55079.9  55728.7  56058.5   \n",
       "\n",
       "                 2018     2019     2020  \n",
       "Country Name                             \n",
       "Argentina     10049.6   9742.5   8692.7  \n",
       "Australia     56832.1  57183.4  56307.3  "
      ]
     },
     "execution_count": 3,
     "metadata": {},
     "output_type": "execute_result"
    }
   ],
   "source": [
    "datapbi = datapbi[['2011', '2012','2013','2014','2015','2016','2017','2018','2019','2020']].apply(lambda x: x.str.replace(',', '.').astype(float), axis=1)\n",
    "datapbi.head(2)"
   ]
  },
  {
   "cell_type": "code",
   "execution_count": 4,
   "id": "e077a510",
   "metadata": {},
   "outputs": [],
   "source": [
    "#datapbi = datapbi.transpose()"
   ]
  },
  {
   "cell_type": "code",
   "execution_count": 5,
   "id": "68d7c1e2",
   "metadata": {},
   "outputs": [
    {
     "data": {
      "text/html": [
       "<div>\n",
       "<style scoped>\n",
       "    .dataframe tbody tr th:only-of-type {\n",
       "        vertical-align: middle;\n",
       "    }\n",
       "\n",
       "    .dataframe tbody tr th {\n",
       "        vertical-align: top;\n",
       "    }\n",
       "\n",
       "    .dataframe thead th {\n",
       "        text-align: right;\n",
       "    }\n",
       "</style>\n",
       "<table border=\"1\" class=\"dataframe\">\n",
       "  <thead>\n",
       "    <tr style=\"text-align: right;\">\n",
       "      <th></th>\n",
       "      <th>2011</th>\n",
       "      <th>2012</th>\n",
       "      <th>2013</th>\n",
       "      <th>2014</th>\n",
       "      <th>2015</th>\n",
       "      <th>2016</th>\n",
       "      <th>2017</th>\n",
       "      <th>2018</th>\n",
       "      <th>2019</th>\n",
       "      <th>2020</th>\n",
       "    </tr>\n",
       "    <tr>\n",
       "      <th>Country Name</th>\n",
       "      <th></th>\n",
       "      <th></th>\n",
       "      <th></th>\n",
       "      <th></th>\n",
       "      <th></th>\n",
       "      <th></th>\n",
       "      <th></th>\n",
       "      <th></th>\n",
       "      <th></th>\n",
       "      <th></th>\n",
       "    </tr>\n",
       "  </thead>\n",
       "  <tbody>\n",
       "    <tr>\n",
       "      <th>Argentina</th>\n",
       "      <td>93.40</td>\n",
       "      <td>80.00</td>\n",
       "      <td>77.10</td>\n",
       "      <td>81.20</td>\n",
       "      <td>63.50</td>\n",
       "      <td>72.40</td>\n",
       "      <td>67.80</td>\n",
       "      <td>84.10</td>\n",
       "      <td>93.30</td>\n",
       "      <td>118.40</td>\n",
       "    </tr>\n",
       "    <tr>\n",
       "      <th>Australia</th>\n",
       "      <td>106.96</td>\n",
       "      <td>109.03</td>\n",
       "      <td>103.45</td>\n",
       "      <td>98.32</td>\n",
       "      <td>89.85</td>\n",
       "      <td>90.93</td>\n",
       "      <td>93.69</td>\n",
       "      <td>89.95</td>\n",
       "      <td>86.01</td>\n",
       "      <td>85.36</td>\n",
       "    </tr>\n",
       "  </tbody>\n",
       "</table>\n",
       "</div>"
      ],
      "text/plain": [
       "                2011    2012    2013   2014   2015   2016   2017   2018  \\\n",
       "Country Name                                                              \n",
       "Argentina      93.40   80.00   77.10  81.20  63.50  72.40  67.80  84.10   \n",
       "Australia     106.96  109.03  103.45  98.32  89.85  90.93  93.69  89.95   \n",
       "\n",
       "               2019    2020  \n",
       "Country Name                 \n",
       "Argentina     93.30  118.40  \n",
       "Australia     86.01   85.36  "
      ]
     },
     "execution_count": 5,
     "metadata": {},
     "output_type": "execute_result"
    }
   ],
   "source": [
    "data_location = \"../Data/tcr.csv\"\n",
    "\n",
    "datatcr = pd.read_csv(data_location,delimiter=',',index_col=0)\n",
    "datatcr = datatcr.drop(['Country Code'], axis=1)\n",
    "datatcr = datatcr.rename(columns={'Country Name': 'pais'})\n",
    "datatcr.head(2)"
   ]
  },
  {
   "cell_type": "code",
   "execution_count": 6,
   "id": "c80267f5",
   "metadata": {},
   "outputs": [],
   "source": [
    "#datatcr=datatcr.transpose()\n"
   ]
  },
  {
   "cell_type": "code",
   "execution_count": 7,
   "id": "4535455a",
   "metadata": {},
   "outputs": [],
   "source": [
    "\n",
    "datatcr['Variable']='TCR'\n",
    "datapbi['Variable']='PBI'"
   ]
  },
  {
   "cell_type": "code",
   "execution_count": 8,
   "id": "1a818040",
   "metadata": {},
   "outputs": [],
   "source": [
    "\n",
    "unidos = datatcr.append(datapbi)"
   ]
  },
  {
   "cell_type": "code",
   "execution_count": 9,
   "id": "bcca63e9",
   "metadata": {},
   "outputs": [
    {
     "data": {
      "text/html": [
       "<div>\n",
       "<style scoped>\n",
       "    .dataframe tbody tr th:only-of-type {\n",
       "        vertical-align: middle;\n",
       "    }\n",
       "\n",
       "    .dataframe tbody tr th {\n",
       "        vertical-align: top;\n",
       "    }\n",
       "\n",
       "    .dataframe thead th {\n",
       "        text-align: right;\n",
       "    }\n",
       "</style>\n",
       "<table border=\"1\" class=\"dataframe\">\n",
       "  <thead>\n",
       "    <tr style=\"text-align: right;\">\n",
       "      <th></th>\n",
       "      <th>2011</th>\n",
       "      <th>2012</th>\n",
       "      <th>2013</th>\n",
       "      <th>2014</th>\n",
       "      <th>2015</th>\n",
       "      <th>2016</th>\n",
       "      <th>2017</th>\n",
       "      <th>2018</th>\n",
       "      <th>2019</th>\n",
       "      <th>2020</th>\n",
       "      <th>Variable</th>\n",
       "    </tr>\n",
       "    <tr>\n",
       "      <th>Country Name</th>\n",
       "      <th></th>\n",
       "      <th></th>\n",
       "      <th></th>\n",
       "      <th></th>\n",
       "      <th></th>\n",
       "      <th></th>\n",
       "      <th></th>\n",
       "      <th></th>\n",
       "      <th></th>\n",
       "      <th></th>\n",
       "      <th></th>\n",
       "    </tr>\n",
       "  </thead>\n",
       "  <tbody>\n",
       "    <tr>\n",
       "      <th>Argentina</th>\n",
       "      <td>93.40</td>\n",
       "      <td>80.00</td>\n",
       "      <td>77.10</td>\n",
       "      <td>81.20</td>\n",
       "      <td>63.50</td>\n",
       "      <td>72.40</td>\n",
       "      <td>67.80</td>\n",
       "      <td>84.10</td>\n",
       "      <td>93.30</td>\n",
       "      <td>118.40</td>\n",
       "      <td>TCR</td>\n",
       "    </tr>\n",
       "    <tr>\n",
       "      <th>Australia</th>\n",
       "      <td>106.96</td>\n",
       "      <td>109.03</td>\n",
       "      <td>103.45</td>\n",
       "      <td>98.32</td>\n",
       "      <td>89.85</td>\n",
       "      <td>90.93</td>\n",
       "      <td>93.69</td>\n",
       "      <td>89.95</td>\n",
       "      <td>86.01</td>\n",
       "      <td>85.36</td>\n",
       "      <td>TCR</td>\n",
       "    </tr>\n",
       "  </tbody>\n",
       "</table>\n",
       "</div>"
      ],
      "text/plain": [
       "                2011    2012    2013   2014   2015   2016   2017   2018  \\\n",
       "Country Name                                                              \n",
       "Argentina      93.40   80.00   77.10  81.20  63.50  72.40  67.80  84.10   \n",
       "Australia     106.96  109.03  103.45  98.32  89.85  90.93  93.69  89.95   \n",
       "\n",
       "               2019    2020 Variable  \n",
       "Country Name                          \n",
       "Argentina     93.30  118.40      TCR  \n",
       "Australia     86.01   85.36      TCR  "
      ]
     },
     "execution_count": 9,
     "metadata": {},
     "output_type": "execute_result"
    }
   ],
   "source": [
    "#unidos.transpose()\n",
    "unidos.head(2)"
   ]
  },
  {
   "cell_type": "code",
   "execution_count": 10,
   "id": "69288d15",
   "metadata": {},
   "outputs": [
    {
     "data": {
      "text/html": [
       "<div>\n",
       "<style scoped>\n",
       "    .dataframe tbody tr th:only-of-type {\n",
       "        vertical-align: middle;\n",
       "    }\n",
       "\n",
       "    .dataframe tbody tr th {\n",
       "        vertical-align: top;\n",
       "    }\n",
       "\n",
       "    .dataframe thead th {\n",
       "        text-align: right;\n",
       "    }\n",
       "</style>\n",
       "<table border=\"1\" class=\"dataframe\">\n",
       "  <thead>\n",
       "    <tr style=\"text-align: right;\">\n",
       "      <th></th>\n",
       "      <th>2011</th>\n",
       "      <th>2012</th>\n",
       "      <th>2013</th>\n",
       "      <th>2014</th>\n",
       "      <th>2015</th>\n",
       "      <th>2016</th>\n",
       "      <th>2017</th>\n",
       "      <th>2018</th>\n",
       "      <th>2019</th>\n",
       "      <th>2020</th>\n",
       "      <th>Variable</th>\n",
       "    </tr>\n",
       "    <tr>\n",
       "      <th>Country Name</th>\n",
       "      <th></th>\n",
       "      <th></th>\n",
       "      <th></th>\n",
       "      <th></th>\n",
       "      <th></th>\n",
       "      <th></th>\n",
       "      <th></th>\n",
       "      <th></th>\n",
       "      <th></th>\n",
       "      <th></th>\n",
       "      <th></th>\n",
       "    </tr>\n",
       "  </thead>\n",
       "  <tbody>\n",
       "    <tr>\n",
       "      <th>Argentina</th>\n",
       "      <td>93.40</td>\n",
       "      <td>80.00</td>\n",
       "      <td>77.10</td>\n",
       "      <td>81.20</td>\n",
       "      <td>63.50</td>\n",
       "      <td>72.40</td>\n",
       "      <td>67.80</td>\n",
       "      <td>84.10</td>\n",
       "      <td>93.30</td>\n",
       "      <td>118.40</td>\n",
       "      <td>TCR</td>\n",
       "    </tr>\n",
       "    <tr>\n",
       "      <th>Australia</th>\n",
       "      <td>106.96</td>\n",
       "      <td>109.03</td>\n",
       "      <td>103.45</td>\n",
       "      <td>98.32</td>\n",
       "      <td>89.85</td>\n",
       "      <td>90.93</td>\n",
       "      <td>93.69</td>\n",
       "      <td>89.95</td>\n",
       "      <td>86.01</td>\n",
       "      <td>85.36</td>\n",
       "      <td>TCR</td>\n",
       "    </tr>\n",
       "    <tr>\n",
       "      <th>Bahamas</th>\n",
       "      <td>99.34</td>\n",
       "      <td>99.26</td>\n",
       "      <td>99.01</td>\n",
       "      <td>99.00</td>\n",
       "      <td>102.26</td>\n",
       "      <td>101.33</td>\n",
       "      <td>100.71</td>\n",
       "      <td>100.49</td>\n",
       "      <td>101.85</td>\n",
       "      <td>100.28</td>\n",
       "      <td>TCR</td>\n",
       "    </tr>\n",
       "    <tr>\n",
       "      <th>Belice</th>\n",
       "      <td>95.37</td>\n",
       "      <td>96.98</td>\n",
       "      <td>95.40</td>\n",
       "      <td>96.35</td>\n",
       "      <td>102.61</td>\n",
       "      <td>104.38</td>\n",
       "      <td>102.63</td>\n",
       "      <td>99.90</td>\n",
       "      <td>100.10</td>\n",
       "      <td>99.54</td>\n",
       "      <td>TCR</td>\n",
       "    </tr>\n",
       "    <tr>\n",
       "      <th>Bolivia</th>\n",
       "      <td>102.29</td>\n",
       "      <td>106.66</td>\n",
       "      <td>112.27</td>\n",
       "      <td>120.09</td>\n",
       "      <td>137.69</td>\n",
       "      <td>143.32</td>\n",
       "      <td>140.12</td>\n",
       "      <td>143.26</td>\n",
       "      <td>149.84</td>\n",
       "      <td>157.44</td>\n",
       "      <td>TCR</td>\n",
       "    </tr>\n",
       "    <tr>\n",
       "      <th>Brasil</th>\n",
       "      <td>103.18</td>\n",
       "      <td>92.01</td>\n",
       "      <td>86.43</td>\n",
       "      <td>84.59</td>\n",
       "      <td>69.62</td>\n",
       "      <td>73.04</td>\n",
       "      <td>79.26</td>\n",
       "      <td>70.98</td>\n",
       "      <td>69.68</td>\n",
       "      <td>55.31</td>\n",
       "      <td>TCR</td>\n",
       "    </tr>\n",
       "    <tr>\n",
       "      <th>Bulgaria</th>\n",
       "      <td>101.45</td>\n",
       "      <td>100.02</td>\n",
       "      <td>100.92</td>\n",
       "      <td>100.11</td>\n",
       "      <td>96.82</td>\n",
       "      <td>96.97</td>\n",
       "      <td>98.04</td>\n",
       "      <td>101.31</td>\n",
       "      <td>101.82</td>\n",
       "      <td>104.68</td>\n",
       "      <td>TCR</td>\n",
       "    </tr>\n",
       "    <tr>\n",
       "      <th>Camerún</th>\n",
       "      <td>100.22</td>\n",
       "      <td>96.46</td>\n",
       "      <td>98.92</td>\n",
       "      <td>99.72</td>\n",
       "      <td>93.54</td>\n",
       "      <td>95.64</td>\n",
       "      <td>96.53</td>\n",
       "      <td>97.92</td>\n",
       "      <td>96.85</td>\n",
       "      <td>99.85</td>\n",
       "      <td>TCR</td>\n",
       "    </tr>\n",
       "    <tr>\n",
       "      <th>Canadá</th>\n",
       "      <td>101.56</td>\n",
       "      <td>101.08</td>\n",
       "      <td>97.48</td>\n",
       "      <td>91.48</td>\n",
       "      <td>83.13</td>\n",
       "      <td>81.53</td>\n",
       "      <td>82.75</td>\n",
       "      <td>82.30</td>\n",
       "      <td>81.52</td>\n",
       "      <td>80.63</td>\n",
       "      <td>TCR</td>\n",
       "    </tr>\n",
       "    <tr>\n",
       "      <th>Chile</th>\n",
       "      <td>100.71</td>\n",
       "      <td>102.90</td>\n",
       "      <td>101.35</td>\n",
       "      <td>91.87</td>\n",
       "      <td>90.99</td>\n",
       "      <td>92.62</td>\n",
       "      <td>95.74</td>\n",
       "      <td>97.10</td>\n",
       "      <td>92.52</td>\n",
       "      <td>84.86</td>\n",
       "      <td>TCR</td>\n",
       "    </tr>\n",
       "    <tr>\n",
       "      <th>China</th>\n",
       "      <td>102.69</td>\n",
       "      <td>108.68</td>\n",
       "      <td>114.62</td>\n",
       "      <td>118.31</td>\n",
       "      <td>129.97</td>\n",
       "      <td>123.67</td>\n",
       "      <td>120.09</td>\n",
       "      <td>121.74</td>\n",
       "      <td>120.89</td>\n",
       "      <td>123.44</td>\n",
       "      <td>TCR</td>\n",
       "    </tr>\n",
       "    <tr>\n",
       "      <th>Colombia</th>\n",
       "      <td>100.13</td>\n",
       "      <td>105.34</td>\n",
       "      <td>101.29</td>\n",
       "      <td>95.87</td>\n",
       "      <td>77.62</td>\n",
       "      <td>73.99</td>\n",
       "      <td>76.44</td>\n",
       "      <td>77.23</td>\n",
       "      <td>72.71</td>\n",
       "      <td>67.05</td>\n",
       "      <td>TCR</td>\n",
       "    </tr>\n",
       "    <tr>\n",
       "      <th>Costa Rica</th>\n",
       "      <td>101.82</td>\n",
       "      <td>106.19</td>\n",
       "      <td>110.50</td>\n",
       "      <td>106.31</td>\n",
       "      <td>114.59</td>\n",
       "      <td>113.79</td>\n",
       "      <td>108.53</td>\n",
       "      <td>105.74</td>\n",
       "      <td>106.42</td>\n",
       "      <td>107.30</td>\n",
       "      <td>TCR</td>\n",
       "    </tr>\n",
       "    <tr>\n",
       "      <th>Dominica</th>\n",
       "      <td>95.20</td>\n",
       "      <td>95.55</td>\n",
       "      <td>94.52</td>\n",
       "      <td>94.22</td>\n",
       "      <td>98.27</td>\n",
       "      <td>101.84</td>\n",
       "      <td>102.61</td>\n",
       "      <td>101.85</td>\n",
       "      <td>103.01</td>\n",
       "      <td>94.36</td>\n",
       "      <td>TCR</td>\n",
       "    </tr>\n",
       "    <tr>\n",
       "      <th>Granada</th>\n",
       "      <td>97.06</td>\n",
       "      <td>97.71</td>\n",
       "      <td>96.46</td>\n",
       "      <td>93.63</td>\n",
       "      <td>97.02</td>\n",
       "      <td>99.15</td>\n",
       "      <td>97.79</td>\n",
       "      <td>95.43</td>\n",
       "      <td>96.12</td>\n",
       "      <td>94.16</td>\n",
       "      <td>TCR</td>\n",
       "    </tr>\n",
       "    <tr>\n",
       "      <th>Guyana</th>\n",
       "      <td>97.76</td>\n",
       "      <td>99.27</td>\n",
       "      <td>99.58</td>\n",
       "      <td>99.08</td>\n",
       "      <td>105.43</td>\n",
       "      <td>107.28</td>\n",
       "      <td>107.04</td>\n",
       "      <td>104.61</td>\n",
       "      <td>107.48</td>\n",
       "      <td>108.66</td>\n",
       "      <td>TCR</td>\n",
       "    </tr>\n",
       "    <tr>\n",
       "      <th>Japón</th>\n",
       "      <td>101.13</td>\n",
       "      <td>99.89</td>\n",
       "      <td>79.64</td>\n",
       "      <td>74.58</td>\n",
       "      <td>69.42</td>\n",
       "      <td>78.85</td>\n",
       "      <td>75.03</td>\n",
       "      <td>74.37</td>\n",
       "      <td>76.53</td>\n",
       "      <td>77.25</td>\n",
       "      <td>TCR</td>\n",
       "    </tr>\n",
       "    <tr>\n",
       "      <th>México</th>\n",
       "      <td>99.80</td>\n",
       "      <td>96.63</td>\n",
       "      <td>102.27</td>\n",
       "      <td>101.24</td>\n",
       "      <td>90.75</td>\n",
       "      <td>79.03</td>\n",
       "      <td>80.88</td>\n",
       "      <td>80.99</td>\n",
       "      <td>83.69</td>\n",
       "      <td>77.35</td>\n",
       "      <td>TCR</td>\n",
       "    </tr>\n",
       "    <tr>\n",
       "      <th>Nicaragua</th>\n",
       "      <td>95.88</td>\n",
       "      <td>97.43</td>\n",
       "      <td>97.23</td>\n",
       "      <td>97.32</td>\n",
       "      <td>101.99</td>\n",
       "      <td>102.10</td>\n",
       "      <td>98.33</td>\n",
       "      <td>95.57</td>\n",
       "      <td>95.54</td>\n",
       "      <td>95.72</td>\n",
       "      <td>TCR</td>\n",
       "    </tr>\n",
       "    <tr>\n",
       "      <th>Noruega</th>\n",
       "      <td>100.39</td>\n",
       "      <td>99.60</td>\n",
       "      <td>98.10</td>\n",
       "      <td>93.19</td>\n",
       "      <td>84.31</td>\n",
       "      <td>84.82</td>\n",
       "      <td>85.65</td>\n",
       "      <td>86.06</td>\n",
       "      <td>83.74</td>\n",
       "      <td>78.20</td>\n",
       "      <td>TCR</td>\n",
       "    </tr>\n",
       "    <tr>\n",
       "      <th>Nueva Zelandia</th>\n",
       "      <td>104.19</td>\n",
       "      <td>107.71</td>\n",
       "      <td>109.98</td>\n",
       "      <td>112.87</td>\n",
       "      <td>104.98</td>\n",
       "      <td>105.85</td>\n",
       "      <td>107.38</td>\n",
       "      <td>102.87</td>\n",
       "      <td>101.35</td>\n",
       "      <td>100.57</td>\n",
       "      <td>TCR</td>\n",
       "    </tr>\n",
       "    <tr>\n",
       "      <th>Paraguay</th>\n",
       "      <td>112.19</td>\n",
       "      <td>110.27</td>\n",
       "      <td>115.33</td>\n",
       "      <td>117.52</td>\n",
       "      <td>114.81</td>\n",
       "      <td>110.83</td>\n",
       "      <td>109.94</td>\n",
       "      <td>113.52</td>\n",
       "      <td>110.21</td>\n",
       "      <td>108.86</td>\n",
       "      <td>TCR</td>\n",
       "    </tr>\n",
       "    <tr>\n",
       "      <th>Polonia</th>\n",
       "      <td>98.43</td>\n",
       "      <td>95.68</td>\n",
       "      <td>96.26</td>\n",
       "      <td>96.86</td>\n",
       "      <td>92.61</td>\n",
       "      <td>88.86</td>\n",
       "      <td>91.83</td>\n",
       "      <td>93.37</td>\n",
       "      <td>92.18</td>\n",
       "      <td>92.80</td>\n",
       "      <td>TCR</td>\n",
       "    </tr>\n",
       "    <tr>\n",
       "      <th>Portugal</th>\n",
       "      <td>100.81</td>\n",
       "      <td>99.28</td>\n",
       "      <td>99.28</td>\n",
       "      <td>98.47</td>\n",
       "      <td>95.42</td>\n",
       "      <td>96.72</td>\n",
       "      <td>96.81</td>\n",
       "      <td>97.80</td>\n",
       "      <td>96.27</td>\n",
       "      <td>97.10</td>\n",
       "      <td>TCR</td>\n",
       "    </tr>\n",
       "    <tr>\n",
       "      <th>República Dominicana</th>\n",
       "      <td>96.42</td>\n",
       "      <td>96.33</td>\n",
       "      <td>93.55</td>\n",
       "      <td>91.64</td>\n",
       "      <td>94.20</td>\n",
       "      <td>93.77</td>\n",
       "      <td>90.88</td>\n",
       "      <td>87.85</td>\n",
       "      <td>86.83</td>\n",
       "      <td>81.02</td>\n",
       "      <td>TCR</td>\n",
       "    </tr>\n",
       "    <tr>\n",
       "      <th>Sudáfrica</th>\n",
       "      <td>98.28</td>\n",
       "      <td>92.44</td>\n",
       "      <td>82.09</td>\n",
       "      <td>77.07</td>\n",
       "      <td>75.15</td>\n",
       "      <td>70.43</td>\n",
       "      <td>79.36</td>\n",
       "      <td>80.71</td>\n",
       "      <td>78.14</td>\n",
       "      <td>70.92</td>\n",
       "      <td>TCR</td>\n",
       "    </tr>\n",
       "    <tr>\n",
       "      <th>Suecia</th>\n",
       "      <td>105.84</td>\n",
       "      <td>105.13</td>\n",
       "      <td>106.41</td>\n",
       "      <td>100.75</td>\n",
       "      <td>93.33</td>\n",
       "      <td>93.89</td>\n",
       "      <td>92.98</td>\n",
       "      <td>89.17</td>\n",
       "      <td>85.65</td>\n",
       "      <td>87.73</td>\n",
       "      <td>TCR</td>\n",
       "    </tr>\n",
       "    <tr>\n",
       "      <th>Suiza</th>\n",
       "      <td>109.47</td>\n",
       "      <td>105.34</td>\n",
       "      <td>103.60</td>\n",
       "      <td>104.24</td>\n",
       "      <td>110.50</td>\n",
       "      <td>108.14</td>\n",
       "      <td>106.00</td>\n",
       "      <td>103.07</td>\n",
       "      <td>104.17</td>\n",
       "      <td>108.13</td>\n",
       "      <td>TCR</td>\n",
       "    </tr>\n",
       "    <tr>\n",
       "      <th>Trinidad y Tobago</th>\n",
       "      <td>98.71</td>\n",
       "      <td>107.32</td>\n",
       "      <td>111.09</td>\n",
       "      <td>117.53</td>\n",
       "      <td>132.49</td>\n",
       "      <td>131.35</td>\n",
       "      <td>127.97</td>\n",
       "      <td>126.31</td>\n",
       "      <td>128.78</td>\n",
       "      <td>130.35</td>\n",
       "      <td>TCR</td>\n",
       "    </tr>\n",
       "    <tr>\n",
       "      <th>Uruguay</th>\n",
       "      <td>102.07</td>\n",
       "      <td>104.80</td>\n",
       "      <td>111.09</td>\n",
       "      <td>106.77</td>\n",
       "      <td>107.47</td>\n",
       "      <td>108.47</td>\n",
       "      <td>115.01</td>\n",
       "      <td>116.75</td>\n",
       "      <td>113.15</td>\n",
       "      <td>107.77</td>\n",
       "      <td>TCR</td>\n",
       "    </tr>\n",
       "    <tr>\n",
       "      <th>Argentina</th>\n",
       "      <td>10883.30</td>\n",
       "      <td>10649.80</td>\n",
       "      <td>10784.60</td>\n",
       "      <td>10398.70</td>\n",
       "      <td>10568.20</td>\n",
       "      <td>10239.50</td>\n",
       "      <td>10419.50</td>\n",
       "      <td>10049.60</td>\n",
       "      <td>9742.50</td>\n",
       "      <td>8692.70</td>\n",
       "      <td>PBI</td>\n",
       "    </tr>\n",
       "    <tr>\n",
       "      <th>Australia</th>\n",
       "      <td>52567.80</td>\n",
       "      <td>53682.00</td>\n",
       "      <td>54129.90</td>\n",
       "      <td>54679.40</td>\n",
       "      <td>55079.90</td>\n",
       "      <td>55728.70</td>\n",
       "      <td>56058.50</td>\n",
       "      <td>56832.10</td>\n",
       "      <td>57183.40</td>\n",
       "      <td>56307.30</td>\n",
       "      <td>PBI</td>\n",
       "    </tr>\n",
       "    <tr>\n",
       "      <th>Bahamas</th>\n",
       "      <td>28248.50</td>\n",
       "      <td>28800.20</td>\n",
       "      <td>27755.30</td>\n",
       "      <td>27785.90</td>\n",
       "      <td>27583.90</td>\n",
       "      <td>27706.50</td>\n",
       "      <td>28283.40</td>\n",
       "      <td>28845.60</td>\n",
       "      <td>28908.30</td>\n",
       "      <td>23971.10</td>\n",
       "      <td>PBI</td>\n",
       "    </tr>\n",
       "    <tr>\n",
       "      <th>Belice</th>\n",
       "      <td>4250.40</td>\n",
       "      <td>4253.10</td>\n",
       "      <td>4212.40</td>\n",
       "      <td>4287.40</td>\n",
       "      <td>4308.20</td>\n",
       "      <td>4219.40</td>\n",
       "      <td>4211.60</td>\n",
       "      <td>4251.60</td>\n",
       "      <td>4245.70</td>\n",
       "      <td>3583.00</td>\n",
       "      <td>PBI</td>\n",
       "    </tr>\n",
       "    <tr>\n",
       "      <th>Bolivia</th>\n",
       "      <td>2024.10</td>\n",
       "      <td>2094.00</td>\n",
       "      <td>2201.40</td>\n",
       "      <td>2286.00</td>\n",
       "      <td>2361.10</td>\n",
       "      <td>2425.60</td>\n",
       "      <td>2491.00</td>\n",
       "      <td>2559.50</td>\n",
       "      <td>2579.90</td>\n",
       "      <td>2345.50</td>\n",
       "      <td>PBI</td>\n",
       "    </tr>\n",
       "    <tr>\n",
       "      <th>Brasil</th>\n",
       "      <td>11627.80</td>\n",
       "      <td>11745.80</td>\n",
       "      <td>11993.50</td>\n",
       "      <td>11951.20</td>\n",
       "      <td>11431.20</td>\n",
       "      <td>10966.00</td>\n",
       "      <td>11021.70</td>\n",
       "      <td>11130.70</td>\n",
       "      <td>11203.30</td>\n",
       "      <td>10672.20</td>\n",
       "      <td>PBI</td>\n",
       "    </tr>\n",
       "    <tr>\n",
       "      <th>Bulgaria</th>\n",
       "      <td>7017.70</td>\n",
       "      <td>7083.60</td>\n",
       "      <td>7146.60</td>\n",
       "      <td>7322.80</td>\n",
       "      <td>7663.70</td>\n",
       "      <td>8012.50</td>\n",
       "      <td>8354.00</td>\n",
       "      <td>8674.70</td>\n",
       "      <td>9058.70</td>\n",
       "      <td>8743.20</td>\n",
       "      <td>PBI</td>\n",
       "    </tr>\n",
       "    <tr>\n",
       "      <th>Camerún</th>\n",
       "      <td>1303.40</td>\n",
       "      <td>1325.90</td>\n",
       "      <td>1360.10</td>\n",
       "      <td>1401.80</td>\n",
       "      <td>1441.80</td>\n",
       "      <td>1469.20</td>\n",
       "      <td>1481.70</td>\n",
       "      <td>1502.20</td>\n",
       "      <td>1518.30</td>\n",
       "      <td>1490.80</td>\n",
       "      <td>PBI</td>\n",
       "    </tr>\n",
       "    <tr>\n",
       "      <th>Canadá</th>\n",
       "      <td>48581.00</td>\n",
       "      <td>48903.20</td>\n",
       "      <td>49516.30</td>\n",
       "      <td>50427.90</td>\n",
       "      <td>50382.90</td>\n",
       "      <td>50314.40</td>\n",
       "      <td>51225.70</td>\n",
       "      <td>51734.30</td>\n",
       "      <td>51956.80</td>\n",
       "      <td>48617.10</td>\n",
       "      <td>PBI</td>\n",
       "    </tr>\n",
       "    <tr>\n",
       "      <th>Chile</th>\n",
       "      <td>13455.80</td>\n",
       "      <td>14035.70</td>\n",
       "      <td>14461.20</td>\n",
       "      <td>14561.30</td>\n",
       "      <td>14722.40</td>\n",
       "      <td>14777.10</td>\n",
       "      <td>14740.60</td>\n",
       "      <td>15076.90</td>\n",
       "      <td>15039.90</td>\n",
       "      <td>14050.20</td>\n",
       "      <td>PBI</td>\n",
       "    </tr>\n",
       "  </tbody>\n",
       "</table>\n",
       "</div>"
      ],
      "text/plain": [
       "                          2011      2012      2013      2014      2015  \\\n",
       "Country Name                                                             \n",
       "Argentina                93.40     80.00     77.10     81.20     63.50   \n",
       "Australia               106.96    109.03    103.45     98.32     89.85   \n",
       "Bahamas                  99.34     99.26     99.01     99.00    102.26   \n",
       "Belice                   95.37     96.98     95.40     96.35    102.61   \n",
       "Bolivia                 102.29    106.66    112.27    120.09    137.69   \n",
       "Brasil                  103.18     92.01     86.43     84.59     69.62   \n",
       "Bulgaria                101.45    100.02    100.92    100.11     96.82   \n",
       "Camerún                 100.22     96.46     98.92     99.72     93.54   \n",
       "Canadá                  101.56    101.08     97.48     91.48     83.13   \n",
       "Chile                   100.71    102.90    101.35     91.87     90.99   \n",
       "China                   102.69    108.68    114.62    118.31    129.97   \n",
       "Colombia                100.13    105.34    101.29     95.87     77.62   \n",
       "Costa Rica              101.82    106.19    110.50    106.31    114.59   \n",
       "Dominica                 95.20     95.55     94.52     94.22     98.27   \n",
       "Granada                  97.06     97.71     96.46     93.63     97.02   \n",
       "Guyana                   97.76     99.27     99.58     99.08    105.43   \n",
       "Japón                   101.13     99.89     79.64     74.58     69.42   \n",
       "México                   99.80     96.63    102.27    101.24     90.75   \n",
       "Nicaragua                95.88     97.43     97.23     97.32    101.99   \n",
       "Noruega                 100.39     99.60     98.10     93.19     84.31   \n",
       "Nueva Zelandia          104.19    107.71    109.98    112.87    104.98   \n",
       "Paraguay                112.19    110.27    115.33    117.52    114.81   \n",
       "Polonia                  98.43     95.68     96.26     96.86     92.61   \n",
       "Portugal                100.81     99.28     99.28     98.47     95.42   \n",
       "República Dominicana     96.42     96.33     93.55     91.64     94.20   \n",
       "Sudáfrica                98.28     92.44     82.09     77.07     75.15   \n",
       "Suecia                  105.84    105.13    106.41    100.75     93.33   \n",
       "Suiza                   109.47    105.34    103.60    104.24    110.50   \n",
       "Trinidad y Tobago        98.71    107.32    111.09    117.53    132.49   \n",
       "Uruguay                 102.07    104.80    111.09    106.77    107.47   \n",
       "Argentina             10883.30  10649.80  10784.60  10398.70  10568.20   \n",
       "Australia             52567.80  53682.00  54129.90  54679.40  55079.90   \n",
       "Bahamas               28248.50  28800.20  27755.30  27785.90  27583.90   \n",
       "Belice                 4250.40   4253.10   4212.40   4287.40   4308.20   \n",
       "Bolivia                2024.10   2094.00   2201.40   2286.00   2361.10   \n",
       "Brasil                11627.80  11745.80  11993.50  11951.20  11431.20   \n",
       "Bulgaria               7017.70   7083.60   7146.60   7322.80   7663.70   \n",
       "Camerún                1303.40   1325.90   1360.10   1401.80   1441.80   \n",
       "Canadá                48581.00  48903.20  49516.30  50427.90  50382.90   \n",
       "Chile                 13455.80  14035.70  14461.20  14561.30  14722.40   \n",
       "\n",
       "                          2016      2017      2018      2019      2020  \\\n",
       "Country Name                                                             \n",
       "Argentina                72.40     67.80     84.10     93.30    118.40   \n",
       "Australia                90.93     93.69     89.95     86.01     85.36   \n",
       "Bahamas                 101.33    100.71    100.49    101.85    100.28   \n",
       "Belice                  104.38    102.63     99.90    100.10     99.54   \n",
       "Bolivia                 143.32    140.12    143.26    149.84    157.44   \n",
       "Brasil                   73.04     79.26     70.98     69.68     55.31   \n",
       "Bulgaria                 96.97     98.04    101.31    101.82    104.68   \n",
       "Camerún                  95.64     96.53     97.92     96.85     99.85   \n",
       "Canadá                   81.53     82.75     82.30     81.52     80.63   \n",
       "Chile                    92.62     95.74     97.10     92.52     84.86   \n",
       "China                   123.67    120.09    121.74    120.89    123.44   \n",
       "Colombia                 73.99     76.44     77.23     72.71     67.05   \n",
       "Costa Rica              113.79    108.53    105.74    106.42    107.30   \n",
       "Dominica                101.84    102.61    101.85    103.01     94.36   \n",
       "Granada                  99.15     97.79     95.43     96.12     94.16   \n",
       "Guyana                  107.28    107.04    104.61    107.48    108.66   \n",
       "Japón                    78.85     75.03     74.37     76.53     77.25   \n",
       "México                   79.03     80.88     80.99     83.69     77.35   \n",
       "Nicaragua               102.10     98.33     95.57     95.54     95.72   \n",
       "Noruega                  84.82     85.65     86.06     83.74     78.20   \n",
       "Nueva Zelandia          105.85    107.38    102.87    101.35    100.57   \n",
       "Paraguay                110.83    109.94    113.52    110.21    108.86   \n",
       "Polonia                  88.86     91.83     93.37     92.18     92.80   \n",
       "Portugal                 96.72     96.81     97.80     96.27     97.10   \n",
       "República Dominicana     93.77     90.88     87.85     86.83     81.02   \n",
       "Sudáfrica                70.43     79.36     80.71     78.14     70.92   \n",
       "Suecia                   93.89     92.98     89.17     85.65     87.73   \n",
       "Suiza                   108.14    106.00    103.07    104.17    108.13   \n",
       "Trinidad y Tobago       131.35    127.97    126.31    128.78    130.35   \n",
       "Uruguay                 108.47    115.01    116.75    113.15    107.77   \n",
       "Argentina             10239.50  10419.50  10049.60   9742.50   8692.70   \n",
       "Australia             55728.70  56058.50  56832.10  57183.40  56307.30   \n",
       "Bahamas               27706.50  28283.40  28845.60  28908.30  23971.10   \n",
       "Belice                 4219.40   4211.60   4251.60   4245.70   3583.00   \n",
       "Bolivia                2425.60   2491.00   2559.50   2579.90   2345.50   \n",
       "Brasil                10966.00  11021.70  11130.70  11203.30  10672.20   \n",
       "Bulgaria               8012.50   8354.00   8674.70   9058.70   8743.20   \n",
       "Camerún                1469.20   1481.70   1502.20   1518.30   1490.80   \n",
       "Canadá                50314.40  51225.70  51734.30  51956.80  48617.10   \n",
       "Chile                 14777.10  14740.60  15076.90  15039.90  14050.20   \n",
       "\n",
       "                     Variable  \n",
       "Country Name                   \n",
       "Argentina                 TCR  \n",
       "Australia                 TCR  \n",
       "Bahamas                   TCR  \n",
       "Belice                    TCR  \n",
       "Bolivia                   TCR  \n",
       "Brasil                    TCR  \n",
       "Bulgaria                  TCR  \n",
       "Camerún                   TCR  \n",
       "Canadá                    TCR  \n",
       "Chile                     TCR  \n",
       "China                     TCR  \n",
       "Colombia                  TCR  \n",
       "Costa Rica                TCR  \n",
       "Dominica                  TCR  \n",
       "Granada                   TCR  \n",
       "Guyana                    TCR  \n",
       "Japón                     TCR  \n",
       "México                    TCR  \n",
       "Nicaragua                 TCR  \n",
       "Noruega                   TCR  \n",
       "Nueva Zelandia            TCR  \n",
       "Paraguay                  TCR  \n",
       "Polonia                   TCR  \n",
       "Portugal                  TCR  \n",
       "República Dominicana      TCR  \n",
       "Sudáfrica                 TCR  \n",
       "Suecia                    TCR  \n",
       "Suiza                     TCR  \n",
       "Trinidad y Tobago         TCR  \n",
       "Uruguay                   TCR  \n",
       "Argentina                 PBI  \n",
       "Australia                 PBI  \n",
       "Bahamas                   PBI  \n",
       "Belice                    PBI  \n",
       "Bolivia                   PBI  \n",
       "Brasil                    PBI  \n",
       "Bulgaria                  PBI  \n",
       "Camerún                   PBI  \n",
       "Canadá                    PBI  \n",
       "Chile                     PBI  "
      ]
     },
     "execution_count": 10,
     "metadata": {},
     "output_type": "execute_result"
    }
   ],
   "source": [
    "unidos.head(40)"
   ]
  },
  {
   "cell_type": "code",
   "execution_count": 12,
   "id": "f26e47b1",
   "metadata": {},
   "outputs": [
    {
     "data": {
      "text/html": [
       "<div>\n",
       "<style scoped>\n",
       "    .dataframe tbody tr th:only-of-type {\n",
       "        vertical-align: middle;\n",
       "    }\n",
       "\n",
       "    .dataframe tbody tr th {\n",
       "        vertical-align: top;\n",
       "    }\n",
       "\n",
       "    .dataframe thead th {\n",
       "        text-align: right;\n",
       "    }\n",
       "</style>\n",
       "<table border=\"1\" class=\"dataframe\">\n",
       "  <thead>\n",
       "    <tr style=\"text-align: right;\">\n",
       "      <th></th>\n",
       "      <th>Country Name</th>\n",
       "      <th>2011</th>\n",
       "      <th>2012</th>\n",
       "      <th>2013</th>\n",
       "      <th>2014</th>\n",
       "      <th>2015</th>\n",
       "      <th>2016</th>\n",
       "      <th>2017</th>\n",
       "      <th>2018</th>\n",
       "      <th>2019</th>\n",
       "      <th>2020</th>\n",
       "      <th>Variable</th>\n",
       "    </tr>\n",
       "  </thead>\n",
       "  <tbody>\n",
       "    <tr>\n",
       "      <th>0</th>\n",
       "      <td>Argentina</td>\n",
       "      <td>93.40</td>\n",
       "      <td>80.00</td>\n",
       "      <td>77.10</td>\n",
       "      <td>81.20</td>\n",
       "      <td>63.50</td>\n",
       "      <td>72.40</td>\n",
       "      <td>67.80</td>\n",
       "      <td>84.10</td>\n",
       "      <td>93.30</td>\n",
       "      <td>118.40</td>\n",
       "      <td>TCR</td>\n",
       "    </tr>\n",
       "    <tr>\n",
       "      <th>1</th>\n",
       "      <td>Australia</td>\n",
       "      <td>106.96</td>\n",
       "      <td>109.03</td>\n",
       "      <td>103.45</td>\n",
       "      <td>98.32</td>\n",
       "      <td>89.85</td>\n",
       "      <td>90.93</td>\n",
       "      <td>93.69</td>\n",
       "      <td>89.95</td>\n",
       "      <td>86.01</td>\n",
       "      <td>85.36</td>\n",
       "      <td>TCR</td>\n",
       "    </tr>\n",
       "    <tr>\n",
       "      <th>2</th>\n",
       "      <td>Bahamas</td>\n",
       "      <td>99.34</td>\n",
       "      <td>99.26</td>\n",
       "      <td>99.01</td>\n",
       "      <td>99.00</td>\n",
       "      <td>102.26</td>\n",
       "      <td>101.33</td>\n",
       "      <td>100.71</td>\n",
       "      <td>100.49</td>\n",
       "      <td>101.85</td>\n",
       "      <td>100.28</td>\n",
       "      <td>TCR</td>\n",
       "    </tr>\n",
       "  </tbody>\n",
       "</table>\n",
       "</div>"
      ],
      "text/plain": [
       "  Country Name    2011    2012    2013   2014    2015    2016    2017    2018  \\\n",
       "0    Argentina   93.40   80.00   77.10  81.20   63.50   72.40   67.80   84.10   \n",
       "1    Australia  106.96  109.03  103.45  98.32   89.85   90.93   93.69   89.95   \n",
       "2      Bahamas   99.34   99.26   99.01  99.00  102.26  101.33  100.71  100.49   \n",
       "\n",
       "     2019    2020 Variable  \n",
       "0   93.30  118.40      TCR  \n",
       "1   86.01   85.36      TCR  \n",
       "2  101.85  100.28      TCR  "
      ]
     },
     "execution_count": 12,
     "metadata": {},
     "output_type": "execute_result"
    }
   ],
   "source": [
    "df_reset = unidos.reset_index()\n",
    "df_reset.head(3)"
   ]
  },
  {
   "cell_type": "code",
   "execution_count": 19,
   "id": "fad53edb",
   "metadata": {},
   "outputs": [],
   "source": [
    "final = (df_reset.set_index(['Country Name', 'Variable'])\n",
    "   .rename_axis(['Year'], axis=1)\n",
    "   .stack()\n",
    "   .unstack('Variable')\n",
    "   .reset_index())\n"
   ]
  },
  {
   "cell_type": "code",
   "execution_count": 21,
   "id": "c722587f",
   "metadata": {},
   "outputs": [
    {
     "data": {
      "text/html": [
       "<div>\n",
       "<style scoped>\n",
       "    .dataframe tbody tr th:only-of-type {\n",
       "        vertical-align: middle;\n",
       "    }\n",
       "\n",
       "    .dataframe tbody tr th {\n",
       "        vertical-align: top;\n",
       "    }\n",
       "\n",
       "    .dataframe thead th {\n",
       "        text-align: right;\n",
       "    }\n",
       "</style>\n",
       "<table border=\"1\" class=\"dataframe\">\n",
       "  <thead>\n",
       "    <tr style=\"text-align: right;\">\n",
       "      <th>Variable</th>\n",
       "      <th>Country Name</th>\n",
       "      <th>Year</th>\n",
       "      <th>PBI</th>\n",
       "      <th>TCR</th>\n",
       "    </tr>\n",
       "  </thead>\n",
       "  <tbody>\n",
       "    <tr>\n",
       "      <th>0</th>\n",
       "      <td>Argentina</td>\n",
       "      <td>2011</td>\n",
       "      <td>10883.3</td>\n",
       "      <td>93.40</td>\n",
       "    </tr>\n",
       "    <tr>\n",
       "      <th>1</th>\n",
       "      <td>Argentina</td>\n",
       "      <td>2012</td>\n",
       "      <td>10649.8</td>\n",
       "      <td>80.00</td>\n",
       "    </tr>\n",
       "    <tr>\n",
       "      <th>2</th>\n",
       "      <td>Argentina</td>\n",
       "      <td>2013</td>\n",
       "      <td>10784.6</td>\n",
       "      <td>77.10</td>\n",
       "    </tr>\n",
       "    <tr>\n",
       "      <th>3</th>\n",
       "      <td>Argentina</td>\n",
       "      <td>2014</td>\n",
       "      <td>10398.7</td>\n",
       "      <td>81.20</td>\n",
       "    </tr>\n",
       "    <tr>\n",
       "      <th>4</th>\n",
       "      <td>Argentina</td>\n",
       "      <td>2015</td>\n",
       "      <td>10568.2</td>\n",
       "      <td>63.50</td>\n",
       "    </tr>\n",
       "    <tr>\n",
       "      <th>5</th>\n",
       "      <td>Argentina</td>\n",
       "      <td>2016</td>\n",
       "      <td>10239.5</td>\n",
       "      <td>72.40</td>\n",
       "    </tr>\n",
       "    <tr>\n",
       "      <th>6</th>\n",
       "      <td>Argentina</td>\n",
       "      <td>2017</td>\n",
       "      <td>10419.5</td>\n",
       "      <td>67.80</td>\n",
       "    </tr>\n",
       "    <tr>\n",
       "      <th>7</th>\n",
       "      <td>Argentina</td>\n",
       "      <td>2018</td>\n",
       "      <td>10049.6</td>\n",
       "      <td>84.10</td>\n",
       "    </tr>\n",
       "    <tr>\n",
       "      <th>8</th>\n",
       "      <td>Argentina</td>\n",
       "      <td>2019</td>\n",
       "      <td>9742.5</td>\n",
       "      <td>93.30</td>\n",
       "    </tr>\n",
       "    <tr>\n",
       "      <th>9</th>\n",
       "      <td>Argentina</td>\n",
       "      <td>2020</td>\n",
       "      <td>8692.7</td>\n",
       "      <td>118.40</td>\n",
       "    </tr>\n",
       "    <tr>\n",
       "      <th>10</th>\n",
       "      <td>Australia</td>\n",
       "      <td>2011</td>\n",
       "      <td>52567.8</td>\n",
       "      <td>106.96</td>\n",
       "    </tr>\n",
       "    <tr>\n",
       "      <th>11</th>\n",
       "      <td>Australia</td>\n",
       "      <td>2012</td>\n",
       "      <td>53682.0</td>\n",
       "      <td>109.03</td>\n",
       "    </tr>\n",
       "    <tr>\n",
       "      <th>12</th>\n",
       "      <td>Australia</td>\n",
       "      <td>2013</td>\n",
       "      <td>54129.9</td>\n",
       "      <td>103.45</td>\n",
       "    </tr>\n",
       "    <tr>\n",
       "      <th>13</th>\n",
       "      <td>Australia</td>\n",
       "      <td>2014</td>\n",
       "      <td>54679.4</td>\n",
       "      <td>98.32</td>\n",
       "    </tr>\n",
       "    <tr>\n",
       "      <th>14</th>\n",
       "      <td>Australia</td>\n",
       "      <td>2015</td>\n",
       "      <td>55079.9</td>\n",
       "      <td>89.85</td>\n",
       "    </tr>\n",
       "    <tr>\n",
       "      <th>15</th>\n",
       "      <td>Australia</td>\n",
       "      <td>2016</td>\n",
       "      <td>55728.7</td>\n",
       "      <td>90.93</td>\n",
       "    </tr>\n",
       "    <tr>\n",
       "      <th>16</th>\n",
       "      <td>Australia</td>\n",
       "      <td>2017</td>\n",
       "      <td>56058.5</td>\n",
       "      <td>93.69</td>\n",
       "    </tr>\n",
       "    <tr>\n",
       "      <th>17</th>\n",
       "      <td>Australia</td>\n",
       "      <td>2018</td>\n",
       "      <td>56832.1</td>\n",
       "      <td>89.95</td>\n",
       "    </tr>\n",
       "    <tr>\n",
       "      <th>18</th>\n",
       "      <td>Australia</td>\n",
       "      <td>2019</td>\n",
       "      <td>57183.4</td>\n",
       "      <td>86.01</td>\n",
       "    </tr>\n",
       "    <tr>\n",
       "      <th>19</th>\n",
       "      <td>Australia</td>\n",
       "      <td>2020</td>\n",
       "      <td>56307.3</td>\n",
       "      <td>85.36</td>\n",
       "    </tr>\n",
       "    <tr>\n",
       "      <th>20</th>\n",
       "      <td>Bahamas</td>\n",
       "      <td>2011</td>\n",
       "      <td>28248.5</td>\n",
       "      <td>99.34</td>\n",
       "    </tr>\n",
       "    <tr>\n",
       "      <th>21</th>\n",
       "      <td>Bahamas</td>\n",
       "      <td>2012</td>\n",
       "      <td>28800.2</td>\n",
       "      <td>99.26</td>\n",
       "    </tr>\n",
       "    <tr>\n",
       "      <th>22</th>\n",
       "      <td>Bahamas</td>\n",
       "      <td>2013</td>\n",
       "      <td>27755.3</td>\n",
       "      <td>99.01</td>\n",
       "    </tr>\n",
       "    <tr>\n",
       "      <th>23</th>\n",
       "      <td>Bahamas</td>\n",
       "      <td>2014</td>\n",
       "      <td>27785.9</td>\n",
       "      <td>99.00</td>\n",
       "    </tr>\n",
       "    <tr>\n",
       "      <th>24</th>\n",
       "      <td>Bahamas</td>\n",
       "      <td>2015</td>\n",
       "      <td>27583.9</td>\n",
       "      <td>102.26</td>\n",
       "    </tr>\n",
       "    <tr>\n",
       "      <th>25</th>\n",
       "      <td>Bahamas</td>\n",
       "      <td>2016</td>\n",
       "      <td>27706.5</td>\n",
       "      <td>101.33</td>\n",
       "    </tr>\n",
       "    <tr>\n",
       "      <th>26</th>\n",
       "      <td>Bahamas</td>\n",
       "      <td>2017</td>\n",
       "      <td>28283.4</td>\n",
       "      <td>100.71</td>\n",
       "    </tr>\n",
       "    <tr>\n",
       "      <th>27</th>\n",
       "      <td>Bahamas</td>\n",
       "      <td>2018</td>\n",
       "      <td>28845.6</td>\n",
       "      <td>100.49</td>\n",
       "    </tr>\n",
       "    <tr>\n",
       "      <th>28</th>\n",
       "      <td>Bahamas</td>\n",
       "      <td>2019</td>\n",
       "      <td>28908.3</td>\n",
       "      <td>101.85</td>\n",
       "    </tr>\n",
       "    <tr>\n",
       "      <th>29</th>\n",
       "      <td>Bahamas</td>\n",
       "      <td>2020</td>\n",
       "      <td>23971.1</td>\n",
       "      <td>100.28</td>\n",
       "    </tr>\n",
       "  </tbody>\n",
       "</table>\n",
       "</div>"
      ],
      "text/plain": [
       "Variable Country Name  Year      PBI     TCR\n",
       "0           Argentina  2011  10883.3   93.40\n",
       "1           Argentina  2012  10649.8   80.00\n",
       "2           Argentina  2013  10784.6   77.10\n",
       "3           Argentina  2014  10398.7   81.20\n",
       "4           Argentina  2015  10568.2   63.50\n",
       "5           Argentina  2016  10239.5   72.40\n",
       "6           Argentina  2017  10419.5   67.80\n",
       "7           Argentina  2018  10049.6   84.10\n",
       "8           Argentina  2019   9742.5   93.30\n",
       "9           Argentina  2020   8692.7  118.40\n",
       "10          Australia  2011  52567.8  106.96\n",
       "11          Australia  2012  53682.0  109.03\n",
       "12          Australia  2013  54129.9  103.45\n",
       "13          Australia  2014  54679.4   98.32\n",
       "14          Australia  2015  55079.9   89.85\n",
       "15          Australia  2016  55728.7   90.93\n",
       "16          Australia  2017  56058.5   93.69\n",
       "17          Australia  2018  56832.1   89.95\n",
       "18          Australia  2019  57183.4   86.01\n",
       "19          Australia  2020  56307.3   85.36\n",
       "20            Bahamas  2011  28248.5   99.34\n",
       "21            Bahamas  2012  28800.2   99.26\n",
       "22            Bahamas  2013  27755.3   99.01\n",
       "23            Bahamas  2014  27785.9   99.00\n",
       "24            Bahamas  2015  27583.9  102.26\n",
       "25            Bahamas  2016  27706.5  101.33\n",
       "26            Bahamas  2017  28283.4  100.71\n",
       "27            Bahamas  2018  28845.6  100.49\n",
       "28            Bahamas  2019  28908.3  101.85\n",
       "29            Bahamas  2020  23971.1  100.28"
      ]
     },
     "execution_count": 21,
     "metadata": {},
     "output_type": "execute_result"
    }
   ],
   "source": [
    "final.head(30)"
   ]
  },
  {
   "cell_type": "code",
   "execution_count": null,
   "id": "89c4755c",
   "metadata": {},
   "outputs": [],
   "source": [
    "final['log_TCR_base10'] = np.log10(final['TCR'])\n",
    "final['log_PBI_base10'] =  np.log10(final['PBI'])"
   ]
  },
  {
   "cell_type": "code",
   "execution_count": 38,
   "id": "9d74128a",
   "metadata": {},
   "outputs": [
    {
     "data": {
      "application/vnd.plotly.v1+json": {
       "config": {
        "plotlyServerURL": "https://plotly.com"
       },
       "data": [
        {
         "hovertemplate": "<b>%{hovertext}</b><br><br>TCR=%{x}<br>PBI=%{y}<extra></extra>",
         "hovertext": [
          "Argentina",
          "Argentina",
          "Argentina",
          "Argentina",
          "Argentina",
          "Argentina",
          "Argentina",
          "Argentina",
          "Argentina",
          "Argentina",
          "Australia",
          "Australia",
          "Australia",
          "Australia",
          "Australia",
          "Australia",
          "Australia",
          "Australia",
          "Australia",
          "Australia",
          "Bahamas",
          "Bahamas",
          "Bahamas",
          "Bahamas",
          "Bahamas",
          "Bahamas",
          "Bahamas",
          "Bahamas",
          "Bahamas",
          "Bahamas",
          "Belice",
          "Belice",
          "Belice",
          "Belice",
          "Belice",
          "Belice",
          "Belice",
          "Belice",
          "Belice",
          "Belice",
          "Bolivia",
          "Bolivia",
          "Bolivia",
          "Bolivia",
          "Bolivia",
          "Bolivia",
          "Bolivia",
          "Bolivia",
          "Bolivia",
          "Bolivia",
          "Brasil",
          "Brasil",
          "Brasil",
          "Brasil",
          "Brasil",
          "Brasil",
          "Brasil",
          "Brasil",
          "Brasil",
          "Brasil",
          "Bulgaria",
          "Bulgaria",
          "Bulgaria",
          "Bulgaria",
          "Bulgaria",
          "Bulgaria",
          "Bulgaria",
          "Bulgaria",
          "Bulgaria",
          "Bulgaria",
          "Camerún",
          "Camerún",
          "Camerún",
          "Camerún",
          "Camerún",
          "Camerún",
          "Camerún",
          "Camerún",
          "Camerún",
          "Camerún",
          "Canadá",
          "Canadá",
          "Canadá",
          "Canadá",
          "Canadá",
          "Canadá",
          "Canadá",
          "Canadá",
          "Canadá",
          "Canadá",
          "Chile",
          "Chile",
          "Chile",
          "Chile",
          "Chile",
          "Chile",
          "Chile",
          "Chile",
          "Chile",
          "Chile",
          "China",
          "China",
          "China",
          "China",
          "China",
          "China",
          "China",
          "China",
          "China",
          "China",
          "Colombia",
          "Colombia",
          "Colombia",
          "Colombia",
          "Colombia",
          "Colombia",
          "Colombia",
          "Colombia",
          "Colombia",
          "Colombia",
          "Costa Rica",
          "Costa Rica",
          "Costa Rica",
          "Costa Rica",
          "Costa Rica",
          "Costa Rica",
          "Costa Rica",
          "Costa Rica",
          "Costa Rica",
          "Costa Rica",
          "Dominica",
          "Dominica",
          "Dominica",
          "Dominica",
          "Dominica",
          "Dominica",
          "Dominica",
          "Dominica",
          "Dominica",
          "Dominica",
          "Granada",
          "Granada",
          "Granada",
          "Granada",
          "Granada",
          "Granada",
          "Granada",
          "Granada",
          "Granada",
          "Granada",
          "Guyana",
          "Guyana",
          "Guyana",
          "Guyana",
          "Guyana",
          "Guyana",
          "Guyana",
          "Guyana",
          "Guyana",
          "Guyana",
          "Japón",
          "Japón",
          "Japón",
          "Japón",
          "Japón",
          "Japón",
          "Japón",
          "Japón",
          "Japón",
          "Japón",
          "México",
          "México",
          "México",
          "México",
          "México",
          "México",
          "México",
          "México",
          "México",
          "México",
          "Nicaragua",
          "Nicaragua",
          "Nicaragua",
          "Nicaragua",
          "Nicaragua",
          "Nicaragua",
          "Nicaragua",
          "Nicaragua",
          "Nicaragua",
          "Nicaragua",
          "Noruega",
          "Noruega",
          "Noruega",
          "Noruega",
          "Noruega",
          "Noruega",
          "Noruega",
          "Noruega",
          "Noruega",
          "Noruega",
          "Nueva Zelandia",
          "Nueva Zelandia",
          "Nueva Zelandia",
          "Nueva Zelandia",
          "Nueva Zelandia",
          "Nueva Zelandia",
          "Nueva Zelandia",
          "Nueva Zelandia",
          "Nueva Zelandia",
          "Nueva Zelandia",
          "Paraguay",
          "Paraguay",
          "Paraguay",
          "Paraguay",
          "Paraguay",
          "Paraguay",
          "Paraguay",
          "Paraguay",
          "Paraguay",
          "Paraguay",
          "Polonia",
          "Polonia",
          "Polonia",
          "Polonia",
          "Polonia",
          "Polonia",
          "Polonia",
          "Polonia",
          "Polonia",
          "Polonia",
          "Portugal",
          "Portugal",
          "Portugal",
          "Portugal",
          "Portugal",
          "Portugal",
          "Portugal",
          "Portugal",
          "Portugal",
          "Portugal",
          "República Dominicana",
          "República Dominicana",
          "República Dominicana",
          "República Dominicana",
          "República Dominicana",
          "República Dominicana",
          "República Dominicana",
          "República Dominicana",
          "República Dominicana",
          "República Dominicana",
          "Sudáfrica",
          "Sudáfrica",
          "Sudáfrica",
          "Sudáfrica",
          "Sudáfrica",
          "Sudáfrica",
          "Sudáfrica",
          "Sudáfrica",
          "Sudáfrica",
          "Sudáfrica",
          "Suecia",
          "Suecia",
          "Suecia",
          "Suecia",
          "Suecia",
          "Suecia",
          "Suecia",
          "Suecia",
          "Suecia",
          "Suecia",
          "Suiza",
          "Suiza",
          "Suiza",
          "Suiza",
          "Suiza",
          "Suiza",
          "Suiza",
          "Suiza",
          "Suiza",
          "Suiza",
          "Trinidad y Tobago",
          "Trinidad y Tobago",
          "Trinidad y Tobago",
          "Trinidad y Tobago",
          "Trinidad y Tobago",
          "Trinidad y Tobago",
          "Trinidad y Tobago",
          "Trinidad y Tobago",
          "Trinidad y Tobago",
          "Trinidad y Tobago",
          "Uruguay",
          "Uruguay",
          "Uruguay",
          "Uruguay",
          "Uruguay",
          "Uruguay",
          "Uruguay",
          "Uruguay",
          "Uruguay",
          "Uruguay"
         ],
         "legendgroup": "",
         "marker": {
          "color": "#636efa",
          "symbol": "circle"
         },
         "mode": "markers",
         "name": "",
         "orientation": "v",
         "showlegend": false,
         "type": "scatter",
         "x": [
          93.4,
          80,
          77.1,
          81.2,
          63.5,
          72.4,
          67.8,
          84.1,
          93.3,
          118.4,
          106.96,
          109.03,
          103.45,
          98.32,
          89.85,
          90.93,
          93.69,
          89.95,
          86.01,
          85.36,
          99.34,
          99.26,
          99.01,
          99,
          102.26,
          101.33,
          100.71,
          100.49,
          101.85,
          100.28,
          95.37,
          96.98,
          95.4,
          96.35,
          102.61,
          104.38,
          102.63,
          99.9,
          100.1,
          99.54,
          102.29,
          106.66,
          112.27,
          120.09,
          137.69,
          143.32,
          140.12,
          143.26,
          149.84,
          157.44,
          103.18,
          92.01,
          86.43,
          84.59,
          69.62,
          73.04,
          79.26,
          70.98,
          69.68,
          55.31,
          101.45,
          100.02,
          100.92,
          100.11,
          96.82,
          96.97,
          98.04,
          101.31,
          101.82,
          104.68,
          100.22,
          96.46,
          98.92,
          99.72,
          93.54,
          95.64,
          96.53,
          97.92,
          96.85,
          99.85,
          101.56,
          101.08,
          97.48,
          91.48,
          83.13,
          81.53,
          82.75,
          82.3,
          81.52,
          80.63,
          100.71,
          102.9,
          101.35,
          91.87,
          90.99,
          92.62,
          95.74,
          97.1,
          92.52,
          84.86,
          102.69,
          108.68,
          114.62,
          118.31,
          129.97,
          123.67,
          120.09,
          121.74,
          120.89,
          123.44,
          100.13,
          105.34,
          101.29,
          95.87,
          77.62,
          73.99,
          76.44,
          77.23,
          72.71,
          67.05,
          101.82,
          106.19,
          110.5,
          106.31,
          114.59,
          113.79,
          108.53,
          105.74,
          106.42,
          107.3,
          95.2,
          95.55,
          94.52,
          94.22,
          98.27,
          101.84,
          102.61,
          101.85,
          103.01,
          94.36,
          97.06,
          97.71,
          96.46,
          93.63,
          97.02,
          99.15,
          97.79,
          95.43,
          96.12,
          94.16,
          97.76,
          99.27,
          99.58,
          99.08,
          105.43,
          107.28,
          107.04,
          104.61,
          107.48,
          108.66,
          101.13,
          99.89,
          79.64,
          74.58,
          69.42,
          78.85,
          75.03,
          74.37,
          76.53,
          77.25,
          99.8,
          96.63,
          102.27,
          101.24,
          90.75,
          79.03,
          80.88,
          80.99,
          83.69,
          77.35,
          95.88,
          97.43,
          97.23,
          97.32,
          101.99,
          102.1,
          98.33,
          95.57,
          95.54,
          95.72,
          100.39,
          99.6,
          98.1,
          93.19,
          84.31,
          84.82,
          85.65,
          86.06,
          83.74,
          78.2,
          104.19,
          107.71,
          109.98,
          112.87,
          104.98,
          105.85,
          107.38,
          102.87,
          101.35,
          100.57,
          112.19,
          110.27,
          115.33,
          117.52,
          114.81,
          110.83,
          109.94,
          113.52,
          110.21,
          108.86,
          98.43,
          95.68,
          96.26,
          96.86,
          92.61,
          88.86,
          91.83,
          93.37,
          92.18,
          92.8,
          100.81,
          99.28,
          99.28,
          98.47,
          95.42,
          96.72,
          96.81,
          97.8,
          96.27,
          97.1,
          96.42,
          96.33,
          93.55,
          91.64,
          94.2,
          93.77,
          90.88,
          87.85,
          86.83,
          81.02,
          98.28,
          92.44,
          82.09,
          77.07,
          75.15,
          70.43,
          79.36,
          80.71,
          78.14,
          70.92,
          105.84,
          105.13,
          106.41,
          100.75,
          93.33,
          93.89,
          92.98,
          89.17,
          85.65,
          87.73,
          109.47,
          105.34,
          103.6,
          104.24,
          110.5,
          108.14,
          106,
          103.07,
          104.17,
          108.13,
          98.71,
          107.32,
          111.09,
          117.53,
          132.49,
          131.35,
          127.97,
          126.31,
          128.78,
          130.35,
          102.07,
          104.8,
          111.09,
          106.77,
          107.47,
          108.47,
          115.01,
          116.75,
          113.15,
          107.77
         ],
         "xaxis": "x",
         "y": [
          10883.3,
          10649.8,
          10784.6,
          10398.7,
          10568.2,
          10239.5,
          10419.5,
          10049.6,
          9742.5,
          8692.7,
          52567.8,
          53682,
          54129.9,
          54679.4,
          55079.9,
          55728.7,
          56058.5,
          56832.1,
          57183.4,
          56307.3,
          28248.5,
          28800.2,
          27755.3,
          27785.9,
          27583.9,
          27706.5,
          28283.4,
          28845.6,
          28908.3,
          23971.1,
          4250.4,
          4253.1,
          4212.4,
          4287.4,
          4308.2,
          4219.4,
          4211.6,
          4251.6,
          4245.7,
          3583,
          2024.1,
          2094,
          2201.4,
          2286,
          2361.1,
          2425.6,
          2491,
          2559.5,
          2579.9,
          2345.5,
          11627.8,
          11745.8,
          11993.5,
          11951.2,
          11431.2,
          10966,
          11021.7,
          11130.7,
          11203.3,
          10672.2,
          7017.7,
          7083.6,
          7146.6,
          7322.8,
          7663.7,
          8012.5,
          8354,
          8674.7,
          9058.7,
          8743.2,
          1303.4,
          1325.9,
          1360.1,
          1401.8,
          1441.8,
          1469.2,
          1481.7,
          1502.2,
          1518.3,
          1490.8,
          48581,
          48903.2,
          49516.3,
          50427.9,
          50382.9,
          50314.4,
          51225.7,
          51734.3,
          51956.8,
          48617.1,
          13455.8,
          14035.7,
          14461.2,
          14561.3,
          14722.4,
          14777.1,
          14740.6,
          15076.9,
          15039.9,
          14050.2,
          4961.2,
          5325.4,
          5710.7,
          6103.7,
          6500.4,
          6908.1,
          7346.8,
          7807.1,
          8242.1,
          8405.2,
          6711.7,
          6911.8,
          7201,
          7449.3,
          7580.3,
          7633.4,
          7620.9,
          7698.1,
          7843.5,
          7228.4,
          8486.1,
          8796.2,
          8912.7,
          9125.9,
          9356.9,
          9647.8,
          9946.1,
          10050.2,
          10170.2,
          9619.7,
          6948.4,
          6870.7,
          6795.8,
          7090.9,
          6891.9,
          7055,
          6561.2,
          6696.5,
          6910.5,
          5741.2,
          7275.4,
          7146.8,
          7266.2,
          7747.6,
          8193.9,
          8449.2,
          8775.9,
          9092.2,
          9226.6,
          8152.7,
          4808.6,
          5044.9,
          5202.4,
          5261.8,
          5269.9,
          5442.7,
          5617.8,
          5838.8,
          6121.7,
          8741.2,
          44538.7,
          45276.9,
          46249.2,
          46484.2,
          47102.6,
          47403,
          48510.6,
          48766.1,
          49000.3,
          47628.3,
          9477.9,
          9690.9,
          9693.7,
          9843.4,
          10042.1,
          10183,
          10277.9,
          10385.8,
          10267.5,
          9322.3,
          1577.5,
          1657.7,
          1716.4,
          1775,
          1836,
          1895.2,
          1957.9,
          1868.4,
          1777.8,
          1721.8,
          87413.1,
          88604.6,
          88444.9,
          89175.5,
          90029.4,
          90196,
          91549,
          91964.3,
          92123.7,
          90884.6,
          34175.2,
          34749.9,
          35413.5,
          36158.5,
          36743.3,
          37267.4,
          37815.8,
          38335.2,
          38345.7,
          37922.2,
          4484.6,
          4392.1,
          4691.5,
          4873.4,
          4950.6,
          5094,
          5269.7,
          5369,
          5280.2,
          5163,
          13206,
          13381,
          13539.8,
          14007.7,
          14610.9,
          15076.4,
          15802.7,
          16648.8,
          17409,
          16945.2,
          22149.6,
          21337.3,
          21256.8,
          21541,
          22018,
          22533.6,
          23380.7,
          24085.4,
          24679,
          22769.7,
          5660.5,
          5745.4,
          5955.2,
          6301.7,
          6661.9,
          7026.2,
          7273.4,
          7697.7,
          8002.4,
          7389.7,
          7454.8,
          7500.2,
          7564.3,
          7582.9,
          7556.8,
          7476.1,
          7475.2,
          7432,
          7346,
          6748.2,
          54147.9,
          53432.6,
          53611.1,
          54492.6,
          56340,
          56788.5,
          57467.2,
          57911.2,
          58112.4,
          56068.3,
          77729,
          77844.2,
          78356,
          79299.8,
          79702,
          80448.7,
          80964.6,
          82792.3,
          83093.2,
          80132.4,
          16534.2,
          16636.7,
          16895.8,
          16635.6,
          16783.9,
          15760.6,
          15218,
          15164.7,
          14920.6,
          13707.6,
          12574.9,
          12981.1,
          13541.2,
          13934.6,
          13938.8,
          14124.1,
          14301.8,
          14317.5,
          14316,
          13430.7
         ],
         "yaxis": "y"
        },
        {
         "alignmentgroup": "True",
         "bingroup": "x",
         "hovertemplate": "TCR=%{x}<br>count=%{y}<extra></extra>",
         "legendgroup": "",
         "marker": {
          "color": "#636efa"
         },
         "name": "",
         "offsetgroup": "",
         "opacity": 0.5,
         "showlegend": false,
         "type": "histogram",
         "x": [
          93.4,
          80,
          77.1,
          81.2,
          63.5,
          72.4,
          67.8,
          84.1,
          93.3,
          118.4,
          106.96,
          109.03,
          103.45,
          98.32,
          89.85,
          90.93,
          93.69,
          89.95,
          86.01,
          85.36,
          99.34,
          99.26,
          99.01,
          99,
          102.26,
          101.33,
          100.71,
          100.49,
          101.85,
          100.28,
          95.37,
          96.98,
          95.4,
          96.35,
          102.61,
          104.38,
          102.63,
          99.9,
          100.1,
          99.54,
          102.29,
          106.66,
          112.27,
          120.09,
          137.69,
          143.32,
          140.12,
          143.26,
          149.84,
          157.44,
          103.18,
          92.01,
          86.43,
          84.59,
          69.62,
          73.04,
          79.26,
          70.98,
          69.68,
          55.31,
          101.45,
          100.02,
          100.92,
          100.11,
          96.82,
          96.97,
          98.04,
          101.31,
          101.82,
          104.68,
          100.22,
          96.46,
          98.92,
          99.72,
          93.54,
          95.64,
          96.53,
          97.92,
          96.85,
          99.85,
          101.56,
          101.08,
          97.48,
          91.48,
          83.13,
          81.53,
          82.75,
          82.3,
          81.52,
          80.63,
          100.71,
          102.9,
          101.35,
          91.87,
          90.99,
          92.62,
          95.74,
          97.1,
          92.52,
          84.86,
          102.69,
          108.68,
          114.62,
          118.31,
          129.97,
          123.67,
          120.09,
          121.74,
          120.89,
          123.44,
          100.13,
          105.34,
          101.29,
          95.87,
          77.62,
          73.99,
          76.44,
          77.23,
          72.71,
          67.05,
          101.82,
          106.19,
          110.5,
          106.31,
          114.59,
          113.79,
          108.53,
          105.74,
          106.42,
          107.3,
          95.2,
          95.55,
          94.52,
          94.22,
          98.27,
          101.84,
          102.61,
          101.85,
          103.01,
          94.36,
          97.06,
          97.71,
          96.46,
          93.63,
          97.02,
          99.15,
          97.79,
          95.43,
          96.12,
          94.16,
          97.76,
          99.27,
          99.58,
          99.08,
          105.43,
          107.28,
          107.04,
          104.61,
          107.48,
          108.66,
          101.13,
          99.89,
          79.64,
          74.58,
          69.42,
          78.85,
          75.03,
          74.37,
          76.53,
          77.25,
          99.8,
          96.63,
          102.27,
          101.24,
          90.75,
          79.03,
          80.88,
          80.99,
          83.69,
          77.35,
          95.88,
          97.43,
          97.23,
          97.32,
          101.99,
          102.1,
          98.33,
          95.57,
          95.54,
          95.72,
          100.39,
          99.6,
          98.1,
          93.19,
          84.31,
          84.82,
          85.65,
          86.06,
          83.74,
          78.2,
          104.19,
          107.71,
          109.98,
          112.87,
          104.98,
          105.85,
          107.38,
          102.87,
          101.35,
          100.57,
          112.19,
          110.27,
          115.33,
          117.52,
          114.81,
          110.83,
          109.94,
          113.52,
          110.21,
          108.86,
          98.43,
          95.68,
          96.26,
          96.86,
          92.61,
          88.86,
          91.83,
          93.37,
          92.18,
          92.8,
          100.81,
          99.28,
          99.28,
          98.47,
          95.42,
          96.72,
          96.81,
          97.8,
          96.27,
          97.1,
          96.42,
          96.33,
          93.55,
          91.64,
          94.2,
          93.77,
          90.88,
          87.85,
          86.83,
          81.02,
          98.28,
          92.44,
          82.09,
          77.07,
          75.15,
          70.43,
          79.36,
          80.71,
          78.14,
          70.92,
          105.84,
          105.13,
          106.41,
          100.75,
          93.33,
          93.89,
          92.98,
          89.17,
          85.65,
          87.73,
          109.47,
          105.34,
          103.6,
          104.24,
          110.5,
          108.14,
          106,
          103.07,
          104.17,
          108.13,
          98.71,
          107.32,
          111.09,
          117.53,
          132.49,
          131.35,
          127.97,
          126.31,
          128.78,
          130.35,
          102.07,
          104.8,
          111.09,
          106.77,
          107.47,
          108.47,
          115.01,
          116.75,
          113.15,
          107.77
         ],
         "xaxis": "x3",
         "yaxis": "y3"
        },
        {
         "alignmentgroup": "True",
         "boxpoints": "all",
         "fillcolor": "rgba(255,255,255,0)",
         "hoveron": "points",
         "hovertemplate": "<b>%{hovertext}</b><br><br>PBI=%{y}<extra></extra>",
         "hovertext": [
          "Argentina",
          "Argentina",
          "Argentina",
          "Argentina",
          "Argentina",
          "Argentina",
          "Argentina",
          "Argentina",
          "Argentina",
          "Argentina",
          "Australia",
          "Australia",
          "Australia",
          "Australia",
          "Australia",
          "Australia",
          "Australia",
          "Australia",
          "Australia",
          "Australia",
          "Bahamas",
          "Bahamas",
          "Bahamas",
          "Bahamas",
          "Bahamas",
          "Bahamas",
          "Bahamas",
          "Bahamas",
          "Bahamas",
          "Bahamas",
          "Belice",
          "Belice",
          "Belice",
          "Belice",
          "Belice",
          "Belice",
          "Belice",
          "Belice",
          "Belice",
          "Belice",
          "Bolivia",
          "Bolivia",
          "Bolivia",
          "Bolivia",
          "Bolivia",
          "Bolivia",
          "Bolivia",
          "Bolivia",
          "Bolivia",
          "Bolivia",
          "Brasil",
          "Brasil",
          "Brasil",
          "Brasil",
          "Brasil",
          "Brasil",
          "Brasil",
          "Brasil",
          "Brasil",
          "Brasil",
          "Bulgaria",
          "Bulgaria",
          "Bulgaria",
          "Bulgaria",
          "Bulgaria",
          "Bulgaria",
          "Bulgaria",
          "Bulgaria",
          "Bulgaria",
          "Bulgaria",
          "Camerún",
          "Camerún",
          "Camerún",
          "Camerún",
          "Camerún",
          "Camerún",
          "Camerún",
          "Camerún",
          "Camerún",
          "Camerún",
          "Canadá",
          "Canadá",
          "Canadá",
          "Canadá",
          "Canadá",
          "Canadá",
          "Canadá",
          "Canadá",
          "Canadá",
          "Canadá",
          "Chile",
          "Chile",
          "Chile",
          "Chile",
          "Chile",
          "Chile",
          "Chile",
          "Chile",
          "Chile",
          "Chile",
          "China",
          "China",
          "China",
          "China",
          "China",
          "China",
          "China",
          "China",
          "China",
          "China",
          "Colombia",
          "Colombia",
          "Colombia",
          "Colombia",
          "Colombia",
          "Colombia",
          "Colombia",
          "Colombia",
          "Colombia",
          "Colombia",
          "Costa Rica",
          "Costa Rica",
          "Costa Rica",
          "Costa Rica",
          "Costa Rica",
          "Costa Rica",
          "Costa Rica",
          "Costa Rica",
          "Costa Rica",
          "Costa Rica",
          "Dominica",
          "Dominica",
          "Dominica",
          "Dominica",
          "Dominica",
          "Dominica",
          "Dominica",
          "Dominica",
          "Dominica",
          "Dominica",
          "Granada",
          "Granada",
          "Granada",
          "Granada",
          "Granada",
          "Granada",
          "Granada",
          "Granada",
          "Granada",
          "Granada",
          "Guyana",
          "Guyana",
          "Guyana",
          "Guyana",
          "Guyana",
          "Guyana",
          "Guyana",
          "Guyana",
          "Guyana",
          "Guyana",
          "Japón",
          "Japón",
          "Japón",
          "Japón",
          "Japón",
          "Japón",
          "Japón",
          "Japón",
          "Japón",
          "Japón",
          "México",
          "México",
          "México",
          "México",
          "México",
          "México",
          "México",
          "México",
          "México",
          "México",
          "Nicaragua",
          "Nicaragua",
          "Nicaragua",
          "Nicaragua",
          "Nicaragua",
          "Nicaragua",
          "Nicaragua",
          "Nicaragua",
          "Nicaragua",
          "Nicaragua",
          "Noruega",
          "Noruega",
          "Noruega",
          "Noruega",
          "Noruega",
          "Noruega",
          "Noruega",
          "Noruega",
          "Noruega",
          "Noruega",
          "Nueva Zelandia",
          "Nueva Zelandia",
          "Nueva Zelandia",
          "Nueva Zelandia",
          "Nueva Zelandia",
          "Nueva Zelandia",
          "Nueva Zelandia",
          "Nueva Zelandia",
          "Nueva Zelandia",
          "Nueva Zelandia",
          "Paraguay",
          "Paraguay",
          "Paraguay",
          "Paraguay",
          "Paraguay",
          "Paraguay",
          "Paraguay",
          "Paraguay",
          "Paraguay",
          "Paraguay",
          "Polonia",
          "Polonia",
          "Polonia",
          "Polonia",
          "Polonia",
          "Polonia",
          "Polonia",
          "Polonia",
          "Polonia",
          "Polonia",
          "Portugal",
          "Portugal",
          "Portugal",
          "Portugal",
          "Portugal",
          "Portugal",
          "Portugal",
          "Portugal",
          "Portugal",
          "Portugal",
          "República Dominicana",
          "República Dominicana",
          "República Dominicana",
          "República Dominicana",
          "República Dominicana",
          "República Dominicana",
          "República Dominicana",
          "República Dominicana",
          "República Dominicana",
          "República Dominicana",
          "Sudáfrica",
          "Sudáfrica",
          "Sudáfrica",
          "Sudáfrica",
          "Sudáfrica",
          "Sudáfrica",
          "Sudáfrica",
          "Sudáfrica",
          "Sudáfrica",
          "Sudáfrica",
          "Suecia",
          "Suecia",
          "Suecia",
          "Suecia",
          "Suecia",
          "Suecia",
          "Suecia",
          "Suecia",
          "Suecia",
          "Suecia",
          "Suiza",
          "Suiza",
          "Suiza",
          "Suiza",
          "Suiza",
          "Suiza",
          "Suiza",
          "Suiza",
          "Suiza",
          "Suiza",
          "Trinidad y Tobago",
          "Trinidad y Tobago",
          "Trinidad y Tobago",
          "Trinidad y Tobago",
          "Trinidad y Tobago",
          "Trinidad y Tobago",
          "Trinidad y Tobago",
          "Trinidad y Tobago",
          "Trinidad y Tobago",
          "Trinidad y Tobago",
          "Uruguay",
          "Uruguay",
          "Uruguay",
          "Uruguay",
          "Uruguay",
          "Uruguay",
          "Uruguay",
          "Uruguay",
          "Uruguay",
          "Uruguay"
         ],
         "jitter": 0,
         "legendgroup": "",
         "line": {
          "color": "rgba(255,255,255,0)"
         },
         "marker": {
          "color": "#636efa",
          "symbol": "line-ew-open"
         },
         "name": "",
         "offsetgroup": "",
         "showlegend": false,
         "type": "box",
         "xaxis": "x2",
         "y": [
          10883.3,
          10649.8,
          10784.6,
          10398.7,
          10568.2,
          10239.5,
          10419.5,
          10049.6,
          9742.5,
          8692.7,
          52567.8,
          53682,
          54129.9,
          54679.4,
          55079.9,
          55728.7,
          56058.5,
          56832.1,
          57183.4,
          56307.3,
          28248.5,
          28800.2,
          27755.3,
          27785.9,
          27583.9,
          27706.5,
          28283.4,
          28845.6,
          28908.3,
          23971.1,
          4250.4,
          4253.1,
          4212.4,
          4287.4,
          4308.2,
          4219.4,
          4211.6,
          4251.6,
          4245.7,
          3583,
          2024.1,
          2094,
          2201.4,
          2286,
          2361.1,
          2425.6,
          2491,
          2559.5,
          2579.9,
          2345.5,
          11627.8,
          11745.8,
          11993.5,
          11951.2,
          11431.2,
          10966,
          11021.7,
          11130.7,
          11203.3,
          10672.2,
          7017.7,
          7083.6,
          7146.6,
          7322.8,
          7663.7,
          8012.5,
          8354,
          8674.7,
          9058.7,
          8743.2,
          1303.4,
          1325.9,
          1360.1,
          1401.8,
          1441.8,
          1469.2,
          1481.7,
          1502.2,
          1518.3,
          1490.8,
          48581,
          48903.2,
          49516.3,
          50427.9,
          50382.9,
          50314.4,
          51225.7,
          51734.3,
          51956.8,
          48617.1,
          13455.8,
          14035.7,
          14461.2,
          14561.3,
          14722.4,
          14777.1,
          14740.6,
          15076.9,
          15039.9,
          14050.2,
          4961.2,
          5325.4,
          5710.7,
          6103.7,
          6500.4,
          6908.1,
          7346.8,
          7807.1,
          8242.1,
          8405.2,
          6711.7,
          6911.8,
          7201,
          7449.3,
          7580.3,
          7633.4,
          7620.9,
          7698.1,
          7843.5,
          7228.4,
          8486.1,
          8796.2,
          8912.7,
          9125.9,
          9356.9,
          9647.8,
          9946.1,
          10050.2,
          10170.2,
          9619.7,
          6948.4,
          6870.7,
          6795.8,
          7090.9,
          6891.9,
          7055,
          6561.2,
          6696.5,
          6910.5,
          5741.2,
          7275.4,
          7146.8,
          7266.2,
          7747.6,
          8193.9,
          8449.2,
          8775.9,
          9092.2,
          9226.6,
          8152.7,
          4808.6,
          5044.9,
          5202.4,
          5261.8,
          5269.9,
          5442.7,
          5617.8,
          5838.8,
          6121.7,
          8741.2,
          44538.7,
          45276.9,
          46249.2,
          46484.2,
          47102.6,
          47403,
          48510.6,
          48766.1,
          49000.3,
          47628.3,
          9477.9,
          9690.9,
          9693.7,
          9843.4,
          10042.1,
          10183,
          10277.9,
          10385.8,
          10267.5,
          9322.3,
          1577.5,
          1657.7,
          1716.4,
          1775,
          1836,
          1895.2,
          1957.9,
          1868.4,
          1777.8,
          1721.8,
          87413.1,
          88604.6,
          88444.9,
          89175.5,
          90029.4,
          90196,
          91549,
          91964.3,
          92123.7,
          90884.6,
          34175.2,
          34749.9,
          35413.5,
          36158.5,
          36743.3,
          37267.4,
          37815.8,
          38335.2,
          38345.7,
          37922.2,
          4484.6,
          4392.1,
          4691.5,
          4873.4,
          4950.6,
          5094,
          5269.7,
          5369,
          5280.2,
          5163,
          13206,
          13381,
          13539.8,
          14007.7,
          14610.9,
          15076.4,
          15802.7,
          16648.8,
          17409,
          16945.2,
          22149.6,
          21337.3,
          21256.8,
          21541,
          22018,
          22533.6,
          23380.7,
          24085.4,
          24679,
          22769.7,
          5660.5,
          5745.4,
          5955.2,
          6301.7,
          6661.9,
          7026.2,
          7273.4,
          7697.7,
          8002.4,
          7389.7,
          7454.8,
          7500.2,
          7564.3,
          7582.9,
          7556.8,
          7476.1,
          7475.2,
          7432,
          7346,
          6748.2,
          54147.9,
          53432.6,
          53611.1,
          54492.6,
          56340,
          56788.5,
          57467.2,
          57911.2,
          58112.4,
          56068.3,
          77729,
          77844.2,
          78356,
          79299.8,
          79702,
          80448.7,
          80964.6,
          82792.3,
          83093.2,
          80132.4,
          16534.2,
          16636.7,
          16895.8,
          16635.6,
          16783.9,
          15760.6,
          15218,
          15164.7,
          14920.6,
          13707.6,
          12574.9,
          12981.1,
          13541.2,
          13934.6,
          13938.8,
          14124.1,
          14301.8,
          14317.5,
          14316,
          13430.7
         ],
         "yaxis": "y2"
        }
       ],
       "layout": {
        "barmode": "overlay",
        "legend": {
         "tracegroupgap": 0
        },
        "margin": {
         "t": 60
        },
        "template": {
         "data": {
          "bar": [
           {
            "error_x": {
             "color": "#2a3f5f"
            },
            "error_y": {
             "color": "#2a3f5f"
            },
            "marker": {
             "line": {
              "color": "#E5ECF6",
              "width": 0.5
             }
            },
            "type": "bar"
           }
          ],
          "barpolar": [
           {
            "marker": {
             "line": {
              "color": "#E5ECF6",
              "width": 0.5
             }
            },
            "type": "barpolar"
           }
          ],
          "carpet": [
           {
            "aaxis": {
             "endlinecolor": "#2a3f5f",
             "gridcolor": "white",
             "linecolor": "white",
             "minorgridcolor": "white",
             "startlinecolor": "#2a3f5f"
            },
            "baxis": {
             "endlinecolor": "#2a3f5f",
             "gridcolor": "white",
             "linecolor": "white",
             "minorgridcolor": "white",
             "startlinecolor": "#2a3f5f"
            },
            "type": "carpet"
           }
          ],
          "choropleth": [
           {
            "colorbar": {
             "outlinewidth": 0,
             "ticks": ""
            },
            "type": "choropleth"
           }
          ],
          "contour": [
           {
            "colorbar": {
             "outlinewidth": 0,
             "ticks": ""
            },
            "colorscale": [
             [
              0,
              "#0d0887"
             ],
             [
              0.1111111111111111,
              "#46039f"
             ],
             [
              0.2222222222222222,
              "#7201a8"
             ],
             [
              0.3333333333333333,
              "#9c179e"
             ],
             [
              0.4444444444444444,
              "#bd3786"
             ],
             [
              0.5555555555555556,
              "#d8576b"
             ],
             [
              0.6666666666666666,
              "#ed7953"
             ],
             [
              0.7777777777777778,
              "#fb9f3a"
             ],
             [
              0.8888888888888888,
              "#fdca26"
             ],
             [
              1,
              "#f0f921"
             ]
            ],
            "type": "contour"
           }
          ],
          "contourcarpet": [
           {
            "colorbar": {
             "outlinewidth": 0,
             "ticks": ""
            },
            "type": "contourcarpet"
           }
          ],
          "heatmap": [
           {
            "colorbar": {
             "outlinewidth": 0,
             "ticks": ""
            },
            "colorscale": [
             [
              0,
              "#0d0887"
             ],
             [
              0.1111111111111111,
              "#46039f"
             ],
             [
              0.2222222222222222,
              "#7201a8"
             ],
             [
              0.3333333333333333,
              "#9c179e"
             ],
             [
              0.4444444444444444,
              "#bd3786"
             ],
             [
              0.5555555555555556,
              "#d8576b"
             ],
             [
              0.6666666666666666,
              "#ed7953"
             ],
             [
              0.7777777777777778,
              "#fb9f3a"
             ],
             [
              0.8888888888888888,
              "#fdca26"
             ],
             [
              1,
              "#f0f921"
             ]
            ],
            "type": "heatmap"
           }
          ],
          "heatmapgl": [
           {
            "colorbar": {
             "outlinewidth": 0,
             "ticks": ""
            },
            "colorscale": [
             [
              0,
              "#0d0887"
             ],
             [
              0.1111111111111111,
              "#46039f"
             ],
             [
              0.2222222222222222,
              "#7201a8"
             ],
             [
              0.3333333333333333,
              "#9c179e"
             ],
             [
              0.4444444444444444,
              "#bd3786"
             ],
             [
              0.5555555555555556,
              "#d8576b"
             ],
             [
              0.6666666666666666,
              "#ed7953"
             ],
             [
              0.7777777777777778,
              "#fb9f3a"
             ],
             [
              0.8888888888888888,
              "#fdca26"
             ],
             [
              1,
              "#f0f921"
             ]
            ],
            "type": "heatmapgl"
           }
          ],
          "histogram": [
           {
            "marker": {
             "colorbar": {
              "outlinewidth": 0,
              "ticks": ""
             }
            },
            "type": "histogram"
           }
          ],
          "histogram2d": [
           {
            "colorbar": {
             "outlinewidth": 0,
             "ticks": ""
            },
            "colorscale": [
             [
              0,
              "#0d0887"
             ],
             [
              0.1111111111111111,
              "#46039f"
             ],
             [
              0.2222222222222222,
              "#7201a8"
             ],
             [
              0.3333333333333333,
              "#9c179e"
             ],
             [
              0.4444444444444444,
              "#bd3786"
             ],
             [
              0.5555555555555556,
              "#d8576b"
             ],
             [
              0.6666666666666666,
              "#ed7953"
             ],
             [
              0.7777777777777778,
              "#fb9f3a"
             ],
             [
              0.8888888888888888,
              "#fdca26"
             ],
             [
              1,
              "#f0f921"
             ]
            ],
            "type": "histogram2d"
           }
          ],
          "histogram2dcontour": [
           {
            "colorbar": {
             "outlinewidth": 0,
             "ticks": ""
            },
            "colorscale": [
             [
              0,
              "#0d0887"
             ],
             [
              0.1111111111111111,
              "#46039f"
             ],
             [
              0.2222222222222222,
              "#7201a8"
             ],
             [
              0.3333333333333333,
              "#9c179e"
             ],
             [
              0.4444444444444444,
              "#bd3786"
             ],
             [
              0.5555555555555556,
              "#d8576b"
             ],
             [
              0.6666666666666666,
              "#ed7953"
             ],
             [
              0.7777777777777778,
              "#fb9f3a"
             ],
             [
              0.8888888888888888,
              "#fdca26"
             ],
             [
              1,
              "#f0f921"
             ]
            ],
            "type": "histogram2dcontour"
           }
          ],
          "mesh3d": [
           {
            "colorbar": {
             "outlinewidth": 0,
             "ticks": ""
            },
            "type": "mesh3d"
           }
          ],
          "parcoords": [
           {
            "line": {
             "colorbar": {
              "outlinewidth": 0,
              "ticks": ""
             }
            },
            "type": "parcoords"
           }
          ],
          "pie": [
           {
            "automargin": true,
            "type": "pie"
           }
          ],
          "scatter": [
           {
            "marker": {
             "colorbar": {
              "outlinewidth": 0,
              "ticks": ""
             }
            },
            "type": "scatter"
           }
          ],
          "scatter3d": [
           {
            "line": {
             "colorbar": {
              "outlinewidth": 0,
              "ticks": ""
             }
            },
            "marker": {
             "colorbar": {
              "outlinewidth": 0,
              "ticks": ""
             }
            },
            "type": "scatter3d"
           }
          ],
          "scattercarpet": [
           {
            "marker": {
             "colorbar": {
              "outlinewidth": 0,
              "ticks": ""
             }
            },
            "type": "scattercarpet"
           }
          ],
          "scattergeo": [
           {
            "marker": {
             "colorbar": {
              "outlinewidth": 0,
              "ticks": ""
             }
            },
            "type": "scattergeo"
           }
          ],
          "scattergl": [
           {
            "marker": {
             "colorbar": {
              "outlinewidth": 0,
              "ticks": ""
             }
            },
            "type": "scattergl"
           }
          ],
          "scattermapbox": [
           {
            "marker": {
             "colorbar": {
              "outlinewidth": 0,
              "ticks": ""
             }
            },
            "type": "scattermapbox"
           }
          ],
          "scatterpolar": [
           {
            "marker": {
             "colorbar": {
              "outlinewidth": 0,
              "ticks": ""
             }
            },
            "type": "scatterpolar"
           }
          ],
          "scatterpolargl": [
           {
            "marker": {
             "colorbar": {
              "outlinewidth": 0,
              "ticks": ""
             }
            },
            "type": "scatterpolargl"
           }
          ],
          "scatterternary": [
           {
            "marker": {
             "colorbar": {
              "outlinewidth": 0,
              "ticks": ""
             }
            },
            "type": "scatterternary"
           }
          ],
          "surface": [
           {
            "colorbar": {
             "outlinewidth": 0,
             "ticks": ""
            },
            "colorscale": [
             [
              0,
              "#0d0887"
             ],
             [
              0.1111111111111111,
              "#46039f"
             ],
             [
              0.2222222222222222,
              "#7201a8"
             ],
             [
              0.3333333333333333,
              "#9c179e"
             ],
             [
              0.4444444444444444,
              "#bd3786"
             ],
             [
              0.5555555555555556,
              "#d8576b"
             ],
             [
              0.6666666666666666,
              "#ed7953"
             ],
             [
              0.7777777777777778,
              "#fb9f3a"
             ],
             [
              0.8888888888888888,
              "#fdca26"
             ],
             [
              1,
              "#f0f921"
             ]
            ],
            "type": "surface"
           }
          ],
          "table": [
           {
            "cells": {
             "fill": {
              "color": "#EBF0F8"
             },
             "line": {
              "color": "white"
             }
            },
            "header": {
             "fill": {
              "color": "#C8D4E3"
             },
             "line": {
              "color": "white"
             }
            },
            "type": "table"
           }
          ]
         },
         "layout": {
          "annotationdefaults": {
           "arrowcolor": "#2a3f5f",
           "arrowhead": 0,
           "arrowwidth": 1
          },
          "autotypenumbers": "strict",
          "coloraxis": {
           "colorbar": {
            "outlinewidth": 0,
            "ticks": ""
           }
          },
          "colorscale": {
           "diverging": [
            [
             0,
             "#8e0152"
            ],
            [
             0.1,
             "#c51b7d"
            ],
            [
             0.2,
             "#de77ae"
            ],
            [
             0.3,
             "#f1b6da"
            ],
            [
             0.4,
             "#fde0ef"
            ],
            [
             0.5,
             "#f7f7f7"
            ],
            [
             0.6,
             "#e6f5d0"
            ],
            [
             0.7,
             "#b8e186"
            ],
            [
             0.8,
             "#7fbc41"
            ],
            [
             0.9,
             "#4d9221"
            ],
            [
             1,
             "#276419"
            ]
           ],
           "sequential": [
            [
             0,
             "#0d0887"
            ],
            [
             0.1111111111111111,
             "#46039f"
            ],
            [
             0.2222222222222222,
             "#7201a8"
            ],
            [
             0.3333333333333333,
             "#9c179e"
            ],
            [
             0.4444444444444444,
             "#bd3786"
            ],
            [
             0.5555555555555556,
             "#d8576b"
            ],
            [
             0.6666666666666666,
             "#ed7953"
            ],
            [
             0.7777777777777778,
             "#fb9f3a"
            ],
            [
             0.8888888888888888,
             "#fdca26"
            ],
            [
             1,
             "#f0f921"
            ]
           ],
           "sequentialminus": [
            [
             0,
             "#0d0887"
            ],
            [
             0.1111111111111111,
             "#46039f"
            ],
            [
             0.2222222222222222,
             "#7201a8"
            ],
            [
             0.3333333333333333,
             "#9c179e"
            ],
            [
             0.4444444444444444,
             "#bd3786"
            ],
            [
             0.5555555555555556,
             "#d8576b"
            ],
            [
             0.6666666666666666,
             "#ed7953"
            ],
            [
             0.7777777777777778,
             "#fb9f3a"
            ],
            [
             0.8888888888888888,
             "#fdca26"
            ],
            [
             1,
             "#f0f921"
            ]
           ]
          },
          "colorway": [
           "#636efa",
           "#EF553B",
           "#00cc96",
           "#ab63fa",
           "#FFA15A",
           "#19d3f3",
           "#FF6692",
           "#B6E880",
           "#FF97FF",
           "#FECB52"
          ],
          "font": {
           "color": "#2a3f5f"
          },
          "geo": {
           "bgcolor": "white",
           "lakecolor": "white",
           "landcolor": "#E5ECF6",
           "showlakes": true,
           "showland": true,
           "subunitcolor": "white"
          },
          "hoverlabel": {
           "align": "left"
          },
          "hovermode": "closest",
          "mapbox": {
           "style": "light"
          },
          "paper_bgcolor": "white",
          "plot_bgcolor": "#E5ECF6",
          "polar": {
           "angularaxis": {
            "gridcolor": "white",
            "linecolor": "white",
            "ticks": ""
           },
           "bgcolor": "#E5ECF6",
           "radialaxis": {
            "gridcolor": "white",
            "linecolor": "white",
            "ticks": ""
           }
          },
          "scene": {
           "xaxis": {
            "backgroundcolor": "#E5ECF6",
            "gridcolor": "white",
            "gridwidth": 2,
            "linecolor": "white",
            "showbackground": true,
            "ticks": "",
            "zerolinecolor": "white"
           },
           "yaxis": {
            "backgroundcolor": "#E5ECF6",
            "gridcolor": "white",
            "gridwidth": 2,
            "linecolor": "white",
            "showbackground": true,
            "ticks": "",
            "zerolinecolor": "white"
           },
           "zaxis": {
            "backgroundcolor": "#E5ECF6",
            "gridcolor": "white",
            "gridwidth": 2,
            "linecolor": "white",
            "showbackground": true,
            "ticks": "",
            "zerolinecolor": "white"
           }
          },
          "shapedefaults": {
           "line": {
            "color": "#2a3f5f"
           }
          },
          "ternary": {
           "aaxis": {
            "gridcolor": "white",
            "linecolor": "white",
            "ticks": ""
           },
           "baxis": {
            "gridcolor": "white",
            "linecolor": "white",
            "ticks": ""
           },
           "bgcolor": "#E5ECF6",
           "caxis": {
            "gridcolor": "white",
            "linecolor": "white",
            "ticks": ""
           }
          },
          "title": {
           "x": 0.05
          },
          "xaxis": {
           "automargin": true,
           "gridcolor": "white",
           "linecolor": "white",
           "ticks": "",
           "title": {
            "standoff": 15
           },
           "zerolinecolor": "white",
           "zerolinewidth": 2
          },
          "yaxis": {
           "automargin": true,
           "gridcolor": "white",
           "linecolor": "white",
           "ticks": "",
           "title": {
            "standoff": 15
           },
           "zerolinecolor": "white",
           "zerolinewidth": 2
          }
         }
        },
        "xaxis": {
         "anchor": "y",
         "domain": [
          0,
          0.8358
         ],
         "title": {
          "text": "TCR"
         }
        },
        "xaxis2": {
         "anchor": "y2",
         "domain": [
          0.8408,
          1
         ],
         "matches": "x2",
         "showgrid": false,
         "showline": false,
         "showticklabels": false,
         "ticks": ""
        },
        "xaxis3": {
         "anchor": "y3",
         "domain": [
          0,
          0.8358
         ],
         "matches": "x",
         "showgrid": true,
         "showticklabels": false
        },
        "xaxis4": {
         "anchor": "y4",
         "domain": [
          0.8408,
          1
         ],
         "matches": "x2",
         "showgrid": false,
         "showline": false,
         "showticklabels": false,
         "ticks": ""
        },
        "yaxis": {
         "anchor": "x",
         "domain": [
          0,
          0.7326
         ],
         "title": {
          "text": "PBI"
         },
         "type": "log"
        },
        "yaxis2": {
         "anchor": "x2",
         "domain": [
          0,
          0.7326
         ],
         "matches": "y",
         "showgrid": true,
         "showticklabels": false,
         "type": "log"
        },
        "yaxis3": {
         "anchor": "x3",
         "domain": [
          0.7426,
          1
         ],
         "matches": "y3",
         "showgrid": true,
         "showline": false,
         "showticklabels": false,
         "ticks": ""
        },
        "yaxis4": {
         "anchor": "x4",
         "domain": [
          0.7426,
          1
         ],
         "matches": "y3",
         "showgrid": true,
         "showline": false,
         "showticklabels": false,
         "ticks": ""
        }
       }
      },
      "text/html": [
       "<div>                            <div id=\"c6823b06-a6bb-4222-bcff-008df8cbc7b3\" class=\"plotly-graph-div\" style=\"height:525px; width:100%;\"></div>            <script type=\"text/javascript\">                require([\"plotly\"], function(Plotly) {                    window.PLOTLYENV=window.PLOTLYENV || {};                                    if (document.getElementById(\"c6823b06-a6bb-4222-bcff-008df8cbc7b3\")) {                    Plotly.newPlot(                        \"c6823b06-a6bb-4222-bcff-008df8cbc7b3\",                        [{\"hovertemplate\": \"<b>%{hovertext}</b><br><br>TCR=%{x}<br>PBI=%{y}<extra></extra>\", \"hovertext\": [\"Argentina\", \"Argentina\", \"Argentina\", \"Argentina\", \"Argentina\", \"Argentina\", \"Argentina\", \"Argentina\", \"Argentina\", \"Argentina\", \"Australia\", \"Australia\", \"Australia\", \"Australia\", \"Australia\", \"Australia\", \"Australia\", \"Australia\", \"Australia\", \"Australia\", \"Bahamas\", \"Bahamas\", \"Bahamas\", \"Bahamas\", \"Bahamas\", \"Bahamas\", \"Bahamas\", \"Bahamas\", \"Bahamas\", \"Bahamas\", \"Belice\", \"Belice\", \"Belice\", \"Belice\", \"Belice\", \"Belice\", \"Belice\", \"Belice\", \"Belice\", \"Belice\", \"Bolivia\", \"Bolivia\", \"Bolivia\", \"Bolivia\", \"Bolivia\", \"Bolivia\", \"Bolivia\", \"Bolivia\", \"Bolivia\", \"Bolivia\", \"Brasil\", \"Brasil\", \"Brasil\", \"Brasil\", \"Brasil\", \"Brasil\", \"Brasil\", \"Brasil\", \"Brasil\", \"Brasil\", \"Bulgaria\", \"Bulgaria\", \"Bulgaria\", \"Bulgaria\", \"Bulgaria\", \"Bulgaria\", \"Bulgaria\", \"Bulgaria\", \"Bulgaria\", \"Bulgaria\", \"Camer\\u00fan\", \"Camer\\u00fan\", \"Camer\\u00fan\", \"Camer\\u00fan\", \"Camer\\u00fan\", \"Camer\\u00fan\", \"Camer\\u00fan\", \"Camer\\u00fan\", \"Camer\\u00fan\", \"Camer\\u00fan\", \"Canad\\u00e1\", \"Canad\\u00e1\", \"Canad\\u00e1\", \"Canad\\u00e1\", \"Canad\\u00e1\", \"Canad\\u00e1\", \"Canad\\u00e1\", \"Canad\\u00e1\", \"Canad\\u00e1\", \"Canad\\u00e1\", \"Chile\", \"Chile\", \"Chile\", \"Chile\", \"Chile\", \"Chile\", \"Chile\", \"Chile\", \"Chile\", \"Chile\", \"China\", \"China\", \"China\", \"China\", \"China\", \"China\", \"China\", \"China\", \"China\", \"China\", \"Colombia\", \"Colombia\", \"Colombia\", \"Colombia\", \"Colombia\", \"Colombia\", \"Colombia\", \"Colombia\", \"Colombia\", \"Colombia\", \"Costa Rica\", \"Costa Rica\", \"Costa Rica\", \"Costa Rica\", \"Costa Rica\", \"Costa Rica\", \"Costa Rica\", \"Costa Rica\", \"Costa Rica\", \"Costa Rica\", \"Dominica\", \"Dominica\", \"Dominica\", \"Dominica\", \"Dominica\", \"Dominica\", \"Dominica\", \"Dominica\", \"Dominica\", \"Dominica\", \"Granada\", \"Granada\", \"Granada\", \"Granada\", \"Granada\", \"Granada\", \"Granada\", \"Granada\", \"Granada\", \"Granada\", \"Guyana\", \"Guyana\", \"Guyana\", \"Guyana\", \"Guyana\", \"Guyana\", \"Guyana\", \"Guyana\", \"Guyana\", \"Guyana\", \"Jap\\u00f3n\", \"Jap\\u00f3n\", \"Jap\\u00f3n\", \"Jap\\u00f3n\", \"Jap\\u00f3n\", \"Jap\\u00f3n\", \"Jap\\u00f3n\", \"Jap\\u00f3n\", \"Jap\\u00f3n\", \"Jap\\u00f3n\", \"M\\u00e9xico\", \"M\\u00e9xico\", \"M\\u00e9xico\", \"M\\u00e9xico\", \"M\\u00e9xico\", \"M\\u00e9xico\", \"M\\u00e9xico\", \"M\\u00e9xico\", \"M\\u00e9xico\", \"M\\u00e9xico\", \"Nicaragua\", \"Nicaragua\", \"Nicaragua\", \"Nicaragua\", \"Nicaragua\", \"Nicaragua\", \"Nicaragua\", \"Nicaragua\", \"Nicaragua\", \"Nicaragua\", \"Noruega\", \"Noruega\", \"Noruega\", \"Noruega\", \"Noruega\", \"Noruega\", \"Noruega\", \"Noruega\", \"Noruega\", \"Noruega\", \"Nueva Zelandia\", \"Nueva Zelandia\", \"Nueva Zelandia\", \"Nueva Zelandia\", \"Nueva Zelandia\", \"Nueva Zelandia\", \"Nueva Zelandia\", \"Nueva Zelandia\", \"Nueva Zelandia\", \"Nueva Zelandia\", \"Paraguay\", \"Paraguay\", \"Paraguay\", \"Paraguay\", \"Paraguay\", \"Paraguay\", \"Paraguay\", \"Paraguay\", \"Paraguay\", \"Paraguay\", \"Polonia\", \"Polonia\", \"Polonia\", \"Polonia\", \"Polonia\", \"Polonia\", \"Polonia\", \"Polonia\", \"Polonia\", \"Polonia\", \"Portugal\", \"Portugal\", \"Portugal\", \"Portugal\", \"Portugal\", \"Portugal\", \"Portugal\", \"Portugal\", \"Portugal\", \"Portugal\", \"Rep\\u00fablica Dominicana\", \"Rep\\u00fablica Dominicana\", \"Rep\\u00fablica Dominicana\", \"Rep\\u00fablica Dominicana\", \"Rep\\u00fablica Dominicana\", \"Rep\\u00fablica Dominicana\", \"Rep\\u00fablica Dominicana\", \"Rep\\u00fablica Dominicana\", \"Rep\\u00fablica Dominicana\", \"Rep\\u00fablica Dominicana\", \"Sud\\u00e1frica\", \"Sud\\u00e1frica\", \"Sud\\u00e1frica\", \"Sud\\u00e1frica\", \"Sud\\u00e1frica\", \"Sud\\u00e1frica\", \"Sud\\u00e1frica\", \"Sud\\u00e1frica\", \"Sud\\u00e1frica\", \"Sud\\u00e1frica\", \"Suecia\", \"Suecia\", \"Suecia\", \"Suecia\", \"Suecia\", \"Suecia\", \"Suecia\", \"Suecia\", \"Suecia\", \"Suecia\", \"Suiza\", \"Suiza\", \"Suiza\", \"Suiza\", \"Suiza\", \"Suiza\", \"Suiza\", \"Suiza\", \"Suiza\", \"Suiza\", \"Trinidad y Tobago\", \"Trinidad y Tobago\", \"Trinidad y Tobago\", \"Trinidad y Tobago\", \"Trinidad y Tobago\", \"Trinidad y Tobago\", \"Trinidad y Tobago\", \"Trinidad y Tobago\", \"Trinidad y Tobago\", \"Trinidad y Tobago\", \"Uruguay\", \"Uruguay\", \"Uruguay\", \"Uruguay\", \"Uruguay\", \"Uruguay\", \"Uruguay\", \"Uruguay\", \"Uruguay\", \"Uruguay\"], \"legendgroup\": \"\", \"marker\": {\"color\": \"#636efa\", \"symbol\": \"circle\"}, \"mode\": \"markers\", \"name\": \"\", \"orientation\": \"v\", \"showlegend\": false, \"type\": \"scatter\", \"x\": [93.4, 80.0, 77.1, 81.2, 63.5, 72.4, 67.8, 84.1, 93.3, 118.4, 106.96, 109.03, 103.45, 98.32, 89.85, 90.93, 93.69, 89.95, 86.01, 85.36, 99.34, 99.26, 99.01, 99.0, 102.26, 101.33, 100.71, 100.49, 101.85, 100.28, 95.37, 96.98, 95.4, 96.35, 102.61, 104.38, 102.63, 99.9, 100.1, 99.54, 102.29, 106.66, 112.27, 120.09, 137.69, 143.32, 140.12, 143.26, 149.84, 157.44, 103.18, 92.01, 86.43, 84.59, 69.62, 73.04, 79.26, 70.98, 69.68, 55.31, 101.45, 100.02, 100.92, 100.11, 96.82, 96.97, 98.04, 101.31, 101.82, 104.68, 100.22, 96.46, 98.92, 99.72, 93.54, 95.64, 96.53, 97.92, 96.85, 99.85, 101.56, 101.08, 97.48, 91.48, 83.13, 81.53, 82.75, 82.3, 81.52, 80.63, 100.71, 102.9, 101.35, 91.87, 90.99, 92.62, 95.74, 97.1, 92.52, 84.86, 102.69, 108.68, 114.62, 118.31, 129.97, 123.67, 120.09, 121.74, 120.89, 123.44, 100.13, 105.34, 101.29, 95.87, 77.62, 73.99, 76.44, 77.23, 72.71, 67.05, 101.82, 106.19, 110.5, 106.31, 114.59, 113.79, 108.53, 105.74, 106.42, 107.3, 95.2, 95.55, 94.52, 94.22, 98.27, 101.84, 102.61, 101.85, 103.01, 94.36, 97.06, 97.71, 96.46, 93.63, 97.02, 99.15, 97.79, 95.43, 96.12, 94.16, 97.76, 99.27, 99.58, 99.08, 105.43, 107.28, 107.04, 104.61, 107.48, 108.66, 101.13, 99.89, 79.64, 74.58, 69.42, 78.85, 75.03, 74.37, 76.53, 77.25, 99.8, 96.63, 102.27, 101.24, 90.75, 79.03, 80.88, 80.99, 83.69, 77.35, 95.88, 97.43, 97.23, 97.32, 101.99, 102.1, 98.33, 95.57, 95.54, 95.72, 100.39, 99.6, 98.1, 93.19, 84.31, 84.82, 85.65, 86.06, 83.74, 78.2, 104.19, 107.71, 109.98, 112.87, 104.98, 105.85, 107.38, 102.87, 101.35, 100.57, 112.19, 110.27, 115.33, 117.52, 114.81, 110.83, 109.94, 113.52, 110.21, 108.86, 98.43, 95.68, 96.26, 96.86, 92.61, 88.86, 91.83, 93.37, 92.18, 92.8, 100.81, 99.28, 99.28, 98.47, 95.42, 96.72, 96.81, 97.8, 96.27, 97.1, 96.42, 96.33, 93.55, 91.64, 94.2, 93.77, 90.88, 87.85, 86.83, 81.02, 98.28, 92.44, 82.09, 77.07, 75.15, 70.43, 79.36, 80.71, 78.14, 70.92, 105.84, 105.13, 106.41, 100.75, 93.33, 93.89, 92.98, 89.17, 85.65, 87.73, 109.47, 105.34, 103.6, 104.24, 110.5, 108.14, 106.0, 103.07, 104.17, 108.13, 98.71, 107.32, 111.09, 117.53, 132.49, 131.35, 127.97, 126.31, 128.78, 130.35, 102.07, 104.8, 111.09, 106.77, 107.47, 108.47, 115.01, 116.75, 113.15, 107.77], \"xaxis\": \"x\", \"y\": [10883.3, 10649.8, 10784.6, 10398.7, 10568.2, 10239.5, 10419.5, 10049.6, 9742.5, 8692.7, 52567.8, 53682.0, 54129.9, 54679.4, 55079.9, 55728.7, 56058.5, 56832.1, 57183.4, 56307.3, 28248.5, 28800.2, 27755.3, 27785.9, 27583.9, 27706.5, 28283.4, 28845.6, 28908.3, 23971.1, 4250.4, 4253.1, 4212.4, 4287.4, 4308.2, 4219.4, 4211.6, 4251.6, 4245.7, 3583.0, 2024.1, 2094.0, 2201.4, 2286.0, 2361.1, 2425.6, 2491.0, 2559.5, 2579.9, 2345.5, 11627.8, 11745.8, 11993.5, 11951.2, 11431.2, 10966.0, 11021.7, 11130.7, 11203.3, 10672.2, 7017.7, 7083.6, 7146.6, 7322.8, 7663.7, 8012.5, 8354.0, 8674.7, 9058.7, 8743.2, 1303.4, 1325.9, 1360.1, 1401.8, 1441.8, 1469.2, 1481.7, 1502.2, 1518.3, 1490.8, 48581.0, 48903.2, 49516.3, 50427.9, 50382.9, 50314.4, 51225.7, 51734.3, 51956.8, 48617.1, 13455.8, 14035.7, 14461.2, 14561.3, 14722.4, 14777.1, 14740.6, 15076.9, 15039.9, 14050.2, 4961.2, 5325.4, 5710.7, 6103.7, 6500.4, 6908.1, 7346.8, 7807.1, 8242.1, 8405.2, 6711.7, 6911.8, 7201.0, 7449.3, 7580.3, 7633.4, 7620.9, 7698.1, 7843.5, 7228.4, 8486.1, 8796.2, 8912.7, 9125.9, 9356.9, 9647.8, 9946.1, 10050.2, 10170.2, 9619.7, 6948.4, 6870.7, 6795.8, 7090.9, 6891.9, 7055.0, 6561.2, 6696.5, 6910.5, 5741.2, 7275.4, 7146.8, 7266.2, 7747.6, 8193.9, 8449.2, 8775.9, 9092.2, 9226.6, 8152.7, 4808.6, 5044.9, 5202.4, 5261.8, 5269.9, 5442.7, 5617.8, 5838.8, 6121.7, 8741.2, 44538.7, 45276.9, 46249.2, 46484.2, 47102.6, 47403.0, 48510.6, 48766.1, 49000.3, 47628.3, 9477.9, 9690.9, 9693.7, 9843.4, 10042.1, 10183.0, 10277.9, 10385.8, 10267.5, 9322.3, 1577.5, 1657.7, 1716.4, 1775.0, 1836.0, 1895.2, 1957.9, 1868.4, 1777.8, 1721.8, 87413.1, 88604.6, 88444.9, 89175.5, 90029.4, 90196.0, 91549.0, 91964.3, 92123.7, 90884.6, 34175.2, 34749.9, 35413.5, 36158.5, 36743.3, 37267.4, 37815.8, 38335.2, 38345.7, 37922.2, 4484.6, 4392.1, 4691.5, 4873.4, 4950.6, 5094.0, 5269.7, 5369.0, 5280.2, 5163.0, 13206.0, 13381.0, 13539.8, 14007.7, 14610.9, 15076.4, 15802.7, 16648.8, 17409.0, 16945.2, 22149.6, 21337.3, 21256.8, 21541.0, 22018.0, 22533.6, 23380.7, 24085.4, 24679.0, 22769.7, 5660.5, 5745.4, 5955.2, 6301.7, 6661.9, 7026.2, 7273.4, 7697.7, 8002.4, 7389.7, 7454.8, 7500.2, 7564.3, 7582.9, 7556.8, 7476.1, 7475.2, 7432.0, 7346.0, 6748.2, 54147.9, 53432.6, 53611.1, 54492.6, 56340.0, 56788.5, 57467.2, 57911.2, 58112.4, 56068.3, 77729.0, 77844.2, 78356.0, 79299.8, 79702.0, 80448.7, 80964.6, 82792.3, 83093.2, 80132.4, 16534.2, 16636.7, 16895.8, 16635.6, 16783.9, 15760.6, 15218.0, 15164.7, 14920.6, 13707.6, 12574.9, 12981.1, 13541.2, 13934.6, 13938.8, 14124.1, 14301.8, 14317.5, 14316.0, 13430.7], \"yaxis\": \"y\"}, {\"alignmentgroup\": \"True\", \"bingroup\": \"x\", \"hovertemplate\": \"TCR=%{x}<br>count=%{y}<extra></extra>\", \"legendgroup\": \"\", \"marker\": {\"color\": \"#636efa\"}, \"name\": \"\", \"offsetgroup\": \"\", \"opacity\": 0.5, \"showlegend\": false, \"type\": \"histogram\", \"x\": [93.4, 80.0, 77.1, 81.2, 63.5, 72.4, 67.8, 84.1, 93.3, 118.4, 106.96, 109.03, 103.45, 98.32, 89.85, 90.93, 93.69, 89.95, 86.01, 85.36, 99.34, 99.26, 99.01, 99.0, 102.26, 101.33, 100.71, 100.49, 101.85, 100.28, 95.37, 96.98, 95.4, 96.35, 102.61, 104.38, 102.63, 99.9, 100.1, 99.54, 102.29, 106.66, 112.27, 120.09, 137.69, 143.32, 140.12, 143.26, 149.84, 157.44, 103.18, 92.01, 86.43, 84.59, 69.62, 73.04, 79.26, 70.98, 69.68, 55.31, 101.45, 100.02, 100.92, 100.11, 96.82, 96.97, 98.04, 101.31, 101.82, 104.68, 100.22, 96.46, 98.92, 99.72, 93.54, 95.64, 96.53, 97.92, 96.85, 99.85, 101.56, 101.08, 97.48, 91.48, 83.13, 81.53, 82.75, 82.3, 81.52, 80.63, 100.71, 102.9, 101.35, 91.87, 90.99, 92.62, 95.74, 97.1, 92.52, 84.86, 102.69, 108.68, 114.62, 118.31, 129.97, 123.67, 120.09, 121.74, 120.89, 123.44, 100.13, 105.34, 101.29, 95.87, 77.62, 73.99, 76.44, 77.23, 72.71, 67.05, 101.82, 106.19, 110.5, 106.31, 114.59, 113.79, 108.53, 105.74, 106.42, 107.3, 95.2, 95.55, 94.52, 94.22, 98.27, 101.84, 102.61, 101.85, 103.01, 94.36, 97.06, 97.71, 96.46, 93.63, 97.02, 99.15, 97.79, 95.43, 96.12, 94.16, 97.76, 99.27, 99.58, 99.08, 105.43, 107.28, 107.04, 104.61, 107.48, 108.66, 101.13, 99.89, 79.64, 74.58, 69.42, 78.85, 75.03, 74.37, 76.53, 77.25, 99.8, 96.63, 102.27, 101.24, 90.75, 79.03, 80.88, 80.99, 83.69, 77.35, 95.88, 97.43, 97.23, 97.32, 101.99, 102.1, 98.33, 95.57, 95.54, 95.72, 100.39, 99.6, 98.1, 93.19, 84.31, 84.82, 85.65, 86.06, 83.74, 78.2, 104.19, 107.71, 109.98, 112.87, 104.98, 105.85, 107.38, 102.87, 101.35, 100.57, 112.19, 110.27, 115.33, 117.52, 114.81, 110.83, 109.94, 113.52, 110.21, 108.86, 98.43, 95.68, 96.26, 96.86, 92.61, 88.86, 91.83, 93.37, 92.18, 92.8, 100.81, 99.28, 99.28, 98.47, 95.42, 96.72, 96.81, 97.8, 96.27, 97.1, 96.42, 96.33, 93.55, 91.64, 94.2, 93.77, 90.88, 87.85, 86.83, 81.02, 98.28, 92.44, 82.09, 77.07, 75.15, 70.43, 79.36, 80.71, 78.14, 70.92, 105.84, 105.13, 106.41, 100.75, 93.33, 93.89, 92.98, 89.17, 85.65, 87.73, 109.47, 105.34, 103.6, 104.24, 110.5, 108.14, 106.0, 103.07, 104.17, 108.13, 98.71, 107.32, 111.09, 117.53, 132.49, 131.35, 127.97, 126.31, 128.78, 130.35, 102.07, 104.8, 111.09, 106.77, 107.47, 108.47, 115.01, 116.75, 113.15, 107.77], \"xaxis\": \"x3\", \"yaxis\": \"y3\"}, {\"alignmentgroup\": \"True\", \"boxpoints\": \"all\", \"fillcolor\": \"rgba(255,255,255,0)\", \"hoveron\": \"points\", \"hovertemplate\": \"<b>%{hovertext}</b><br><br>PBI=%{y}<extra></extra>\", \"hovertext\": [\"Argentina\", \"Argentina\", \"Argentina\", \"Argentina\", \"Argentina\", \"Argentina\", \"Argentina\", \"Argentina\", \"Argentina\", \"Argentina\", \"Australia\", \"Australia\", \"Australia\", \"Australia\", \"Australia\", \"Australia\", \"Australia\", \"Australia\", \"Australia\", \"Australia\", \"Bahamas\", \"Bahamas\", \"Bahamas\", \"Bahamas\", \"Bahamas\", \"Bahamas\", \"Bahamas\", \"Bahamas\", \"Bahamas\", \"Bahamas\", \"Belice\", \"Belice\", \"Belice\", \"Belice\", \"Belice\", \"Belice\", \"Belice\", \"Belice\", \"Belice\", \"Belice\", \"Bolivia\", \"Bolivia\", \"Bolivia\", \"Bolivia\", \"Bolivia\", \"Bolivia\", \"Bolivia\", \"Bolivia\", \"Bolivia\", \"Bolivia\", \"Brasil\", \"Brasil\", \"Brasil\", \"Brasil\", \"Brasil\", \"Brasil\", \"Brasil\", \"Brasil\", \"Brasil\", \"Brasil\", \"Bulgaria\", \"Bulgaria\", \"Bulgaria\", \"Bulgaria\", \"Bulgaria\", \"Bulgaria\", \"Bulgaria\", \"Bulgaria\", \"Bulgaria\", \"Bulgaria\", \"Camer\\u00fan\", \"Camer\\u00fan\", \"Camer\\u00fan\", \"Camer\\u00fan\", \"Camer\\u00fan\", \"Camer\\u00fan\", \"Camer\\u00fan\", \"Camer\\u00fan\", \"Camer\\u00fan\", \"Camer\\u00fan\", \"Canad\\u00e1\", \"Canad\\u00e1\", \"Canad\\u00e1\", \"Canad\\u00e1\", \"Canad\\u00e1\", \"Canad\\u00e1\", \"Canad\\u00e1\", \"Canad\\u00e1\", \"Canad\\u00e1\", \"Canad\\u00e1\", \"Chile\", \"Chile\", \"Chile\", \"Chile\", \"Chile\", \"Chile\", \"Chile\", \"Chile\", \"Chile\", \"Chile\", \"China\", \"China\", \"China\", \"China\", \"China\", \"China\", \"China\", \"China\", \"China\", \"China\", \"Colombia\", \"Colombia\", \"Colombia\", \"Colombia\", \"Colombia\", \"Colombia\", \"Colombia\", \"Colombia\", \"Colombia\", \"Colombia\", \"Costa Rica\", \"Costa Rica\", \"Costa Rica\", \"Costa Rica\", \"Costa Rica\", \"Costa Rica\", \"Costa Rica\", \"Costa Rica\", \"Costa Rica\", \"Costa Rica\", \"Dominica\", \"Dominica\", \"Dominica\", \"Dominica\", \"Dominica\", \"Dominica\", \"Dominica\", \"Dominica\", \"Dominica\", \"Dominica\", \"Granada\", \"Granada\", \"Granada\", \"Granada\", \"Granada\", \"Granada\", \"Granada\", \"Granada\", \"Granada\", \"Granada\", \"Guyana\", \"Guyana\", \"Guyana\", \"Guyana\", \"Guyana\", \"Guyana\", \"Guyana\", \"Guyana\", \"Guyana\", \"Guyana\", \"Jap\\u00f3n\", \"Jap\\u00f3n\", \"Jap\\u00f3n\", \"Jap\\u00f3n\", \"Jap\\u00f3n\", \"Jap\\u00f3n\", \"Jap\\u00f3n\", \"Jap\\u00f3n\", \"Jap\\u00f3n\", \"Jap\\u00f3n\", \"M\\u00e9xico\", \"M\\u00e9xico\", \"M\\u00e9xico\", \"M\\u00e9xico\", \"M\\u00e9xico\", \"M\\u00e9xico\", \"M\\u00e9xico\", \"M\\u00e9xico\", \"M\\u00e9xico\", \"M\\u00e9xico\", \"Nicaragua\", \"Nicaragua\", \"Nicaragua\", \"Nicaragua\", \"Nicaragua\", \"Nicaragua\", \"Nicaragua\", \"Nicaragua\", \"Nicaragua\", \"Nicaragua\", \"Noruega\", \"Noruega\", \"Noruega\", \"Noruega\", \"Noruega\", \"Noruega\", \"Noruega\", \"Noruega\", \"Noruega\", \"Noruega\", \"Nueva Zelandia\", \"Nueva Zelandia\", \"Nueva Zelandia\", \"Nueva Zelandia\", \"Nueva Zelandia\", \"Nueva Zelandia\", \"Nueva Zelandia\", \"Nueva Zelandia\", \"Nueva Zelandia\", \"Nueva Zelandia\", \"Paraguay\", \"Paraguay\", \"Paraguay\", \"Paraguay\", \"Paraguay\", \"Paraguay\", \"Paraguay\", \"Paraguay\", \"Paraguay\", \"Paraguay\", \"Polonia\", \"Polonia\", \"Polonia\", \"Polonia\", \"Polonia\", \"Polonia\", \"Polonia\", \"Polonia\", \"Polonia\", \"Polonia\", \"Portugal\", \"Portugal\", \"Portugal\", \"Portugal\", \"Portugal\", \"Portugal\", \"Portugal\", \"Portugal\", \"Portugal\", \"Portugal\", \"Rep\\u00fablica Dominicana\", \"Rep\\u00fablica Dominicana\", \"Rep\\u00fablica Dominicana\", \"Rep\\u00fablica Dominicana\", \"Rep\\u00fablica Dominicana\", \"Rep\\u00fablica Dominicana\", \"Rep\\u00fablica Dominicana\", \"Rep\\u00fablica Dominicana\", \"Rep\\u00fablica Dominicana\", \"Rep\\u00fablica Dominicana\", \"Sud\\u00e1frica\", \"Sud\\u00e1frica\", \"Sud\\u00e1frica\", \"Sud\\u00e1frica\", \"Sud\\u00e1frica\", \"Sud\\u00e1frica\", \"Sud\\u00e1frica\", \"Sud\\u00e1frica\", \"Sud\\u00e1frica\", \"Sud\\u00e1frica\", \"Suecia\", \"Suecia\", \"Suecia\", \"Suecia\", \"Suecia\", \"Suecia\", \"Suecia\", \"Suecia\", \"Suecia\", \"Suecia\", \"Suiza\", \"Suiza\", \"Suiza\", \"Suiza\", \"Suiza\", \"Suiza\", \"Suiza\", \"Suiza\", \"Suiza\", \"Suiza\", \"Trinidad y Tobago\", \"Trinidad y Tobago\", \"Trinidad y Tobago\", \"Trinidad y Tobago\", \"Trinidad y Tobago\", \"Trinidad y Tobago\", \"Trinidad y Tobago\", \"Trinidad y Tobago\", \"Trinidad y Tobago\", \"Trinidad y Tobago\", \"Uruguay\", \"Uruguay\", \"Uruguay\", \"Uruguay\", \"Uruguay\", \"Uruguay\", \"Uruguay\", \"Uruguay\", \"Uruguay\", \"Uruguay\"], \"jitter\": 0, \"legendgroup\": \"\", \"line\": {\"color\": \"rgba(255,255,255,0)\"}, \"marker\": {\"color\": \"#636efa\", \"symbol\": \"line-ew-open\"}, \"name\": \"\", \"offsetgroup\": \"\", \"showlegend\": false, \"type\": \"box\", \"xaxis\": \"x2\", \"y\": [10883.3, 10649.8, 10784.6, 10398.7, 10568.2, 10239.5, 10419.5, 10049.6, 9742.5, 8692.7, 52567.8, 53682.0, 54129.9, 54679.4, 55079.9, 55728.7, 56058.5, 56832.1, 57183.4, 56307.3, 28248.5, 28800.2, 27755.3, 27785.9, 27583.9, 27706.5, 28283.4, 28845.6, 28908.3, 23971.1, 4250.4, 4253.1, 4212.4, 4287.4, 4308.2, 4219.4, 4211.6, 4251.6, 4245.7, 3583.0, 2024.1, 2094.0, 2201.4, 2286.0, 2361.1, 2425.6, 2491.0, 2559.5, 2579.9, 2345.5, 11627.8, 11745.8, 11993.5, 11951.2, 11431.2, 10966.0, 11021.7, 11130.7, 11203.3, 10672.2, 7017.7, 7083.6, 7146.6, 7322.8, 7663.7, 8012.5, 8354.0, 8674.7, 9058.7, 8743.2, 1303.4, 1325.9, 1360.1, 1401.8, 1441.8, 1469.2, 1481.7, 1502.2, 1518.3, 1490.8, 48581.0, 48903.2, 49516.3, 50427.9, 50382.9, 50314.4, 51225.7, 51734.3, 51956.8, 48617.1, 13455.8, 14035.7, 14461.2, 14561.3, 14722.4, 14777.1, 14740.6, 15076.9, 15039.9, 14050.2, 4961.2, 5325.4, 5710.7, 6103.7, 6500.4, 6908.1, 7346.8, 7807.1, 8242.1, 8405.2, 6711.7, 6911.8, 7201.0, 7449.3, 7580.3, 7633.4, 7620.9, 7698.1, 7843.5, 7228.4, 8486.1, 8796.2, 8912.7, 9125.9, 9356.9, 9647.8, 9946.1, 10050.2, 10170.2, 9619.7, 6948.4, 6870.7, 6795.8, 7090.9, 6891.9, 7055.0, 6561.2, 6696.5, 6910.5, 5741.2, 7275.4, 7146.8, 7266.2, 7747.6, 8193.9, 8449.2, 8775.9, 9092.2, 9226.6, 8152.7, 4808.6, 5044.9, 5202.4, 5261.8, 5269.9, 5442.7, 5617.8, 5838.8, 6121.7, 8741.2, 44538.7, 45276.9, 46249.2, 46484.2, 47102.6, 47403.0, 48510.6, 48766.1, 49000.3, 47628.3, 9477.9, 9690.9, 9693.7, 9843.4, 10042.1, 10183.0, 10277.9, 10385.8, 10267.5, 9322.3, 1577.5, 1657.7, 1716.4, 1775.0, 1836.0, 1895.2, 1957.9, 1868.4, 1777.8, 1721.8, 87413.1, 88604.6, 88444.9, 89175.5, 90029.4, 90196.0, 91549.0, 91964.3, 92123.7, 90884.6, 34175.2, 34749.9, 35413.5, 36158.5, 36743.3, 37267.4, 37815.8, 38335.2, 38345.7, 37922.2, 4484.6, 4392.1, 4691.5, 4873.4, 4950.6, 5094.0, 5269.7, 5369.0, 5280.2, 5163.0, 13206.0, 13381.0, 13539.8, 14007.7, 14610.9, 15076.4, 15802.7, 16648.8, 17409.0, 16945.2, 22149.6, 21337.3, 21256.8, 21541.0, 22018.0, 22533.6, 23380.7, 24085.4, 24679.0, 22769.7, 5660.5, 5745.4, 5955.2, 6301.7, 6661.9, 7026.2, 7273.4, 7697.7, 8002.4, 7389.7, 7454.8, 7500.2, 7564.3, 7582.9, 7556.8, 7476.1, 7475.2, 7432.0, 7346.0, 6748.2, 54147.9, 53432.6, 53611.1, 54492.6, 56340.0, 56788.5, 57467.2, 57911.2, 58112.4, 56068.3, 77729.0, 77844.2, 78356.0, 79299.8, 79702.0, 80448.7, 80964.6, 82792.3, 83093.2, 80132.4, 16534.2, 16636.7, 16895.8, 16635.6, 16783.9, 15760.6, 15218.0, 15164.7, 14920.6, 13707.6, 12574.9, 12981.1, 13541.2, 13934.6, 13938.8, 14124.1, 14301.8, 14317.5, 14316.0, 13430.7], \"yaxis\": \"y2\"}],                        {\"barmode\": \"overlay\", \"legend\": {\"tracegroupgap\": 0}, \"margin\": {\"t\": 60}, \"template\": {\"data\": {\"bar\": [{\"error_x\": {\"color\": \"#2a3f5f\"}, \"error_y\": {\"color\": \"#2a3f5f\"}, \"marker\": {\"line\": {\"color\": \"#E5ECF6\", \"width\": 0.5}}, \"type\": \"bar\"}], \"barpolar\": [{\"marker\": {\"line\": {\"color\": \"#E5ECF6\", \"width\": 0.5}}, \"type\": \"barpolar\"}], \"carpet\": [{\"aaxis\": {\"endlinecolor\": \"#2a3f5f\", \"gridcolor\": \"white\", \"linecolor\": \"white\", \"minorgridcolor\": \"white\", \"startlinecolor\": \"#2a3f5f\"}, \"baxis\": {\"endlinecolor\": \"#2a3f5f\", \"gridcolor\": \"white\", \"linecolor\": \"white\", \"minorgridcolor\": \"white\", \"startlinecolor\": \"#2a3f5f\"}, \"type\": \"carpet\"}], \"choropleth\": [{\"colorbar\": {\"outlinewidth\": 0, \"ticks\": \"\"}, \"type\": \"choropleth\"}], \"contour\": [{\"colorbar\": {\"outlinewidth\": 0, \"ticks\": \"\"}, \"colorscale\": [[0.0, \"#0d0887\"], [0.1111111111111111, \"#46039f\"], [0.2222222222222222, \"#7201a8\"], [0.3333333333333333, \"#9c179e\"], [0.4444444444444444, \"#bd3786\"], [0.5555555555555556, \"#d8576b\"], [0.6666666666666666, \"#ed7953\"], [0.7777777777777778, \"#fb9f3a\"], [0.8888888888888888, \"#fdca26\"], [1.0, \"#f0f921\"]], \"type\": \"contour\"}], \"contourcarpet\": [{\"colorbar\": {\"outlinewidth\": 0, \"ticks\": \"\"}, \"type\": \"contourcarpet\"}], \"heatmap\": [{\"colorbar\": {\"outlinewidth\": 0, \"ticks\": \"\"}, \"colorscale\": [[0.0, \"#0d0887\"], [0.1111111111111111, \"#46039f\"], [0.2222222222222222, \"#7201a8\"], [0.3333333333333333, \"#9c179e\"], [0.4444444444444444, \"#bd3786\"], [0.5555555555555556, \"#d8576b\"], [0.6666666666666666, \"#ed7953\"], [0.7777777777777778, \"#fb9f3a\"], [0.8888888888888888, \"#fdca26\"], [1.0, \"#f0f921\"]], \"type\": \"heatmap\"}], \"heatmapgl\": [{\"colorbar\": {\"outlinewidth\": 0, \"ticks\": \"\"}, \"colorscale\": [[0.0, \"#0d0887\"], [0.1111111111111111, \"#46039f\"], [0.2222222222222222, \"#7201a8\"], [0.3333333333333333, \"#9c179e\"], [0.4444444444444444, \"#bd3786\"], [0.5555555555555556, \"#d8576b\"], [0.6666666666666666, \"#ed7953\"], [0.7777777777777778, \"#fb9f3a\"], [0.8888888888888888, \"#fdca26\"], [1.0, \"#f0f921\"]], \"type\": \"heatmapgl\"}], \"histogram\": [{\"marker\": {\"colorbar\": {\"outlinewidth\": 0, \"ticks\": \"\"}}, \"type\": \"histogram\"}], \"histogram2d\": [{\"colorbar\": {\"outlinewidth\": 0, \"ticks\": \"\"}, \"colorscale\": [[0.0, \"#0d0887\"], [0.1111111111111111, \"#46039f\"], [0.2222222222222222, \"#7201a8\"], [0.3333333333333333, \"#9c179e\"], [0.4444444444444444, \"#bd3786\"], [0.5555555555555556, \"#d8576b\"], [0.6666666666666666, \"#ed7953\"], [0.7777777777777778, \"#fb9f3a\"], [0.8888888888888888, \"#fdca26\"], [1.0, \"#f0f921\"]], \"type\": \"histogram2d\"}], \"histogram2dcontour\": [{\"colorbar\": {\"outlinewidth\": 0, \"ticks\": \"\"}, \"colorscale\": [[0.0, \"#0d0887\"], [0.1111111111111111, \"#46039f\"], [0.2222222222222222, \"#7201a8\"], [0.3333333333333333, \"#9c179e\"], [0.4444444444444444, \"#bd3786\"], [0.5555555555555556, \"#d8576b\"], [0.6666666666666666, \"#ed7953\"], [0.7777777777777778, \"#fb9f3a\"], [0.8888888888888888, \"#fdca26\"], [1.0, \"#f0f921\"]], \"type\": \"histogram2dcontour\"}], \"mesh3d\": [{\"colorbar\": {\"outlinewidth\": 0, \"ticks\": \"\"}, \"type\": \"mesh3d\"}], \"parcoords\": [{\"line\": {\"colorbar\": {\"outlinewidth\": 0, \"ticks\": \"\"}}, \"type\": \"parcoords\"}], \"pie\": [{\"automargin\": true, \"type\": \"pie\"}], \"scatter\": [{\"marker\": {\"colorbar\": {\"outlinewidth\": 0, \"ticks\": \"\"}}, \"type\": \"scatter\"}], \"scatter3d\": [{\"line\": {\"colorbar\": {\"outlinewidth\": 0, \"ticks\": \"\"}}, \"marker\": {\"colorbar\": {\"outlinewidth\": 0, \"ticks\": \"\"}}, \"type\": \"scatter3d\"}], \"scattercarpet\": [{\"marker\": {\"colorbar\": {\"outlinewidth\": 0, \"ticks\": \"\"}}, \"type\": \"scattercarpet\"}], \"scattergeo\": [{\"marker\": {\"colorbar\": {\"outlinewidth\": 0, \"ticks\": \"\"}}, \"type\": \"scattergeo\"}], \"scattergl\": [{\"marker\": {\"colorbar\": {\"outlinewidth\": 0, \"ticks\": \"\"}}, \"type\": \"scattergl\"}], \"scattermapbox\": [{\"marker\": {\"colorbar\": {\"outlinewidth\": 0, \"ticks\": \"\"}}, \"type\": \"scattermapbox\"}], \"scatterpolar\": [{\"marker\": {\"colorbar\": {\"outlinewidth\": 0, \"ticks\": \"\"}}, \"type\": \"scatterpolar\"}], \"scatterpolargl\": [{\"marker\": {\"colorbar\": {\"outlinewidth\": 0, \"ticks\": \"\"}}, \"type\": \"scatterpolargl\"}], \"scatterternary\": [{\"marker\": {\"colorbar\": {\"outlinewidth\": 0, \"ticks\": \"\"}}, \"type\": \"scatterternary\"}], \"surface\": [{\"colorbar\": {\"outlinewidth\": 0, \"ticks\": \"\"}, \"colorscale\": [[0.0, \"#0d0887\"], [0.1111111111111111, \"#46039f\"], [0.2222222222222222, \"#7201a8\"], [0.3333333333333333, \"#9c179e\"], [0.4444444444444444, \"#bd3786\"], [0.5555555555555556, \"#d8576b\"], [0.6666666666666666, \"#ed7953\"], [0.7777777777777778, \"#fb9f3a\"], [0.8888888888888888, \"#fdca26\"], [1.0, \"#f0f921\"]], \"type\": \"surface\"}], \"table\": [{\"cells\": {\"fill\": {\"color\": \"#EBF0F8\"}, \"line\": {\"color\": \"white\"}}, \"header\": {\"fill\": {\"color\": \"#C8D4E3\"}, \"line\": {\"color\": \"white\"}}, \"type\": \"table\"}]}, \"layout\": {\"annotationdefaults\": {\"arrowcolor\": \"#2a3f5f\", \"arrowhead\": 0, \"arrowwidth\": 1}, \"autotypenumbers\": \"strict\", \"coloraxis\": {\"colorbar\": {\"outlinewidth\": 0, \"ticks\": \"\"}}, \"colorscale\": {\"diverging\": [[0, \"#8e0152\"], [0.1, \"#c51b7d\"], [0.2, \"#de77ae\"], [0.3, \"#f1b6da\"], [0.4, \"#fde0ef\"], [0.5, \"#f7f7f7\"], [0.6, \"#e6f5d0\"], [0.7, \"#b8e186\"], [0.8, \"#7fbc41\"], [0.9, \"#4d9221\"], [1, \"#276419\"]], \"sequential\": [[0.0, \"#0d0887\"], [0.1111111111111111, \"#46039f\"], [0.2222222222222222, \"#7201a8\"], [0.3333333333333333, \"#9c179e\"], [0.4444444444444444, \"#bd3786\"], [0.5555555555555556, \"#d8576b\"], [0.6666666666666666, \"#ed7953\"], [0.7777777777777778, \"#fb9f3a\"], [0.8888888888888888, \"#fdca26\"], [1.0, \"#f0f921\"]], \"sequentialminus\": [[0.0, \"#0d0887\"], [0.1111111111111111, \"#46039f\"], [0.2222222222222222, \"#7201a8\"], [0.3333333333333333, \"#9c179e\"], [0.4444444444444444, \"#bd3786\"], [0.5555555555555556, \"#d8576b\"], [0.6666666666666666, \"#ed7953\"], [0.7777777777777778, \"#fb9f3a\"], [0.8888888888888888, \"#fdca26\"], [1.0, \"#f0f921\"]]}, \"colorway\": [\"#636efa\", \"#EF553B\", \"#00cc96\", \"#ab63fa\", \"#FFA15A\", \"#19d3f3\", \"#FF6692\", \"#B6E880\", \"#FF97FF\", \"#FECB52\"], \"font\": {\"color\": \"#2a3f5f\"}, \"geo\": {\"bgcolor\": \"white\", \"lakecolor\": \"white\", \"landcolor\": \"#E5ECF6\", \"showlakes\": true, \"showland\": true, \"subunitcolor\": \"white\"}, \"hoverlabel\": {\"align\": \"left\"}, \"hovermode\": \"closest\", \"mapbox\": {\"style\": \"light\"}, \"paper_bgcolor\": \"white\", \"plot_bgcolor\": \"#E5ECF6\", \"polar\": {\"angularaxis\": {\"gridcolor\": \"white\", \"linecolor\": \"white\", \"ticks\": \"\"}, \"bgcolor\": \"#E5ECF6\", \"radialaxis\": {\"gridcolor\": \"white\", \"linecolor\": \"white\", \"ticks\": \"\"}}, \"scene\": {\"xaxis\": {\"backgroundcolor\": \"#E5ECF6\", \"gridcolor\": \"white\", \"gridwidth\": 2, \"linecolor\": \"white\", \"showbackground\": true, \"ticks\": \"\", \"zerolinecolor\": \"white\"}, \"yaxis\": {\"backgroundcolor\": \"#E5ECF6\", \"gridcolor\": \"white\", \"gridwidth\": 2, \"linecolor\": \"white\", \"showbackground\": true, \"ticks\": \"\", \"zerolinecolor\": \"white\"}, \"zaxis\": {\"backgroundcolor\": \"#E5ECF6\", \"gridcolor\": \"white\", \"gridwidth\": 2, \"linecolor\": \"white\", \"showbackground\": true, \"ticks\": \"\", \"zerolinecolor\": \"white\"}}, \"shapedefaults\": {\"line\": {\"color\": \"#2a3f5f\"}}, \"ternary\": {\"aaxis\": {\"gridcolor\": \"white\", \"linecolor\": \"white\", \"ticks\": \"\"}, \"baxis\": {\"gridcolor\": \"white\", \"linecolor\": \"white\", \"ticks\": \"\"}, \"bgcolor\": \"#E5ECF6\", \"caxis\": {\"gridcolor\": \"white\", \"linecolor\": \"white\", \"ticks\": \"\"}}, \"title\": {\"x\": 0.05}, \"xaxis\": {\"automargin\": true, \"gridcolor\": \"white\", \"linecolor\": \"white\", \"ticks\": \"\", \"title\": {\"standoff\": 15}, \"zerolinecolor\": \"white\", \"zerolinewidth\": 2}, \"yaxis\": {\"automargin\": true, \"gridcolor\": \"white\", \"linecolor\": \"white\", \"ticks\": \"\", \"title\": {\"standoff\": 15}, \"zerolinecolor\": \"white\", \"zerolinewidth\": 2}}}, \"xaxis\": {\"anchor\": \"y\", \"domain\": [0.0, 0.8358], \"title\": {\"text\": \"TCR\"}}, \"xaxis2\": {\"anchor\": \"y2\", \"domain\": [0.8408, 1.0], \"matches\": \"x2\", \"showgrid\": false, \"showline\": false, \"showticklabels\": false, \"ticks\": \"\"}, \"xaxis3\": {\"anchor\": \"y3\", \"domain\": [0.0, 0.8358], \"matches\": \"x\", \"showgrid\": true, \"showticklabels\": false}, \"xaxis4\": {\"anchor\": \"y4\", \"domain\": [0.8408, 1.0], \"matches\": \"x2\", \"showgrid\": false, \"showline\": false, \"showticklabels\": false, \"ticks\": \"\"}, \"yaxis\": {\"anchor\": \"x\", \"domain\": [0.0, 0.7326], \"title\": {\"text\": \"PBI\"}, \"type\": \"log\"}, \"yaxis2\": {\"anchor\": \"x2\", \"domain\": [0.0, 0.7326], \"matches\": \"y\", \"showgrid\": true, \"showticklabels\": false, \"type\": \"log\"}, \"yaxis3\": {\"anchor\": \"x3\", \"domain\": [0.7426, 1.0], \"matches\": \"y3\", \"showgrid\": true, \"showline\": false, \"showticklabels\": false, \"ticks\": \"\"}, \"yaxis4\": {\"anchor\": \"x4\", \"domain\": [0.7426, 1.0], \"matches\": \"y3\", \"showgrid\": true, \"showline\": false, \"showticklabels\": false, \"ticks\": \"\"}},                        {\"responsive\": true}                    ).then(function(){\n",
       "                            \n",
       "var gd = document.getElementById('c6823b06-a6bb-4222-bcff-008df8cbc7b3');\n",
       "var x = new MutationObserver(function (mutations, observer) {{\n",
       "        var display = window.getComputedStyle(gd).display;\n",
       "        if (!display || display === 'none') {{\n",
       "            console.log([gd, 'removed!']);\n",
       "            Plotly.purge(gd);\n",
       "            observer.disconnect();\n",
       "        }}\n",
       "}});\n",
       "\n",
       "// Listen for the removal of the full notebook cells\n",
       "var notebookContainer = gd.closest('#notebook-container');\n",
       "if (notebookContainer) {{\n",
       "    x.observe(notebookContainer, {childList: true});\n",
       "}}\n",
       "\n",
       "// Listen for the clearing of the current output cell\n",
       "var outputEl = gd.closest('.output');\n",
       "if (outputEl) {{\n",
       "    x.observe(outputEl, {childList: true});\n",
       "}}\n",
       "\n",
       "                        })                };                });            </script>        </div>"
      ]
     },
     "metadata": {},
     "output_type": "display_data"
    }
   ],
   "source": [
    "fig = px.scatter(final, x=\"TCR\", y=\"PBI\", marginal_x=\"histogram\", marginal_y=\"rug\",hover_name='Country Name',log_y=True)\n",
    "fig.show()"
   ]
  },
  {
   "cell_type": "code",
   "execution_count": 41,
   "id": "c15015f1",
   "metadata": {},
   "outputs": [
    {
     "data": {
      "application/vnd.plotly.v1+json": {
       "config": {
        "plotlyServerURL": "https://plotly.com"
       },
       "data": [
        {
         "hovertemplate": "TCR=%{x}<br>PBI=%{y}<extra></extra>",
         "legendgroup": "",
         "marker": {
          "color": "#636efa",
          "symbol": "circle"
         },
         "mode": "markers",
         "name": "",
         "orientation": "v",
         "showlegend": false,
         "type": "scatter",
         "x": [
          93.4,
          80,
          77.1,
          81.2,
          63.5,
          72.4,
          67.8,
          84.1,
          93.3,
          118.4,
          106.96,
          109.03,
          103.45,
          98.32,
          89.85,
          90.93,
          93.69,
          89.95,
          86.01,
          85.36,
          99.34,
          99.26,
          99.01,
          99,
          102.26,
          101.33,
          100.71,
          100.49,
          101.85,
          100.28,
          95.37,
          96.98,
          95.4,
          96.35,
          102.61,
          104.38,
          102.63,
          99.9,
          100.1,
          99.54,
          102.29,
          106.66,
          112.27,
          120.09,
          137.69,
          143.32,
          140.12,
          143.26,
          149.84,
          157.44,
          103.18,
          92.01,
          86.43,
          84.59,
          69.62,
          73.04,
          79.26,
          70.98,
          69.68,
          55.31,
          101.45,
          100.02,
          100.92,
          100.11,
          96.82,
          96.97,
          98.04,
          101.31,
          101.82,
          104.68,
          100.22,
          96.46,
          98.92,
          99.72,
          93.54,
          95.64,
          96.53,
          97.92,
          96.85,
          99.85,
          101.56,
          101.08,
          97.48,
          91.48,
          83.13,
          81.53,
          82.75,
          82.3,
          81.52,
          80.63,
          100.71,
          102.9,
          101.35,
          91.87,
          90.99,
          92.62,
          95.74,
          97.1,
          92.52,
          84.86,
          102.69,
          108.68,
          114.62,
          118.31,
          129.97,
          123.67,
          120.09,
          121.74,
          120.89,
          123.44,
          100.13,
          105.34,
          101.29,
          95.87,
          77.62,
          73.99,
          76.44,
          77.23,
          72.71,
          67.05,
          101.82,
          106.19,
          110.5,
          106.31,
          114.59,
          113.79,
          108.53,
          105.74,
          106.42,
          107.3,
          95.2,
          95.55,
          94.52,
          94.22,
          98.27,
          101.84,
          102.61,
          101.85,
          103.01,
          94.36,
          97.06,
          97.71,
          96.46,
          93.63,
          97.02,
          99.15,
          97.79,
          95.43,
          96.12,
          94.16,
          97.76,
          99.27,
          99.58,
          99.08,
          105.43,
          107.28,
          107.04,
          104.61,
          107.48,
          108.66,
          101.13,
          99.89,
          79.64,
          74.58,
          69.42,
          78.85,
          75.03,
          74.37,
          76.53,
          77.25,
          99.8,
          96.63,
          102.27,
          101.24,
          90.75,
          79.03,
          80.88,
          80.99,
          83.69,
          77.35,
          95.88,
          97.43,
          97.23,
          97.32,
          101.99,
          102.1,
          98.33,
          95.57,
          95.54,
          95.72,
          100.39,
          99.6,
          98.1,
          93.19,
          84.31,
          84.82,
          85.65,
          86.06,
          83.74,
          78.2,
          104.19,
          107.71,
          109.98,
          112.87,
          104.98,
          105.85,
          107.38,
          102.87,
          101.35,
          100.57,
          112.19,
          110.27,
          115.33,
          117.52,
          114.81,
          110.83,
          109.94,
          113.52,
          110.21,
          108.86,
          98.43,
          95.68,
          96.26,
          96.86,
          92.61,
          88.86,
          91.83,
          93.37,
          92.18,
          92.8,
          100.81,
          99.28,
          99.28,
          98.47,
          95.42,
          96.72,
          96.81,
          97.8,
          96.27,
          97.1,
          96.42,
          96.33,
          93.55,
          91.64,
          94.2,
          93.77,
          90.88,
          87.85,
          86.83,
          81.02,
          98.28,
          92.44,
          82.09,
          77.07,
          75.15,
          70.43,
          79.36,
          80.71,
          78.14,
          70.92,
          105.84,
          105.13,
          106.41,
          100.75,
          93.33,
          93.89,
          92.98,
          89.17,
          85.65,
          87.73,
          109.47,
          105.34,
          103.6,
          104.24,
          110.5,
          108.14,
          106,
          103.07,
          104.17,
          108.13,
          98.71,
          107.32,
          111.09,
          117.53,
          132.49,
          131.35,
          127.97,
          126.31,
          128.78,
          130.35,
          102.07,
          104.8,
          111.09,
          106.77,
          107.47,
          108.47,
          115.01,
          116.75,
          113.15,
          107.77
         ],
         "xaxis": "x",
         "y": [
          10883.3,
          10649.8,
          10784.6,
          10398.7,
          10568.2,
          10239.5,
          10419.5,
          10049.6,
          9742.5,
          8692.7,
          52567.8,
          53682,
          54129.9,
          54679.4,
          55079.9,
          55728.7,
          56058.5,
          56832.1,
          57183.4,
          56307.3,
          28248.5,
          28800.2,
          27755.3,
          27785.9,
          27583.9,
          27706.5,
          28283.4,
          28845.6,
          28908.3,
          23971.1,
          4250.4,
          4253.1,
          4212.4,
          4287.4,
          4308.2,
          4219.4,
          4211.6,
          4251.6,
          4245.7,
          3583,
          2024.1,
          2094,
          2201.4,
          2286,
          2361.1,
          2425.6,
          2491,
          2559.5,
          2579.9,
          2345.5,
          11627.8,
          11745.8,
          11993.5,
          11951.2,
          11431.2,
          10966,
          11021.7,
          11130.7,
          11203.3,
          10672.2,
          7017.7,
          7083.6,
          7146.6,
          7322.8,
          7663.7,
          8012.5,
          8354,
          8674.7,
          9058.7,
          8743.2,
          1303.4,
          1325.9,
          1360.1,
          1401.8,
          1441.8,
          1469.2,
          1481.7,
          1502.2,
          1518.3,
          1490.8,
          48581,
          48903.2,
          49516.3,
          50427.9,
          50382.9,
          50314.4,
          51225.7,
          51734.3,
          51956.8,
          48617.1,
          13455.8,
          14035.7,
          14461.2,
          14561.3,
          14722.4,
          14777.1,
          14740.6,
          15076.9,
          15039.9,
          14050.2,
          4961.2,
          5325.4,
          5710.7,
          6103.7,
          6500.4,
          6908.1,
          7346.8,
          7807.1,
          8242.1,
          8405.2,
          6711.7,
          6911.8,
          7201,
          7449.3,
          7580.3,
          7633.4,
          7620.9,
          7698.1,
          7843.5,
          7228.4,
          8486.1,
          8796.2,
          8912.7,
          9125.9,
          9356.9,
          9647.8,
          9946.1,
          10050.2,
          10170.2,
          9619.7,
          6948.4,
          6870.7,
          6795.8,
          7090.9,
          6891.9,
          7055,
          6561.2,
          6696.5,
          6910.5,
          5741.2,
          7275.4,
          7146.8,
          7266.2,
          7747.6,
          8193.9,
          8449.2,
          8775.9,
          9092.2,
          9226.6,
          8152.7,
          4808.6,
          5044.9,
          5202.4,
          5261.8,
          5269.9,
          5442.7,
          5617.8,
          5838.8,
          6121.7,
          8741.2,
          44538.7,
          45276.9,
          46249.2,
          46484.2,
          47102.6,
          47403,
          48510.6,
          48766.1,
          49000.3,
          47628.3,
          9477.9,
          9690.9,
          9693.7,
          9843.4,
          10042.1,
          10183,
          10277.9,
          10385.8,
          10267.5,
          9322.3,
          1577.5,
          1657.7,
          1716.4,
          1775,
          1836,
          1895.2,
          1957.9,
          1868.4,
          1777.8,
          1721.8,
          87413.1,
          88604.6,
          88444.9,
          89175.5,
          90029.4,
          90196,
          91549,
          91964.3,
          92123.7,
          90884.6,
          34175.2,
          34749.9,
          35413.5,
          36158.5,
          36743.3,
          37267.4,
          37815.8,
          38335.2,
          38345.7,
          37922.2,
          4484.6,
          4392.1,
          4691.5,
          4873.4,
          4950.6,
          5094,
          5269.7,
          5369,
          5280.2,
          5163,
          13206,
          13381,
          13539.8,
          14007.7,
          14610.9,
          15076.4,
          15802.7,
          16648.8,
          17409,
          16945.2,
          22149.6,
          21337.3,
          21256.8,
          21541,
          22018,
          22533.6,
          23380.7,
          24085.4,
          24679,
          22769.7,
          5660.5,
          5745.4,
          5955.2,
          6301.7,
          6661.9,
          7026.2,
          7273.4,
          7697.7,
          8002.4,
          7389.7,
          7454.8,
          7500.2,
          7564.3,
          7582.9,
          7556.8,
          7476.1,
          7475.2,
          7432,
          7346,
          6748.2,
          54147.9,
          53432.6,
          53611.1,
          54492.6,
          56340,
          56788.5,
          57467.2,
          57911.2,
          58112.4,
          56068.3,
          77729,
          77844.2,
          78356,
          79299.8,
          79702,
          80448.7,
          80964.6,
          82792.3,
          83093.2,
          80132.4,
          16534.2,
          16636.7,
          16895.8,
          16635.6,
          16783.9,
          15760.6,
          15218,
          15164.7,
          14920.6,
          13707.6,
          12574.9,
          12981.1,
          13541.2,
          13934.6,
          13938.8,
          14124.1,
          14301.8,
          14317.5,
          14316,
          13430.7
         ],
         "yaxis": "y"
        },
        {
         "hovertemplate": "<b>OLS trendline</b><br>PBI = -240.728 * TCR + 44906.5<br>R<sup>2</sup>=0.021902<br><br>TCR=%{x}<br>PBI=%{y} <b>(trend)</b><extra></extra>",
         "legendgroup": "",
         "marker": {
          "color": "#636efa",
          "symbol": "circle"
         },
         "mode": "lines",
         "name": "",
         "showlegend": false,
         "type": "scatter",
         "x": [
          55.31,
          63.5,
          67.05,
          67.8,
          69.42,
          69.62,
          69.68,
          70.43,
          70.92,
          70.98,
          72.4,
          72.71,
          73.04,
          73.99,
          74.37,
          74.58,
          75.03,
          75.15,
          76.44,
          76.53,
          77.07,
          77.1,
          77.23,
          77.25,
          77.35,
          77.62,
          78.14,
          78.2,
          78.85,
          79.03,
          79.26,
          79.36,
          79.64,
          80,
          80.63,
          80.71,
          80.88,
          80.99,
          81.02,
          81.2,
          81.52,
          81.53,
          82.09,
          82.3,
          82.75,
          83.13,
          83.69,
          83.74,
          84.1,
          84.31,
          84.59,
          84.82,
          84.86,
          85.36,
          85.65,
          85.65,
          86.01,
          86.06,
          86.43,
          86.83,
          87.73,
          87.85,
          88.86,
          89.17,
          89.85,
          89.95,
          90.75,
          90.88,
          90.93,
          90.99,
          91.48,
          91.64,
          91.83,
          91.87,
          92.01,
          92.18,
          92.44,
          92.52,
          92.61,
          92.62,
          92.8,
          92.98,
          93.19,
          93.3,
          93.33,
          93.37,
          93.4,
          93.54,
          93.55,
          93.63,
          93.69,
          93.77,
          93.89,
          94.16,
          94.2,
          94.22,
          94.36,
          94.52,
          95.2,
          95.37,
          95.4,
          95.42,
          95.43,
          95.54,
          95.55,
          95.57,
          95.64,
          95.68,
          95.72,
          95.74,
          95.87,
          95.88,
          96.12,
          96.26,
          96.27,
          96.33,
          96.35,
          96.42,
          96.46,
          96.46,
          96.53,
          96.63,
          96.72,
          96.81,
          96.82,
          96.85,
          96.86,
          96.97,
          96.98,
          97.02,
          97.06,
          97.1,
          97.1,
          97.23,
          97.32,
          97.43,
          97.48,
          97.71,
          97.76,
          97.79,
          97.8,
          97.92,
          98.04,
          98.1,
          98.27,
          98.28,
          98.32,
          98.33,
          98.43,
          98.47,
          98.71,
          98.92,
          99,
          99.01,
          99.08,
          99.15,
          99.26,
          99.27,
          99.28,
          99.28,
          99.34,
          99.54,
          99.58,
          99.6,
          99.72,
          99.8,
          99.85,
          99.89,
          99.9,
          100.02,
          100.1,
          100.11,
          100.13,
          100.22,
          100.28,
          100.39,
          100.49,
          100.57,
          100.71,
          100.71,
          100.75,
          100.81,
          100.92,
          101.08,
          101.13,
          101.24,
          101.29,
          101.31,
          101.33,
          101.35,
          101.35,
          101.45,
          101.56,
          101.82,
          101.82,
          101.84,
          101.85,
          101.85,
          101.99,
          102.07,
          102.1,
          102.26,
          102.27,
          102.29,
          102.61,
          102.61,
          102.63,
          102.69,
          102.87,
          102.9,
          103.01,
          103.07,
          103.18,
          103.45,
          103.6,
          104.17,
          104.19,
          104.24,
          104.38,
          104.61,
          104.68,
          104.8,
          104.98,
          105.13,
          105.34,
          105.34,
          105.43,
          105.74,
          105.84,
          105.85,
          106,
          106.19,
          106.31,
          106.41,
          106.42,
          106.66,
          106.77,
          106.96,
          107.04,
          107.28,
          107.3,
          107.32,
          107.38,
          107.47,
          107.48,
          107.71,
          107.77,
          108.13,
          108.14,
          108.47,
          108.53,
          108.66,
          108.68,
          108.86,
          109.03,
          109.47,
          109.94,
          109.98,
          110.21,
          110.27,
          110.5,
          110.5,
          110.83,
          111.09,
          111.09,
          112.19,
          112.27,
          112.87,
          113.15,
          113.52,
          113.79,
          114.59,
          114.62,
          114.81,
          115.01,
          115.33,
          116.75,
          117.52,
          117.53,
          118.31,
          118.4,
          120.09,
          120.09,
          120.89,
          121.74,
          123.44,
          123.67,
          126.31,
          127.97,
          128.78,
          129.97,
          130.35,
          131.35,
          132.49,
          137.69,
          140.12,
          143.26,
          143.32,
          149.84,
          157.44
         ],
         "xaxis": "x",
         "y": [
          31591.9039130734,
          29620.34455828402,
          28765.76144357068,
          28585.215715110113,
          28195.23694163529,
          28147.0914140458,
          28132.647755768958,
          27952.102027308392,
          27834.145484714154,
          27819.70182643731,
          27477.86858055197,
          27403.243012788273,
          27323.80289226562,
          27095.111636215574,
          27003.635133795553,
          26953.082329826593,
          26844.754892750254,
          26815.867576196564,
          26505.32892324439,
          26483.663435829123,
          26353.670511337517,
          26346.448682199094,
          26315.154089265925,
          26310.33953650698,
          26286.26677271224,
          26221.270310466432,
          26096.091938733774,
          26081.648280456928,
          25925.175315791108,
          25881.844340960568,
          25826.47698423266,
          25802.404220437922,
          25735.000481812644,
          25648.33853215157,
          25496.680120244695,
          25477.421909208904,
          25436.49821075784,
          25410.018170583626,
          25402.796341445202,
          25359.465366614666,
          25282.432522471492,
          25280.025246092016,
          25145.21776884146,
          25094.664964872503,
          24986.33752779616,
          24894.861025376144,
          24760.053548125587,
          24748.017166228216,
          24661.355216567146,
          24610.802412598183,
          24543.398673972908,
          24488.031317245,
          24478.402211727105,
          24358.03839275339,
          24288.22737774864,
          24288.22737774864,
          24201.565428087568,
          24189.529046190197,
          24100.459820149652,
          24004.168764970684,
          23787.513890818,
          23758.626574264315,
          23515.49165993742,
          23440.866092173717,
          23277.171298369474,
          23253.09853457473,
          23060.516424216792,
          23029.221831283627,
          23017.185449386256,
          23002.741791109413,
          22884.785248515174,
          22846.268826443586,
          22800.530575233577,
          22790.901469715678,
          22757.19960040304,
          22716.275901951976,
          22653.68671608565,
          22634.42850504986,
          22612.76301763459,
          22610.355741255113,
          22567.02476642458,
          22523.693791594043,
          22473.140987625084,
          22446.66094745087,
          22439.439118312446,
          22429.810012794547,
          22422.588183656124,
          22388.886314343486,
          22386.479037964014,
          22367.22082692822,
          22352.777168651373,
          22333.51895761558,
          22304.63164106189,
          22239.635178816086,
          22230.006073298187,
          22225.19152053924,
          22191.489651226602,
          22152.973229155014,
          21989.278435350767,
          21948.354736899706,
          21941.132907761283,
          21936.318355002335,
          21933.91107862286,
          21907.43103844864,
          21905.02376206917,
          21900.209209310222,
          21883.358274653903,
          21873.729169136004,
          21864.10006361811,
          21859.28551085916,
          21827.990917925996,
          21825.583641546524,
          21767.809008439137,
          21734.1071391265,
          21731.699862747028,
          21717.25620447018,
          21712.441651711233,
          21695.590717054914,
          21685.96161153702,
          21685.96161153702,
          21669.110676880697,
          21645.037913085955,
          21623.37242567069,
          21601.70693825542,
          21599.299661875946,
          21592.077832737523,
          21589.670556358047,
          21563.190516183833,
          21560.783239804357,
          21551.154134286462,
          21541.525028768563,
          21531.895923250668,
          21531.895923250668,
          21500.601330317502,
          21478.935842902236,
          21452.455802728015,
          21440.419420830647,
          21385.05206410274,
          21373.01568220537,
          21365.793853066945,
          21363.386576687473,
          21334.49926013378,
          21305.61194358009,
          21291.168285303247,
          21250.244586852186,
          21247.83731047271,
          21238.208204954815,
          21235.80092857534,
          21211.728164780594,
          21202.0990592627,
          21144.32442615532,
          21093.77162218636,
          21074.513411150565,
          21072.10613477109,
          21055.255200114774,
          21038.404265458452,
          21011.924225284234,
          21009.516948904762,
          21007.10967252529,
          21007.10967252529,
          20992.666014248443,
          20944.52048665896,
          20934.891381141064,
          20930.076828382116,
          20901.189511828423,
          20881.93130079263,
          20869.89491889526,
          20860.265813377362,
          20857.858536997886,
          20828.971220444197,
          20809.713009408406,
          20807.30573302893,
          20802.491180269983,
          20780.825692854713,
          20766.382034577866,
          20739.90199440365,
          20715.82923060891,
          20696.571019573115,
          20662.869150260478,
          20662.869150260478,
          20653.24004474258,
          20638.796386465732,
          20612.316346291518,
          20573.79992421993,
          20561.763542322562,
          20535.283502148344,
          20523.24712025097,
          20518.432567492022,
          20513.618014733074,
          20508.803461974127,
          20508.803461974127,
          20484.730698179384,
          20458.250658005167,
          20395.66147213884,
          20395.66147213884,
          20390.84691937989,
          20388.439643000416,
          20388.439643000416,
          20354.73777368778,
          20335.479562651984,
          20328.25773351356,
          20289.741311441972,
          20287.3340350625,
          20282.51948230355,
          20205.486638160375,
          20205.486638160375,
          20200.672085401427,
          20186.22842712458,
          20142.897452294044,
          20135.67562315562,
          20109.195582981407,
          20094.751924704564,
          20068.271884530343,
          20003.27542228454,
          19967.16627659243,
          19829.951522962398,
          19825.13697020345,
          19813.10058830608,
          19779.39871899344,
          19724.031362265534,
          19707.18042760921,
          19678.293111055526,
          19634.962136224985,
          19598.852990532876,
          19548.300186563916,
          19548.300186563916,
          19526.634699148646,
          19452.009131384948,
          19427.936367590206,
          19425.529091210734,
          19389.419945518617,
          19343.68169430861,
          19314.794377754915,
          19290.721613960177,
          19288.3143375807,
          19230.53970447332,
          19204.059664299104,
          19158.321413089096,
          19139.063202053298,
          19081.288568945918,
          19076.47401618697,
          19071.659463428023,
          19057.215805151176,
          19035.55031773591,
          19033.143041356434,
          18977.77568462853,
          18963.332026351683,
          18876.67007669061,
          18874.262800311135,
          18794.82267978849,
          18780.379021511642,
          18749.084428578477,
          18744.269875819526,
          18700.938900988993,
          18660.015202537932,
          18554.095041841065,
          18440.953052005778,
          18431.32394648788,
          18375.956589759975,
          18361.51293148313,
          18306.14557475522,
          18306.14557475522,
          18226.705454232575,
          18164.116268366244,
          18164.116268366244,
          17899.31586662408,
          17880.057655588287,
          17735.62107281983,
          17668.217334194553,
          17579.14810815401,
          17514.151645908205,
          17321.56953555027,
          17314.347706411845,
          17268.609455201837,
          17220.46392761235,
          17143.43108346918,
          16801.59783758384,
          16616.237556364325,
          16613.83027998485,
          16426.06272238586,
          16404.39723497059,
          15997.567526839452,
          15997.567526839452,
          15804.985416481515,
          15600.366924226208,
          15191.129939715593,
          15135.762582987682,
          14500.241618806493,
          14100.633739813773,
          13905.64435307636,
          13619.178463918932,
          13527.701961498911,
          13286.97432355149,
          13012.544816291425,
          11760.761098964838,
          11175.792938752602,
          10419.908155597703,
          10405.464497320856,
          8835.92029790367,
          7006.390249503267
         ],
         "yaxis": "y"
        }
       ],
       "layout": {
        "legend": {
         "tracegroupgap": 0
        },
        "margin": {
         "t": 60
        },
        "template": {
         "data": {
          "bar": [
           {
            "error_x": {
             "color": "#2a3f5f"
            },
            "error_y": {
             "color": "#2a3f5f"
            },
            "marker": {
             "line": {
              "color": "#E5ECF6",
              "width": 0.5
             }
            },
            "type": "bar"
           }
          ],
          "barpolar": [
           {
            "marker": {
             "line": {
              "color": "#E5ECF6",
              "width": 0.5
             }
            },
            "type": "barpolar"
           }
          ],
          "carpet": [
           {
            "aaxis": {
             "endlinecolor": "#2a3f5f",
             "gridcolor": "white",
             "linecolor": "white",
             "minorgridcolor": "white",
             "startlinecolor": "#2a3f5f"
            },
            "baxis": {
             "endlinecolor": "#2a3f5f",
             "gridcolor": "white",
             "linecolor": "white",
             "minorgridcolor": "white",
             "startlinecolor": "#2a3f5f"
            },
            "type": "carpet"
           }
          ],
          "choropleth": [
           {
            "colorbar": {
             "outlinewidth": 0,
             "ticks": ""
            },
            "type": "choropleth"
           }
          ],
          "contour": [
           {
            "colorbar": {
             "outlinewidth": 0,
             "ticks": ""
            },
            "colorscale": [
             [
              0,
              "#0d0887"
             ],
             [
              0.1111111111111111,
              "#46039f"
             ],
             [
              0.2222222222222222,
              "#7201a8"
             ],
             [
              0.3333333333333333,
              "#9c179e"
             ],
             [
              0.4444444444444444,
              "#bd3786"
             ],
             [
              0.5555555555555556,
              "#d8576b"
             ],
             [
              0.6666666666666666,
              "#ed7953"
             ],
             [
              0.7777777777777778,
              "#fb9f3a"
             ],
             [
              0.8888888888888888,
              "#fdca26"
             ],
             [
              1,
              "#f0f921"
             ]
            ],
            "type": "contour"
           }
          ],
          "contourcarpet": [
           {
            "colorbar": {
             "outlinewidth": 0,
             "ticks": ""
            },
            "type": "contourcarpet"
           }
          ],
          "heatmap": [
           {
            "colorbar": {
             "outlinewidth": 0,
             "ticks": ""
            },
            "colorscale": [
             [
              0,
              "#0d0887"
             ],
             [
              0.1111111111111111,
              "#46039f"
             ],
             [
              0.2222222222222222,
              "#7201a8"
             ],
             [
              0.3333333333333333,
              "#9c179e"
             ],
             [
              0.4444444444444444,
              "#bd3786"
             ],
             [
              0.5555555555555556,
              "#d8576b"
             ],
             [
              0.6666666666666666,
              "#ed7953"
             ],
             [
              0.7777777777777778,
              "#fb9f3a"
             ],
             [
              0.8888888888888888,
              "#fdca26"
             ],
             [
              1,
              "#f0f921"
             ]
            ],
            "type": "heatmap"
           }
          ],
          "heatmapgl": [
           {
            "colorbar": {
             "outlinewidth": 0,
             "ticks": ""
            },
            "colorscale": [
             [
              0,
              "#0d0887"
             ],
             [
              0.1111111111111111,
              "#46039f"
             ],
             [
              0.2222222222222222,
              "#7201a8"
             ],
             [
              0.3333333333333333,
              "#9c179e"
             ],
             [
              0.4444444444444444,
              "#bd3786"
             ],
             [
              0.5555555555555556,
              "#d8576b"
             ],
             [
              0.6666666666666666,
              "#ed7953"
             ],
             [
              0.7777777777777778,
              "#fb9f3a"
             ],
             [
              0.8888888888888888,
              "#fdca26"
             ],
             [
              1,
              "#f0f921"
             ]
            ],
            "type": "heatmapgl"
           }
          ],
          "histogram": [
           {
            "marker": {
             "colorbar": {
              "outlinewidth": 0,
              "ticks": ""
             }
            },
            "type": "histogram"
           }
          ],
          "histogram2d": [
           {
            "colorbar": {
             "outlinewidth": 0,
             "ticks": ""
            },
            "colorscale": [
             [
              0,
              "#0d0887"
             ],
             [
              0.1111111111111111,
              "#46039f"
             ],
             [
              0.2222222222222222,
              "#7201a8"
             ],
             [
              0.3333333333333333,
              "#9c179e"
             ],
             [
              0.4444444444444444,
              "#bd3786"
             ],
             [
              0.5555555555555556,
              "#d8576b"
             ],
             [
              0.6666666666666666,
              "#ed7953"
             ],
             [
              0.7777777777777778,
              "#fb9f3a"
             ],
             [
              0.8888888888888888,
              "#fdca26"
             ],
             [
              1,
              "#f0f921"
             ]
            ],
            "type": "histogram2d"
           }
          ],
          "histogram2dcontour": [
           {
            "colorbar": {
             "outlinewidth": 0,
             "ticks": ""
            },
            "colorscale": [
             [
              0,
              "#0d0887"
             ],
             [
              0.1111111111111111,
              "#46039f"
             ],
             [
              0.2222222222222222,
              "#7201a8"
             ],
             [
              0.3333333333333333,
              "#9c179e"
             ],
             [
              0.4444444444444444,
              "#bd3786"
             ],
             [
              0.5555555555555556,
              "#d8576b"
             ],
             [
              0.6666666666666666,
              "#ed7953"
             ],
             [
              0.7777777777777778,
              "#fb9f3a"
             ],
             [
              0.8888888888888888,
              "#fdca26"
             ],
             [
              1,
              "#f0f921"
             ]
            ],
            "type": "histogram2dcontour"
           }
          ],
          "mesh3d": [
           {
            "colorbar": {
             "outlinewidth": 0,
             "ticks": ""
            },
            "type": "mesh3d"
           }
          ],
          "parcoords": [
           {
            "line": {
             "colorbar": {
              "outlinewidth": 0,
              "ticks": ""
             }
            },
            "type": "parcoords"
           }
          ],
          "pie": [
           {
            "automargin": true,
            "type": "pie"
           }
          ],
          "scatter": [
           {
            "marker": {
             "colorbar": {
              "outlinewidth": 0,
              "ticks": ""
             }
            },
            "type": "scatter"
           }
          ],
          "scatter3d": [
           {
            "line": {
             "colorbar": {
              "outlinewidth": 0,
              "ticks": ""
             }
            },
            "marker": {
             "colorbar": {
              "outlinewidth": 0,
              "ticks": ""
             }
            },
            "type": "scatter3d"
           }
          ],
          "scattercarpet": [
           {
            "marker": {
             "colorbar": {
              "outlinewidth": 0,
              "ticks": ""
             }
            },
            "type": "scattercarpet"
           }
          ],
          "scattergeo": [
           {
            "marker": {
             "colorbar": {
              "outlinewidth": 0,
              "ticks": ""
             }
            },
            "type": "scattergeo"
           }
          ],
          "scattergl": [
           {
            "marker": {
             "colorbar": {
              "outlinewidth": 0,
              "ticks": ""
             }
            },
            "type": "scattergl"
           }
          ],
          "scattermapbox": [
           {
            "marker": {
             "colorbar": {
              "outlinewidth": 0,
              "ticks": ""
             }
            },
            "type": "scattermapbox"
           }
          ],
          "scatterpolar": [
           {
            "marker": {
             "colorbar": {
              "outlinewidth": 0,
              "ticks": ""
             }
            },
            "type": "scatterpolar"
           }
          ],
          "scatterpolargl": [
           {
            "marker": {
             "colorbar": {
              "outlinewidth": 0,
              "ticks": ""
             }
            },
            "type": "scatterpolargl"
           }
          ],
          "scatterternary": [
           {
            "marker": {
             "colorbar": {
              "outlinewidth": 0,
              "ticks": ""
             }
            },
            "type": "scatterternary"
           }
          ],
          "surface": [
           {
            "colorbar": {
             "outlinewidth": 0,
             "ticks": ""
            },
            "colorscale": [
             [
              0,
              "#0d0887"
             ],
             [
              0.1111111111111111,
              "#46039f"
             ],
             [
              0.2222222222222222,
              "#7201a8"
             ],
             [
              0.3333333333333333,
              "#9c179e"
             ],
             [
              0.4444444444444444,
              "#bd3786"
             ],
             [
              0.5555555555555556,
              "#d8576b"
             ],
             [
              0.6666666666666666,
              "#ed7953"
             ],
             [
              0.7777777777777778,
              "#fb9f3a"
             ],
             [
              0.8888888888888888,
              "#fdca26"
             ],
             [
              1,
              "#f0f921"
             ]
            ],
            "type": "surface"
           }
          ],
          "table": [
           {
            "cells": {
             "fill": {
              "color": "#EBF0F8"
             },
             "line": {
              "color": "white"
             }
            },
            "header": {
             "fill": {
              "color": "#C8D4E3"
             },
             "line": {
              "color": "white"
             }
            },
            "type": "table"
           }
          ]
         },
         "layout": {
          "annotationdefaults": {
           "arrowcolor": "#2a3f5f",
           "arrowhead": 0,
           "arrowwidth": 1
          },
          "autotypenumbers": "strict",
          "coloraxis": {
           "colorbar": {
            "outlinewidth": 0,
            "ticks": ""
           }
          },
          "colorscale": {
           "diverging": [
            [
             0,
             "#8e0152"
            ],
            [
             0.1,
             "#c51b7d"
            ],
            [
             0.2,
             "#de77ae"
            ],
            [
             0.3,
             "#f1b6da"
            ],
            [
             0.4,
             "#fde0ef"
            ],
            [
             0.5,
             "#f7f7f7"
            ],
            [
             0.6,
             "#e6f5d0"
            ],
            [
             0.7,
             "#b8e186"
            ],
            [
             0.8,
             "#7fbc41"
            ],
            [
             0.9,
             "#4d9221"
            ],
            [
             1,
             "#276419"
            ]
           ],
           "sequential": [
            [
             0,
             "#0d0887"
            ],
            [
             0.1111111111111111,
             "#46039f"
            ],
            [
             0.2222222222222222,
             "#7201a8"
            ],
            [
             0.3333333333333333,
             "#9c179e"
            ],
            [
             0.4444444444444444,
             "#bd3786"
            ],
            [
             0.5555555555555556,
             "#d8576b"
            ],
            [
             0.6666666666666666,
             "#ed7953"
            ],
            [
             0.7777777777777778,
             "#fb9f3a"
            ],
            [
             0.8888888888888888,
             "#fdca26"
            ],
            [
             1,
             "#f0f921"
            ]
           ],
           "sequentialminus": [
            [
             0,
             "#0d0887"
            ],
            [
             0.1111111111111111,
             "#46039f"
            ],
            [
             0.2222222222222222,
             "#7201a8"
            ],
            [
             0.3333333333333333,
             "#9c179e"
            ],
            [
             0.4444444444444444,
             "#bd3786"
            ],
            [
             0.5555555555555556,
             "#d8576b"
            ],
            [
             0.6666666666666666,
             "#ed7953"
            ],
            [
             0.7777777777777778,
             "#fb9f3a"
            ],
            [
             0.8888888888888888,
             "#fdca26"
            ],
            [
             1,
             "#f0f921"
            ]
           ]
          },
          "colorway": [
           "#636efa",
           "#EF553B",
           "#00cc96",
           "#ab63fa",
           "#FFA15A",
           "#19d3f3",
           "#FF6692",
           "#B6E880",
           "#FF97FF",
           "#FECB52"
          ],
          "font": {
           "color": "#2a3f5f"
          },
          "geo": {
           "bgcolor": "white",
           "lakecolor": "white",
           "landcolor": "#E5ECF6",
           "showlakes": true,
           "showland": true,
           "subunitcolor": "white"
          },
          "hoverlabel": {
           "align": "left"
          },
          "hovermode": "closest",
          "mapbox": {
           "style": "light"
          },
          "paper_bgcolor": "white",
          "plot_bgcolor": "#E5ECF6",
          "polar": {
           "angularaxis": {
            "gridcolor": "white",
            "linecolor": "white",
            "ticks": ""
           },
           "bgcolor": "#E5ECF6",
           "radialaxis": {
            "gridcolor": "white",
            "linecolor": "white",
            "ticks": ""
           }
          },
          "scene": {
           "xaxis": {
            "backgroundcolor": "#E5ECF6",
            "gridcolor": "white",
            "gridwidth": 2,
            "linecolor": "white",
            "showbackground": true,
            "ticks": "",
            "zerolinecolor": "white"
           },
           "yaxis": {
            "backgroundcolor": "#E5ECF6",
            "gridcolor": "white",
            "gridwidth": 2,
            "linecolor": "white",
            "showbackground": true,
            "ticks": "",
            "zerolinecolor": "white"
           },
           "zaxis": {
            "backgroundcolor": "#E5ECF6",
            "gridcolor": "white",
            "gridwidth": 2,
            "linecolor": "white",
            "showbackground": true,
            "ticks": "",
            "zerolinecolor": "white"
           }
          },
          "shapedefaults": {
           "line": {
            "color": "#2a3f5f"
           }
          },
          "ternary": {
           "aaxis": {
            "gridcolor": "white",
            "linecolor": "white",
            "ticks": ""
           },
           "baxis": {
            "gridcolor": "white",
            "linecolor": "white",
            "ticks": ""
           },
           "bgcolor": "#E5ECF6",
           "caxis": {
            "gridcolor": "white",
            "linecolor": "white",
            "ticks": ""
           }
          },
          "title": {
           "x": 0.05
          },
          "xaxis": {
           "automargin": true,
           "gridcolor": "white",
           "linecolor": "white",
           "ticks": "",
           "title": {
            "standoff": 15
           },
           "zerolinecolor": "white",
           "zerolinewidth": 2
          },
          "yaxis": {
           "automargin": true,
           "gridcolor": "white",
           "linecolor": "white",
           "ticks": "",
           "title": {
            "standoff": 15
           },
           "zerolinecolor": "white",
           "zerolinewidth": 2
          }
         }
        },
        "xaxis": {
         "anchor": "y",
         "domain": [
          0,
          1
         ],
         "title": {
          "text": "TCR"
         },
         "type": "log"
        },
        "yaxis": {
         "anchor": "x",
         "domain": [
          0,
          1
         ],
         "title": {
          "text": "PBI"
         }
        }
       }
      },
      "text/html": [
       "<div>                            <div id=\"964d50b2-e5b8-4d95-a82c-9a1b39741a33\" class=\"plotly-graph-div\" style=\"height:525px; width:100%;\"></div>            <script type=\"text/javascript\">                require([\"plotly\"], function(Plotly) {                    window.PLOTLYENV=window.PLOTLYENV || {};                                    if (document.getElementById(\"964d50b2-e5b8-4d95-a82c-9a1b39741a33\")) {                    Plotly.newPlot(                        \"964d50b2-e5b8-4d95-a82c-9a1b39741a33\",                        [{\"hovertemplate\": \"TCR=%{x}<br>PBI=%{y}<extra></extra>\", \"legendgroup\": \"\", \"marker\": {\"color\": \"#636efa\", \"symbol\": \"circle\"}, \"mode\": \"markers\", \"name\": \"\", \"orientation\": \"v\", \"showlegend\": false, \"type\": \"scatter\", \"x\": [93.4, 80.0, 77.1, 81.2, 63.5, 72.4, 67.8, 84.1, 93.3, 118.4, 106.96, 109.03, 103.45, 98.32, 89.85, 90.93, 93.69, 89.95, 86.01, 85.36, 99.34, 99.26, 99.01, 99.0, 102.26, 101.33, 100.71, 100.49, 101.85, 100.28, 95.37, 96.98, 95.4, 96.35, 102.61, 104.38, 102.63, 99.9, 100.1, 99.54, 102.29, 106.66, 112.27, 120.09, 137.69, 143.32, 140.12, 143.26, 149.84, 157.44, 103.18, 92.01, 86.43, 84.59, 69.62, 73.04, 79.26, 70.98, 69.68, 55.31, 101.45, 100.02, 100.92, 100.11, 96.82, 96.97, 98.04, 101.31, 101.82, 104.68, 100.22, 96.46, 98.92, 99.72, 93.54, 95.64, 96.53, 97.92, 96.85, 99.85, 101.56, 101.08, 97.48, 91.48, 83.13, 81.53, 82.75, 82.3, 81.52, 80.63, 100.71, 102.9, 101.35, 91.87, 90.99, 92.62, 95.74, 97.1, 92.52, 84.86, 102.69, 108.68, 114.62, 118.31, 129.97, 123.67, 120.09, 121.74, 120.89, 123.44, 100.13, 105.34, 101.29, 95.87, 77.62, 73.99, 76.44, 77.23, 72.71, 67.05, 101.82, 106.19, 110.5, 106.31, 114.59, 113.79, 108.53, 105.74, 106.42, 107.3, 95.2, 95.55, 94.52, 94.22, 98.27, 101.84, 102.61, 101.85, 103.01, 94.36, 97.06, 97.71, 96.46, 93.63, 97.02, 99.15, 97.79, 95.43, 96.12, 94.16, 97.76, 99.27, 99.58, 99.08, 105.43, 107.28, 107.04, 104.61, 107.48, 108.66, 101.13, 99.89, 79.64, 74.58, 69.42, 78.85, 75.03, 74.37, 76.53, 77.25, 99.8, 96.63, 102.27, 101.24, 90.75, 79.03, 80.88, 80.99, 83.69, 77.35, 95.88, 97.43, 97.23, 97.32, 101.99, 102.1, 98.33, 95.57, 95.54, 95.72, 100.39, 99.6, 98.1, 93.19, 84.31, 84.82, 85.65, 86.06, 83.74, 78.2, 104.19, 107.71, 109.98, 112.87, 104.98, 105.85, 107.38, 102.87, 101.35, 100.57, 112.19, 110.27, 115.33, 117.52, 114.81, 110.83, 109.94, 113.52, 110.21, 108.86, 98.43, 95.68, 96.26, 96.86, 92.61, 88.86, 91.83, 93.37, 92.18, 92.8, 100.81, 99.28, 99.28, 98.47, 95.42, 96.72, 96.81, 97.8, 96.27, 97.1, 96.42, 96.33, 93.55, 91.64, 94.2, 93.77, 90.88, 87.85, 86.83, 81.02, 98.28, 92.44, 82.09, 77.07, 75.15, 70.43, 79.36, 80.71, 78.14, 70.92, 105.84, 105.13, 106.41, 100.75, 93.33, 93.89, 92.98, 89.17, 85.65, 87.73, 109.47, 105.34, 103.6, 104.24, 110.5, 108.14, 106.0, 103.07, 104.17, 108.13, 98.71, 107.32, 111.09, 117.53, 132.49, 131.35, 127.97, 126.31, 128.78, 130.35, 102.07, 104.8, 111.09, 106.77, 107.47, 108.47, 115.01, 116.75, 113.15, 107.77], \"xaxis\": \"x\", \"y\": [10883.3, 10649.8, 10784.6, 10398.7, 10568.2, 10239.5, 10419.5, 10049.6, 9742.5, 8692.7, 52567.8, 53682.0, 54129.9, 54679.4, 55079.9, 55728.7, 56058.5, 56832.1, 57183.4, 56307.3, 28248.5, 28800.2, 27755.3, 27785.9, 27583.9, 27706.5, 28283.4, 28845.6, 28908.3, 23971.1, 4250.4, 4253.1, 4212.4, 4287.4, 4308.2, 4219.4, 4211.6, 4251.6, 4245.7, 3583.0, 2024.1, 2094.0, 2201.4, 2286.0, 2361.1, 2425.6, 2491.0, 2559.5, 2579.9, 2345.5, 11627.8, 11745.8, 11993.5, 11951.2, 11431.2, 10966.0, 11021.7, 11130.7, 11203.3, 10672.2, 7017.7, 7083.6, 7146.6, 7322.8, 7663.7, 8012.5, 8354.0, 8674.7, 9058.7, 8743.2, 1303.4, 1325.9, 1360.1, 1401.8, 1441.8, 1469.2, 1481.7, 1502.2, 1518.3, 1490.8, 48581.0, 48903.2, 49516.3, 50427.9, 50382.9, 50314.4, 51225.7, 51734.3, 51956.8, 48617.1, 13455.8, 14035.7, 14461.2, 14561.3, 14722.4, 14777.1, 14740.6, 15076.9, 15039.9, 14050.2, 4961.2, 5325.4, 5710.7, 6103.7, 6500.4, 6908.1, 7346.8, 7807.1, 8242.1, 8405.2, 6711.7, 6911.8, 7201.0, 7449.3, 7580.3, 7633.4, 7620.9, 7698.1, 7843.5, 7228.4, 8486.1, 8796.2, 8912.7, 9125.9, 9356.9, 9647.8, 9946.1, 10050.2, 10170.2, 9619.7, 6948.4, 6870.7, 6795.8, 7090.9, 6891.9, 7055.0, 6561.2, 6696.5, 6910.5, 5741.2, 7275.4, 7146.8, 7266.2, 7747.6, 8193.9, 8449.2, 8775.9, 9092.2, 9226.6, 8152.7, 4808.6, 5044.9, 5202.4, 5261.8, 5269.9, 5442.7, 5617.8, 5838.8, 6121.7, 8741.2, 44538.7, 45276.9, 46249.2, 46484.2, 47102.6, 47403.0, 48510.6, 48766.1, 49000.3, 47628.3, 9477.9, 9690.9, 9693.7, 9843.4, 10042.1, 10183.0, 10277.9, 10385.8, 10267.5, 9322.3, 1577.5, 1657.7, 1716.4, 1775.0, 1836.0, 1895.2, 1957.9, 1868.4, 1777.8, 1721.8, 87413.1, 88604.6, 88444.9, 89175.5, 90029.4, 90196.0, 91549.0, 91964.3, 92123.7, 90884.6, 34175.2, 34749.9, 35413.5, 36158.5, 36743.3, 37267.4, 37815.8, 38335.2, 38345.7, 37922.2, 4484.6, 4392.1, 4691.5, 4873.4, 4950.6, 5094.0, 5269.7, 5369.0, 5280.2, 5163.0, 13206.0, 13381.0, 13539.8, 14007.7, 14610.9, 15076.4, 15802.7, 16648.8, 17409.0, 16945.2, 22149.6, 21337.3, 21256.8, 21541.0, 22018.0, 22533.6, 23380.7, 24085.4, 24679.0, 22769.7, 5660.5, 5745.4, 5955.2, 6301.7, 6661.9, 7026.2, 7273.4, 7697.7, 8002.4, 7389.7, 7454.8, 7500.2, 7564.3, 7582.9, 7556.8, 7476.1, 7475.2, 7432.0, 7346.0, 6748.2, 54147.9, 53432.6, 53611.1, 54492.6, 56340.0, 56788.5, 57467.2, 57911.2, 58112.4, 56068.3, 77729.0, 77844.2, 78356.0, 79299.8, 79702.0, 80448.7, 80964.6, 82792.3, 83093.2, 80132.4, 16534.2, 16636.7, 16895.8, 16635.6, 16783.9, 15760.6, 15218.0, 15164.7, 14920.6, 13707.6, 12574.9, 12981.1, 13541.2, 13934.6, 13938.8, 14124.1, 14301.8, 14317.5, 14316.0, 13430.7], \"yaxis\": \"y\"}, {\"hovertemplate\": \"<b>OLS trendline</b><br>PBI = -240.728 * TCR + 44906.5<br>R<sup>2</sup>=0.021902<br><br>TCR=%{x}<br>PBI=%{y} <b>(trend)</b><extra></extra>\", \"legendgroup\": \"\", \"marker\": {\"color\": \"#636efa\", \"symbol\": \"circle\"}, \"mode\": \"lines\", \"name\": \"\", \"showlegend\": false, \"type\": \"scatter\", \"x\": [55.31, 63.5, 67.05, 67.8, 69.42, 69.62, 69.68, 70.43, 70.92, 70.98, 72.4, 72.71, 73.04, 73.99, 74.37, 74.58, 75.03, 75.15, 76.44, 76.53, 77.07, 77.1, 77.23, 77.25, 77.35, 77.62, 78.14, 78.2, 78.85, 79.03, 79.26, 79.36, 79.64, 80.0, 80.63, 80.71, 80.88, 80.99, 81.02, 81.2, 81.52, 81.53, 82.09, 82.3, 82.75, 83.13, 83.69, 83.74, 84.1, 84.31, 84.59, 84.82, 84.86, 85.36, 85.65, 85.65, 86.01, 86.06, 86.43, 86.83, 87.73, 87.85, 88.86, 89.17, 89.85, 89.95, 90.75, 90.88, 90.93, 90.99, 91.48, 91.64, 91.83, 91.87, 92.01, 92.18, 92.44, 92.52, 92.61, 92.62, 92.8, 92.98, 93.19, 93.3, 93.33, 93.37, 93.4, 93.54, 93.55, 93.63, 93.69, 93.77, 93.89, 94.16, 94.2, 94.22, 94.36, 94.52, 95.2, 95.37, 95.4, 95.42, 95.43, 95.54, 95.55, 95.57, 95.64, 95.68, 95.72, 95.74, 95.87, 95.88, 96.12, 96.26, 96.27, 96.33, 96.35, 96.42, 96.46, 96.46, 96.53, 96.63, 96.72, 96.81, 96.82, 96.85, 96.86, 96.97, 96.98, 97.02, 97.06, 97.1, 97.1, 97.23, 97.32, 97.43, 97.48, 97.71, 97.76, 97.79, 97.8, 97.92, 98.04, 98.1, 98.27, 98.28, 98.32, 98.33, 98.43, 98.47, 98.71, 98.92, 99.0, 99.01, 99.08, 99.15, 99.26, 99.27, 99.28, 99.28, 99.34, 99.54, 99.58, 99.6, 99.72, 99.8, 99.85, 99.89, 99.9, 100.02, 100.1, 100.11, 100.13, 100.22, 100.28, 100.39, 100.49, 100.57, 100.71, 100.71, 100.75, 100.81, 100.92, 101.08, 101.13, 101.24, 101.29, 101.31, 101.33, 101.35, 101.35, 101.45, 101.56, 101.82, 101.82, 101.84, 101.85, 101.85, 101.99, 102.07, 102.1, 102.26, 102.27, 102.29, 102.61, 102.61, 102.63, 102.69, 102.87, 102.9, 103.01, 103.07, 103.18, 103.45, 103.6, 104.17, 104.19, 104.24, 104.38, 104.61, 104.68, 104.8, 104.98, 105.13, 105.34, 105.34, 105.43, 105.74, 105.84, 105.85, 106.0, 106.19, 106.31, 106.41, 106.42, 106.66, 106.77, 106.96, 107.04, 107.28, 107.3, 107.32, 107.38, 107.47, 107.48, 107.71, 107.77, 108.13, 108.14, 108.47, 108.53, 108.66, 108.68, 108.86, 109.03, 109.47, 109.94, 109.98, 110.21, 110.27, 110.5, 110.5, 110.83, 111.09, 111.09, 112.19, 112.27, 112.87, 113.15, 113.52, 113.79, 114.59, 114.62, 114.81, 115.01, 115.33, 116.75, 117.52, 117.53, 118.31, 118.4, 120.09, 120.09, 120.89, 121.74, 123.44, 123.67, 126.31, 127.97, 128.78, 129.97, 130.35, 131.35, 132.49, 137.69, 140.12, 143.26, 143.32, 149.84, 157.44], \"xaxis\": \"x\", \"y\": [31591.9039130734, 29620.34455828402, 28765.76144357068, 28585.215715110113, 28195.23694163529, 28147.0914140458, 28132.647755768958, 27952.102027308392, 27834.145484714154, 27819.70182643731, 27477.86858055197, 27403.243012788273, 27323.80289226562, 27095.111636215574, 27003.635133795553, 26953.082329826593, 26844.754892750254, 26815.867576196564, 26505.32892324439, 26483.663435829123, 26353.670511337517, 26346.448682199094, 26315.154089265925, 26310.33953650698, 26286.26677271224, 26221.270310466432, 26096.091938733774, 26081.648280456928, 25925.175315791108, 25881.844340960568, 25826.47698423266, 25802.404220437922, 25735.000481812644, 25648.33853215157, 25496.680120244695, 25477.421909208904, 25436.49821075784, 25410.018170583626, 25402.796341445202, 25359.465366614666, 25282.432522471492, 25280.025246092016, 25145.21776884146, 25094.664964872503, 24986.33752779616, 24894.861025376144, 24760.053548125587, 24748.017166228216, 24661.355216567146, 24610.802412598183, 24543.398673972908, 24488.031317245, 24478.402211727105, 24358.03839275339, 24288.22737774864, 24288.22737774864, 24201.565428087568, 24189.529046190197, 24100.459820149652, 24004.168764970684, 23787.513890818, 23758.626574264315, 23515.49165993742, 23440.866092173717, 23277.171298369474, 23253.09853457473, 23060.516424216792, 23029.221831283627, 23017.185449386256, 23002.741791109413, 22884.785248515174, 22846.268826443586, 22800.530575233577, 22790.901469715678, 22757.19960040304, 22716.275901951976, 22653.68671608565, 22634.42850504986, 22612.76301763459, 22610.355741255113, 22567.02476642458, 22523.693791594043, 22473.140987625084, 22446.66094745087, 22439.439118312446, 22429.810012794547, 22422.588183656124, 22388.886314343486, 22386.479037964014, 22367.22082692822, 22352.777168651373, 22333.51895761558, 22304.63164106189, 22239.635178816086, 22230.006073298187, 22225.19152053924, 22191.489651226602, 22152.973229155014, 21989.278435350767, 21948.354736899706, 21941.132907761283, 21936.318355002335, 21933.91107862286, 21907.43103844864, 21905.02376206917, 21900.209209310222, 21883.358274653903, 21873.729169136004, 21864.10006361811, 21859.28551085916, 21827.990917925996, 21825.583641546524, 21767.809008439137, 21734.1071391265, 21731.699862747028, 21717.25620447018, 21712.441651711233, 21695.590717054914, 21685.96161153702, 21685.96161153702, 21669.110676880697, 21645.037913085955, 21623.37242567069, 21601.70693825542, 21599.299661875946, 21592.077832737523, 21589.670556358047, 21563.190516183833, 21560.783239804357, 21551.154134286462, 21541.525028768563, 21531.895923250668, 21531.895923250668, 21500.601330317502, 21478.935842902236, 21452.455802728015, 21440.419420830647, 21385.05206410274, 21373.01568220537, 21365.793853066945, 21363.386576687473, 21334.49926013378, 21305.61194358009, 21291.168285303247, 21250.244586852186, 21247.83731047271, 21238.208204954815, 21235.80092857534, 21211.728164780594, 21202.0990592627, 21144.32442615532, 21093.77162218636, 21074.513411150565, 21072.10613477109, 21055.255200114774, 21038.404265458452, 21011.924225284234, 21009.516948904762, 21007.10967252529, 21007.10967252529, 20992.666014248443, 20944.52048665896, 20934.891381141064, 20930.076828382116, 20901.189511828423, 20881.93130079263, 20869.89491889526, 20860.265813377362, 20857.858536997886, 20828.971220444197, 20809.713009408406, 20807.30573302893, 20802.491180269983, 20780.825692854713, 20766.382034577866, 20739.90199440365, 20715.82923060891, 20696.571019573115, 20662.869150260478, 20662.869150260478, 20653.24004474258, 20638.796386465732, 20612.316346291518, 20573.79992421993, 20561.763542322562, 20535.283502148344, 20523.24712025097, 20518.432567492022, 20513.618014733074, 20508.803461974127, 20508.803461974127, 20484.730698179384, 20458.250658005167, 20395.66147213884, 20395.66147213884, 20390.84691937989, 20388.439643000416, 20388.439643000416, 20354.73777368778, 20335.479562651984, 20328.25773351356, 20289.741311441972, 20287.3340350625, 20282.51948230355, 20205.486638160375, 20205.486638160375, 20200.672085401427, 20186.22842712458, 20142.897452294044, 20135.67562315562, 20109.195582981407, 20094.751924704564, 20068.271884530343, 20003.27542228454, 19967.16627659243, 19829.951522962398, 19825.13697020345, 19813.10058830608, 19779.39871899344, 19724.031362265534, 19707.18042760921, 19678.293111055526, 19634.962136224985, 19598.852990532876, 19548.300186563916, 19548.300186563916, 19526.634699148646, 19452.009131384948, 19427.936367590206, 19425.529091210734, 19389.419945518617, 19343.68169430861, 19314.794377754915, 19290.721613960177, 19288.3143375807, 19230.53970447332, 19204.059664299104, 19158.321413089096, 19139.063202053298, 19081.288568945918, 19076.47401618697, 19071.659463428023, 19057.215805151176, 19035.55031773591, 19033.143041356434, 18977.77568462853, 18963.332026351683, 18876.67007669061, 18874.262800311135, 18794.82267978849, 18780.379021511642, 18749.084428578477, 18744.269875819526, 18700.938900988993, 18660.015202537932, 18554.095041841065, 18440.953052005778, 18431.32394648788, 18375.956589759975, 18361.51293148313, 18306.14557475522, 18306.14557475522, 18226.705454232575, 18164.116268366244, 18164.116268366244, 17899.31586662408, 17880.057655588287, 17735.62107281983, 17668.217334194553, 17579.14810815401, 17514.151645908205, 17321.56953555027, 17314.347706411845, 17268.609455201837, 17220.46392761235, 17143.43108346918, 16801.59783758384, 16616.237556364325, 16613.83027998485, 16426.06272238586, 16404.39723497059, 15997.567526839452, 15997.567526839452, 15804.985416481515, 15600.366924226208, 15191.129939715593, 15135.762582987682, 14500.241618806493, 14100.633739813773, 13905.64435307636, 13619.178463918932, 13527.701961498911, 13286.97432355149, 13012.544816291425, 11760.761098964838, 11175.792938752602, 10419.908155597703, 10405.464497320856, 8835.92029790367, 7006.390249503267], \"yaxis\": \"y\"}],                        {\"legend\": {\"tracegroupgap\": 0}, \"margin\": {\"t\": 60}, \"template\": {\"data\": {\"bar\": [{\"error_x\": {\"color\": \"#2a3f5f\"}, \"error_y\": {\"color\": \"#2a3f5f\"}, \"marker\": {\"line\": {\"color\": \"#E5ECF6\", \"width\": 0.5}}, \"type\": \"bar\"}], \"barpolar\": [{\"marker\": {\"line\": {\"color\": \"#E5ECF6\", \"width\": 0.5}}, \"type\": \"barpolar\"}], \"carpet\": [{\"aaxis\": {\"endlinecolor\": \"#2a3f5f\", \"gridcolor\": \"white\", \"linecolor\": \"white\", \"minorgridcolor\": \"white\", \"startlinecolor\": \"#2a3f5f\"}, \"baxis\": {\"endlinecolor\": \"#2a3f5f\", \"gridcolor\": \"white\", \"linecolor\": \"white\", \"minorgridcolor\": \"white\", \"startlinecolor\": \"#2a3f5f\"}, \"type\": \"carpet\"}], \"choropleth\": [{\"colorbar\": {\"outlinewidth\": 0, \"ticks\": \"\"}, \"type\": \"choropleth\"}], \"contour\": [{\"colorbar\": {\"outlinewidth\": 0, \"ticks\": \"\"}, \"colorscale\": [[0.0, \"#0d0887\"], [0.1111111111111111, \"#46039f\"], [0.2222222222222222, \"#7201a8\"], [0.3333333333333333, \"#9c179e\"], [0.4444444444444444, \"#bd3786\"], [0.5555555555555556, \"#d8576b\"], [0.6666666666666666, \"#ed7953\"], [0.7777777777777778, \"#fb9f3a\"], [0.8888888888888888, \"#fdca26\"], [1.0, \"#f0f921\"]], \"type\": \"contour\"}], \"contourcarpet\": [{\"colorbar\": {\"outlinewidth\": 0, \"ticks\": \"\"}, \"type\": \"contourcarpet\"}], \"heatmap\": [{\"colorbar\": {\"outlinewidth\": 0, \"ticks\": \"\"}, \"colorscale\": [[0.0, \"#0d0887\"], [0.1111111111111111, \"#46039f\"], [0.2222222222222222, \"#7201a8\"], [0.3333333333333333, \"#9c179e\"], [0.4444444444444444, \"#bd3786\"], [0.5555555555555556, \"#d8576b\"], [0.6666666666666666, \"#ed7953\"], [0.7777777777777778, \"#fb9f3a\"], [0.8888888888888888, \"#fdca26\"], [1.0, \"#f0f921\"]], \"type\": \"heatmap\"}], \"heatmapgl\": [{\"colorbar\": {\"outlinewidth\": 0, \"ticks\": \"\"}, \"colorscale\": [[0.0, \"#0d0887\"], [0.1111111111111111, \"#46039f\"], [0.2222222222222222, \"#7201a8\"], [0.3333333333333333, \"#9c179e\"], [0.4444444444444444, \"#bd3786\"], [0.5555555555555556, \"#d8576b\"], [0.6666666666666666, \"#ed7953\"], [0.7777777777777778, \"#fb9f3a\"], [0.8888888888888888, \"#fdca26\"], [1.0, \"#f0f921\"]], \"type\": \"heatmapgl\"}], \"histogram\": [{\"marker\": {\"colorbar\": {\"outlinewidth\": 0, \"ticks\": \"\"}}, \"type\": \"histogram\"}], \"histogram2d\": [{\"colorbar\": {\"outlinewidth\": 0, \"ticks\": \"\"}, \"colorscale\": [[0.0, \"#0d0887\"], [0.1111111111111111, \"#46039f\"], [0.2222222222222222, \"#7201a8\"], [0.3333333333333333, \"#9c179e\"], [0.4444444444444444, \"#bd3786\"], [0.5555555555555556, \"#d8576b\"], [0.6666666666666666, \"#ed7953\"], [0.7777777777777778, \"#fb9f3a\"], [0.8888888888888888, \"#fdca26\"], [1.0, \"#f0f921\"]], \"type\": \"histogram2d\"}], \"histogram2dcontour\": [{\"colorbar\": {\"outlinewidth\": 0, \"ticks\": \"\"}, \"colorscale\": [[0.0, \"#0d0887\"], [0.1111111111111111, \"#46039f\"], [0.2222222222222222, \"#7201a8\"], [0.3333333333333333, \"#9c179e\"], [0.4444444444444444, \"#bd3786\"], [0.5555555555555556, \"#d8576b\"], [0.6666666666666666, \"#ed7953\"], [0.7777777777777778, \"#fb9f3a\"], [0.8888888888888888, \"#fdca26\"], [1.0, \"#f0f921\"]], \"type\": \"histogram2dcontour\"}], \"mesh3d\": [{\"colorbar\": {\"outlinewidth\": 0, \"ticks\": \"\"}, \"type\": \"mesh3d\"}], \"parcoords\": [{\"line\": {\"colorbar\": {\"outlinewidth\": 0, \"ticks\": \"\"}}, \"type\": \"parcoords\"}], \"pie\": [{\"automargin\": true, \"type\": \"pie\"}], \"scatter\": [{\"marker\": {\"colorbar\": {\"outlinewidth\": 0, \"ticks\": \"\"}}, \"type\": \"scatter\"}], \"scatter3d\": [{\"line\": {\"colorbar\": {\"outlinewidth\": 0, \"ticks\": \"\"}}, \"marker\": {\"colorbar\": {\"outlinewidth\": 0, \"ticks\": \"\"}}, \"type\": \"scatter3d\"}], \"scattercarpet\": [{\"marker\": {\"colorbar\": {\"outlinewidth\": 0, \"ticks\": \"\"}}, \"type\": \"scattercarpet\"}], \"scattergeo\": [{\"marker\": {\"colorbar\": {\"outlinewidth\": 0, \"ticks\": \"\"}}, \"type\": \"scattergeo\"}], \"scattergl\": [{\"marker\": {\"colorbar\": {\"outlinewidth\": 0, \"ticks\": \"\"}}, \"type\": \"scattergl\"}], \"scattermapbox\": [{\"marker\": {\"colorbar\": {\"outlinewidth\": 0, \"ticks\": \"\"}}, \"type\": \"scattermapbox\"}], \"scatterpolar\": [{\"marker\": {\"colorbar\": {\"outlinewidth\": 0, \"ticks\": \"\"}}, \"type\": \"scatterpolar\"}], \"scatterpolargl\": [{\"marker\": {\"colorbar\": {\"outlinewidth\": 0, \"ticks\": \"\"}}, \"type\": \"scatterpolargl\"}], \"scatterternary\": [{\"marker\": {\"colorbar\": {\"outlinewidth\": 0, \"ticks\": \"\"}}, \"type\": \"scatterternary\"}], \"surface\": [{\"colorbar\": {\"outlinewidth\": 0, \"ticks\": \"\"}, \"colorscale\": [[0.0, \"#0d0887\"], [0.1111111111111111, \"#46039f\"], [0.2222222222222222, \"#7201a8\"], [0.3333333333333333, \"#9c179e\"], [0.4444444444444444, \"#bd3786\"], [0.5555555555555556, \"#d8576b\"], [0.6666666666666666, \"#ed7953\"], [0.7777777777777778, \"#fb9f3a\"], [0.8888888888888888, \"#fdca26\"], [1.0, \"#f0f921\"]], \"type\": \"surface\"}], \"table\": [{\"cells\": {\"fill\": {\"color\": \"#EBF0F8\"}, \"line\": {\"color\": \"white\"}}, \"header\": {\"fill\": {\"color\": \"#C8D4E3\"}, \"line\": {\"color\": \"white\"}}, \"type\": \"table\"}]}, \"layout\": {\"annotationdefaults\": {\"arrowcolor\": \"#2a3f5f\", \"arrowhead\": 0, \"arrowwidth\": 1}, \"autotypenumbers\": \"strict\", \"coloraxis\": {\"colorbar\": {\"outlinewidth\": 0, \"ticks\": \"\"}}, \"colorscale\": {\"diverging\": [[0, \"#8e0152\"], [0.1, \"#c51b7d\"], [0.2, \"#de77ae\"], [0.3, \"#f1b6da\"], [0.4, \"#fde0ef\"], [0.5, \"#f7f7f7\"], [0.6, \"#e6f5d0\"], [0.7, \"#b8e186\"], [0.8, \"#7fbc41\"], [0.9, \"#4d9221\"], [1, \"#276419\"]], \"sequential\": [[0.0, \"#0d0887\"], [0.1111111111111111, \"#46039f\"], [0.2222222222222222, \"#7201a8\"], [0.3333333333333333, \"#9c179e\"], [0.4444444444444444, \"#bd3786\"], [0.5555555555555556, \"#d8576b\"], [0.6666666666666666, \"#ed7953\"], [0.7777777777777778, \"#fb9f3a\"], [0.8888888888888888, \"#fdca26\"], [1.0, \"#f0f921\"]], \"sequentialminus\": [[0.0, \"#0d0887\"], [0.1111111111111111, \"#46039f\"], [0.2222222222222222, \"#7201a8\"], [0.3333333333333333, \"#9c179e\"], [0.4444444444444444, \"#bd3786\"], [0.5555555555555556, \"#d8576b\"], [0.6666666666666666, \"#ed7953\"], [0.7777777777777778, \"#fb9f3a\"], [0.8888888888888888, \"#fdca26\"], [1.0, \"#f0f921\"]]}, \"colorway\": [\"#636efa\", \"#EF553B\", \"#00cc96\", \"#ab63fa\", \"#FFA15A\", \"#19d3f3\", \"#FF6692\", \"#B6E880\", \"#FF97FF\", \"#FECB52\"], \"font\": {\"color\": \"#2a3f5f\"}, \"geo\": {\"bgcolor\": \"white\", \"lakecolor\": \"white\", \"landcolor\": \"#E5ECF6\", \"showlakes\": true, \"showland\": true, \"subunitcolor\": \"white\"}, \"hoverlabel\": {\"align\": \"left\"}, \"hovermode\": \"closest\", \"mapbox\": {\"style\": \"light\"}, \"paper_bgcolor\": \"white\", \"plot_bgcolor\": \"#E5ECF6\", \"polar\": {\"angularaxis\": {\"gridcolor\": \"white\", \"linecolor\": \"white\", \"ticks\": \"\"}, \"bgcolor\": \"#E5ECF6\", \"radialaxis\": {\"gridcolor\": \"white\", \"linecolor\": \"white\", \"ticks\": \"\"}}, \"scene\": {\"xaxis\": {\"backgroundcolor\": \"#E5ECF6\", \"gridcolor\": \"white\", \"gridwidth\": 2, \"linecolor\": \"white\", \"showbackground\": true, \"ticks\": \"\", \"zerolinecolor\": \"white\"}, \"yaxis\": {\"backgroundcolor\": \"#E5ECF6\", \"gridcolor\": \"white\", \"gridwidth\": 2, \"linecolor\": \"white\", \"showbackground\": true, \"ticks\": \"\", \"zerolinecolor\": \"white\"}, \"zaxis\": {\"backgroundcolor\": \"#E5ECF6\", \"gridcolor\": \"white\", \"gridwidth\": 2, \"linecolor\": \"white\", \"showbackground\": true, \"ticks\": \"\", \"zerolinecolor\": \"white\"}}, \"shapedefaults\": {\"line\": {\"color\": \"#2a3f5f\"}}, \"ternary\": {\"aaxis\": {\"gridcolor\": \"white\", \"linecolor\": \"white\", \"ticks\": \"\"}, \"baxis\": {\"gridcolor\": \"white\", \"linecolor\": \"white\", \"ticks\": \"\"}, \"bgcolor\": \"#E5ECF6\", \"caxis\": {\"gridcolor\": \"white\", \"linecolor\": \"white\", \"ticks\": \"\"}}, \"title\": {\"x\": 0.05}, \"xaxis\": {\"automargin\": true, \"gridcolor\": \"white\", \"linecolor\": \"white\", \"ticks\": \"\", \"title\": {\"standoff\": 15}, \"zerolinecolor\": \"white\", \"zerolinewidth\": 2}, \"yaxis\": {\"automargin\": true, \"gridcolor\": \"white\", \"linecolor\": \"white\", \"ticks\": \"\", \"title\": {\"standoff\": 15}, \"zerolinecolor\": \"white\", \"zerolinewidth\": 2}}}, \"xaxis\": {\"anchor\": \"y\", \"domain\": [0.0, 1.0], \"title\": {\"text\": \"TCR\"}, \"type\": \"log\"}, \"yaxis\": {\"anchor\": \"x\", \"domain\": [0.0, 1.0], \"title\": {\"text\": \"PBI\"}}},                        {\"responsive\": true}                    ).then(function(){\n",
       "                            \n",
       "var gd = document.getElementById('964d50b2-e5b8-4d95-a82c-9a1b39741a33');\n",
       "var x = new MutationObserver(function (mutations, observer) {{\n",
       "        var display = window.getComputedStyle(gd).display;\n",
       "        if (!display || display === 'none') {{\n",
       "            console.log([gd, 'removed!']);\n",
       "            Plotly.purge(gd);\n",
       "            observer.disconnect();\n",
       "        }}\n",
       "}});\n",
       "\n",
       "// Listen for the removal of the full notebook cells\n",
       "var notebookContainer = gd.closest('#notebook-container');\n",
       "if (notebookContainer) {{\n",
       "    x.observe(notebookContainer, {childList: true});\n",
       "}}\n",
       "\n",
       "// Listen for the clearing of the current output cell\n",
       "var outputEl = gd.closest('.output');\n",
       "if (outputEl) {{\n",
       "    x.observe(outputEl, {childList: true});\n",
       "}}\n",
       "\n",
       "                        })                };                });            </script>        </div>"
      ]
     },
     "metadata": {},
     "output_type": "display_data"
    }
   ],
   "source": [
    "fig = px.scatter(final, x=\"TCR\", y=\"PBI\", trendline=\"ols\",log_x=True)\n",
    "fig.show()"
   ]
  },
  {
   "cell_type": "code",
   "execution_count": 56,
   "id": "880a532f",
   "metadata": {},
   "outputs": [
    {
     "data": {
      "application/vnd.plotly.v1+json": {
       "config": {
        "plotlyServerURL": "https://plotly.com"
       },
       "data": [
        {
         "hovertemplate": "Country Name=Argentina<br>Year=%{x}<br>TCR=%{y}<extra></extra>",
         "legendgroup": "Argentina",
         "line": {
          "color": "#636efa",
          "dash": "solid"
         },
         "mode": "lines",
         "name": "Argentina",
         "orientation": "v",
         "showlegend": true,
         "type": "scatter",
         "x": [
          "2011",
          "2012",
          "2013",
          "2014",
          "2015",
          "2016",
          "2017",
          "2018",
          "2019",
          "2020"
         ],
         "xaxis": "x",
         "y": [
          93.4,
          80,
          77.1,
          81.2,
          63.5,
          72.4,
          67.8,
          84.1,
          93.3,
          118.4
         ],
         "yaxis": "y"
        },
        {
         "hovertemplate": "Country Name=Australia<br>Year=%{x}<br>TCR=%{y}<extra></extra>",
         "legendgroup": "Australia",
         "line": {
          "color": "#EF553B",
          "dash": "solid"
         },
         "mode": "lines",
         "name": "Australia",
         "orientation": "v",
         "showlegend": true,
         "type": "scatter",
         "x": [
          "2011",
          "2012",
          "2013",
          "2014",
          "2015",
          "2016",
          "2017",
          "2018",
          "2019",
          "2020"
         ],
         "xaxis": "x",
         "y": [
          106.96,
          109.03,
          103.45,
          98.32,
          89.85,
          90.93,
          93.69,
          89.95,
          86.01,
          85.36
         ],
         "yaxis": "y"
        },
        {
         "hovertemplate": "Country Name=Bahamas<br>Year=%{x}<br>TCR=%{y}<extra></extra>",
         "legendgroup": "Bahamas",
         "line": {
          "color": "#00cc96",
          "dash": "solid"
         },
         "mode": "lines",
         "name": "Bahamas",
         "orientation": "v",
         "showlegend": true,
         "type": "scatter",
         "x": [
          "2011",
          "2012",
          "2013",
          "2014",
          "2015",
          "2016",
          "2017",
          "2018",
          "2019",
          "2020"
         ],
         "xaxis": "x",
         "y": [
          99.34,
          99.26,
          99.01,
          99,
          102.26,
          101.33,
          100.71,
          100.49,
          101.85,
          100.28
         ],
         "yaxis": "y"
        },
        {
         "hovertemplate": "Country Name=Belice<br>Year=%{x}<br>TCR=%{y}<extra></extra>",
         "legendgroup": "Belice",
         "line": {
          "color": "#ab63fa",
          "dash": "solid"
         },
         "mode": "lines",
         "name": "Belice",
         "orientation": "v",
         "showlegend": true,
         "type": "scatter",
         "x": [
          "2011",
          "2012",
          "2013",
          "2014",
          "2015",
          "2016",
          "2017",
          "2018",
          "2019",
          "2020"
         ],
         "xaxis": "x",
         "y": [
          95.37,
          96.98,
          95.4,
          96.35,
          102.61,
          104.38,
          102.63,
          99.9,
          100.1,
          99.54
         ],
         "yaxis": "y"
        },
        {
         "hovertemplate": "Country Name=Bolivia<br>Year=%{x}<br>TCR=%{y}<extra></extra>",
         "legendgroup": "Bolivia",
         "line": {
          "color": "#FFA15A",
          "dash": "solid"
         },
         "mode": "lines",
         "name": "Bolivia",
         "orientation": "v",
         "showlegend": true,
         "type": "scatter",
         "x": [
          "2011",
          "2012",
          "2013",
          "2014",
          "2015",
          "2016",
          "2017",
          "2018",
          "2019",
          "2020"
         ],
         "xaxis": "x",
         "y": [
          102.29,
          106.66,
          112.27,
          120.09,
          137.69,
          143.32,
          140.12,
          143.26,
          149.84,
          157.44
         ],
         "yaxis": "y"
        },
        {
         "hovertemplate": "Country Name=Brasil<br>Year=%{x}<br>TCR=%{y}<extra></extra>",
         "legendgroup": "Brasil",
         "line": {
          "color": "#19d3f3",
          "dash": "solid"
         },
         "mode": "lines",
         "name": "Brasil",
         "orientation": "v",
         "showlegend": true,
         "type": "scatter",
         "x": [
          "2011",
          "2012",
          "2013",
          "2014",
          "2015",
          "2016",
          "2017",
          "2018",
          "2019",
          "2020"
         ],
         "xaxis": "x",
         "y": [
          103.18,
          92.01,
          86.43,
          84.59,
          69.62,
          73.04,
          79.26,
          70.98,
          69.68,
          55.31
         ],
         "yaxis": "y"
        },
        {
         "hovertemplate": "Country Name=Bulgaria<br>Year=%{x}<br>TCR=%{y}<extra></extra>",
         "legendgroup": "Bulgaria",
         "line": {
          "color": "#FF6692",
          "dash": "solid"
         },
         "mode": "lines",
         "name": "Bulgaria",
         "orientation": "v",
         "showlegend": true,
         "type": "scatter",
         "x": [
          "2011",
          "2012",
          "2013",
          "2014",
          "2015",
          "2016",
          "2017",
          "2018",
          "2019",
          "2020"
         ],
         "xaxis": "x",
         "y": [
          101.45,
          100.02,
          100.92,
          100.11,
          96.82,
          96.97,
          98.04,
          101.31,
          101.82,
          104.68
         ],
         "yaxis": "y"
        },
        {
         "hovertemplate": "Country Name=Camerún<br>Year=%{x}<br>TCR=%{y}<extra></extra>",
         "legendgroup": "Camerún",
         "line": {
          "color": "#B6E880",
          "dash": "solid"
         },
         "mode": "lines",
         "name": "Camerún",
         "orientation": "v",
         "showlegend": true,
         "type": "scatter",
         "x": [
          "2011",
          "2012",
          "2013",
          "2014",
          "2015",
          "2016",
          "2017",
          "2018",
          "2019",
          "2020"
         ],
         "xaxis": "x",
         "y": [
          100.22,
          96.46,
          98.92,
          99.72,
          93.54,
          95.64,
          96.53,
          97.92,
          96.85,
          99.85
         ],
         "yaxis": "y"
        },
        {
         "hovertemplate": "Country Name=Canadá<br>Year=%{x}<br>TCR=%{y}<extra></extra>",
         "legendgroup": "Canadá",
         "line": {
          "color": "#FF97FF",
          "dash": "solid"
         },
         "mode": "lines",
         "name": "Canadá",
         "orientation": "v",
         "showlegend": true,
         "type": "scatter",
         "x": [
          "2011",
          "2012",
          "2013",
          "2014",
          "2015",
          "2016",
          "2017",
          "2018",
          "2019",
          "2020"
         ],
         "xaxis": "x",
         "y": [
          101.56,
          101.08,
          97.48,
          91.48,
          83.13,
          81.53,
          82.75,
          82.3,
          81.52,
          80.63
         ],
         "yaxis": "y"
        },
        {
         "hovertemplate": "Country Name=Chile<br>Year=%{x}<br>TCR=%{y}<extra></extra>",
         "legendgroup": "Chile",
         "line": {
          "color": "#FECB52",
          "dash": "solid"
         },
         "mode": "lines",
         "name": "Chile",
         "orientation": "v",
         "showlegend": true,
         "type": "scatter",
         "x": [
          "2011",
          "2012",
          "2013",
          "2014",
          "2015",
          "2016",
          "2017",
          "2018",
          "2019",
          "2020"
         ],
         "xaxis": "x",
         "y": [
          100.71,
          102.9,
          101.35,
          91.87,
          90.99,
          92.62,
          95.74,
          97.1,
          92.52,
          84.86
         ],
         "yaxis": "y"
        },
        {
         "hovertemplate": "Country Name=China<br>Year=%{x}<br>TCR=%{y}<extra></extra>",
         "legendgroup": "China",
         "line": {
          "color": "#636efa",
          "dash": "solid"
         },
         "mode": "lines",
         "name": "China",
         "orientation": "v",
         "showlegend": true,
         "type": "scatter",
         "x": [
          "2011",
          "2012",
          "2013",
          "2014",
          "2015",
          "2016",
          "2017",
          "2018",
          "2019",
          "2020"
         ],
         "xaxis": "x",
         "y": [
          102.69,
          108.68,
          114.62,
          118.31,
          129.97,
          123.67,
          120.09,
          121.74,
          120.89,
          123.44
         ],
         "yaxis": "y"
        },
        {
         "hovertemplate": "Country Name=Colombia<br>Year=%{x}<br>TCR=%{y}<extra></extra>",
         "legendgroup": "Colombia",
         "line": {
          "color": "#EF553B",
          "dash": "solid"
         },
         "mode": "lines",
         "name": "Colombia",
         "orientation": "v",
         "showlegend": true,
         "type": "scatter",
         "x": [
          "2011",
          "2012",
          "2013",
          "2014",
          "2015",
          "2016",
          "2017",
          "2018",
          "2019",
          "2020"
         ],
         "xaxis": "x",
         "y": [
          100.13,
          105.34,
          101.29,
          95.87,
          77.62,
          73.99,
          76.44,
          77.23,
          72.71,
          67.05
         ],
         "yaxis": "y"
        },
        {
         "hovertemplate": "Country Name=Costa Rica<br>Year=%{x}<br>TCR=%{y}<extra></extra>",
         "legendgroup": "Costa Rica",
         "line": {
          "color": "#00cc96",
          "dash": "solid"
         },
         "mode": "lines",
         "name": "Costa Rica",
         "orientation": "v",
         "showlegend": true,
         "type": "scatter",
         "x": [
          "2011",
          "2012",
          "2013",
          "2014",
          "2015",
          "2016",
          "2017",
          "2018",
          "2019",
          "2020"
         ],
         "xaxis": "x",
         "y": [
          101.82,
          106.19,
          110.5,
          106.31,
          114.59,
          113.79,
          108.53,
          105.74,
          106.42,
          107.3
         ],
         "yaxis": "y"
        },
        {
         "hovertemplate": "Country Name=Dominica<br>Year=%{x}<br>TCR=%{y}<extra></extra>",
         "legendgroup": "Dominica",
         "line": {
          "color": "#ab63fa",
          "dash": "solid"
         },
         "mode": "lines",
         "name": "Dominica",
         "orientation": "v",
         "showlegend": true,
         "type": "scatter",
         "x": [
          "2011",
          "2012",
          "2013",
          "2014",
          "2015",
          "2016",
          "2017",
          "2018",
          "2019",
          "2020"
         ],
         "xaxis": "x",
         "y": [
          95.2,
          95.55,
          94.52,
          94.22,
          98.27,
          101.84,
          102.61,
          101.85,
          103.01,
          94.36
         ],
         "yaxis": "y"
        },
        {
         "hovertemplate": "Country Name=Granada<br>Year=%{x}<br>TCR=%{y}<extra></extra>",
         "legendgroup": "Granada",
         "line": {
          "color": "#FFA15A",
          "dash": "solid"
         },
         "mode": "lines",
         "name": "Granada",
         "orientation": "v",
         "showlegend": true,
         "type": "scatter",
         "x": [
          "2011",
          "2012",
          "2013",
          "2014",
          "2015",
          "2016",
          "2017",
          "2018",
          "2019",
          "2020"
         ],
         "xaxis": "x",
         "y": [
          97.06,
          97.71,
          96.46,
          93.63,
          97.02,
          99.15,
          97.79,
          95.43,
          96.12,
          94.16
         ],
         "yaxis": "y"
        },
        {
         "hovertemplate": "Country Name=Guyana<br>Year=%{x}<br>TCR=%{y}<extra></extra>",
         "legendgroup": "Guyana",
         "line": {
          "color": "#19d3f3",
          "dash": "solid"
         },
         "mode": "lines",
         "name": "Guyana",
         "orientation": "v",
         "showlegend": true,
         "type": "scatter",
         "x": [
          "2011",
          "2012",
          "2013",
          "2014",
          "2015",
          "2016",
          "2017",
          "2018",
          "2019",
          "2020"
         ],
         "xaxis": "x",
         "y": [
          97.76,
          99.27,
          99.58,
          99.08,
          105.43,
          107.28,
          107.04,
          104.61,
          107.48,
          108.66
         ],
         "yaxis": "y"
        },
        {
         "hovertemplate": "Country Name=Japón<br>Year=%{x}<br>TCR=%{y}<extra></extra>",
         "legendgroup": "Japón",
         "line": {
          "color": "#FF6692",
          "dash": "solid"
         },
         "mode": "lines",
         "name": "Japón",
         "orientation": "v",
         "showlegend": true,
         "type": "scatter",
         "x": [
          "2011",
          "2012",
          "2013",
          "2014",
          "2015",
          "2016",
          "2017",
          "2018",
          "2019",
          "2020"
         ],
         "xaxis": "x",
         "y": [
          101.13,
          99.89,
          79.64,
          74.58,
          69.42,
          78.85,
          75.03,
          74.37,
          76.53,
          77.25
         ],
         "yaxis": "y"
        },
        {
         "hovertemplate": "Country Name=México<br>Year=%{x}<br>TCR=%{y}<extra></extra>",
         "legendgroup": "México",
         "line": {
          "color": "#B6E880",
          "dash": "solid"
         },
         "mode": "lines",
         "name": "México",
         "orientation": "v",
         "showlegend": true,
         "type": "scatter",
         "x": [
          "2011",
          "2012",
          "2013",
          "2014",
          "2015",
          "2016",
          "2017",
          "2018",
          "2019",
          "2020"
         ],
         "xaxis": "x",
         "y": [
          99.8,
          96.63,
          102.27,
          101.24,
          90.75,
          79.03,
          80.88,
          80.99,
          83.69,
          77.35
         ],
         "yaxis": "y"
        },
        {
         "hovertemplate": "Country Name=Nicaragua<br>Year=%{x}<br>TCR=%{y}<extra></extra>",
         "legendgroup": "Nicaragua",
         "line": {
          "color": "#FF97FF",
          "dash": "solid"
         },
         "mode": "lines",
         "name": "Nicaragua",
         "orientation": "v",
         "showlegend": true,
         "type": "scatter",
         "x": [
          "2011",
          "2012",
          "2013",
          "2014",
          "2015",
          "2016",
          "2017",
          "2018",
          "2019",
          "2020"
         ],
         "xaxis": "x",
         "y": [
          95.88,
          97.43,
          97.23,
          97.32,
          101.99,
          102.1,
          98.33,
          95.57,
          95.54,
          95.72
         ],
         "yaxis": "y"
        },
        {
         "hovertemplate": "Country Name=Noruega<br>Year=%{x}<br>TCR=%{y}<extra></extra>",
         "legendgroup": "Noruega",
         "line": {
          "color": "#FECB52",
          "dash": "solid"
         },
         "mode": "lines",
         "name": "Noruega",
         "orientation": "v",
         "showlegend": true,
         "type": "scatter",
         "x": [
          "2011",
          "2012",
          "2013",
          "2014",
          "2015",
          "2016",
          "2017",
          "2018",
          "2019",
          "2020"
         ],
         "xaxis": "x",
         "y": [
          100.39,
          99.6,
          98.1,
          93.19,
          84.31,
          84.82,
          85.65,
          86.06,
          83.74,
          78.2
         ],
         "yaxis": "y"
        },
        {
         "hovertemplate": "Country Name=Nueva Zelandia<br>Year=%{x}<br>TCR=%{y}<extra></extra>",
         "legendgroup": "Nueva Zelandia",
         "line": {
          "color": "#636efa",
          "dash": "solid"
         },
         "mode": "lines",
         "name": "Nueva Zelandia",
         "orientation": "v",
         "showlegend": true,
         "type": "scatter",
         "x": [
          "2011",
          "2012",
          "2013",
          "2014",
          "2015",
          "2016",
          "2017",
          "2018",
          "2019",
          "2020"
         ],
         "xaxis": "x",
         "y": [
          104.19,
          107.71,
          109.98,
          112.87,
          104.98,
          105.85,
          107.38,
          102.87,
          101.35,
          100.57
         ],
         "yaxis": "y"
        },
        {
         "hovertemplate": "Country Name=Paraguay<br>Year=%{x}<br>TCR=%{y}<extra></extra>",
         "legendgroup": "Paraguay",
         "line": {
          "color": "#EF553B",
          "dash": "solid"
         },
         "mode": "lines",
         "name": "Paraguay",
         "orientation": "v",
         "showlegend": true,
         "type": "scatter",
         "x": [
          "2011",
          "2012",
          "2013",
          "2014",
          "2015",
          "2016",
          "2017",
          "2018",
          "2019",
          "2020"
         ],
         "xaxis": "x",
         "y": [
          112.19,
          110.27,
          115.33,
          117.52,
          114.81,
          110.83,
          109.94,
          113.52,
          110.21,
          108.86
         ],
         "yaxis": "y"
        },
        {
         "hovertemplate": "Country Name=Polonia<br>Year=%{x}<br>TCR=%{y}<extra></extra>",
         "legendgroup": "Polonia",
         "line": {
          "color": "#00cc96",
          "dash": "solid"
         },
         "mode": "lines",
         "name": "Polonia",
         "orientation": "v",
         "showlegend": true,
         "type": "scatter",
         "x": [
          "2011",
          "2012",
          "2013",
          "2014",
          "2015",
          "2016",
          "2017",
          "2018",
          "2019",
          "2020"
         ],
         "xaxis": "x",
         "y": [
          98.43,
          95.68,
          96.26,
          96.86,
          92.61,
          88.86,
          91.83,
          93.37,
          92.18,
          92.8
         ],
         "yaxis": "y"
        },
        {
         "hovertemplate": "Country Name=Portugal<br>Year=%{x}<br>TCR=%{y}<extra></extra>",
         "legendgroup": "Portugal",
         "line": {
          "color": "#ab63fa",
          "dash": "solid"
         },
         "mode": "lines",
         "name": "Portugal",
         "orientation": "v",
         "showlegend": true,
         "type": "scatter",
         "x": [
          "2011",
          "2012",
          "2013",
          "2014",
          "2015",
          "2016",
          "2017",
          "2018",
          "2019",
          "2020"
         ],
         "xaxis": "x",
         "y": [
          100.81,
          99.28,
          99.28,
          98.47,
          95.42,
          96.72,
          96.81,
          97.8,
          96.27,
          97.1
         ],
         "yaxis": "y"
        },
        {
         "hovertemplate": "Country Name=República Dominicana<br>Year=%{x}<br>TCR=%{y}<extra></extra>",
         "legendgroup": "República Dominicana",
         "line": {
          "color": "#FFA15A",
          "dash": "solid"
         },
         "mode": "lines",
         "name": "República Dominicana",
         "orientation": "v",
         "showlegend": true,
         "type": "scatter",
         "x": [
          "2011",
          "2012",
          "2013",
          "2014",
          "2015",
          "2016",
          "2017",
          "2018",
          "2019",
          "2020"
         ],
         "xaxis": "x",
         "y": [
          96.42,
          96.33,
          93.55,
          91.64,
          94.2,
          93.77,
          90.88,
          87.85,
          86.83,
          81.02
         ],
         "yaxis": "y"
        },
        {
         "hovertemplate": "Country Name=Sudáfrica<br>Year=%{x}<br>TCR=%{y}<extra></extra>",
         "legendgroup": "Sudáfrica",
         "line": {
          "color": "#19d3f3",
          "dash": "solid"
         },
         "mode": "lines",
         "name": "Sudáfrica",
         "orientation": "v",
         "showlegend": true,
         "type": "scatter",
         "x": [
          "2011",
          "2012",
          "2013",
          "2014",
          "2015",
          "2016",
          "2017",
          "2018",
          "2019",
          "2020"
         ],
         "xaxis": "x",
         "y": [
          98.28,
          92.44,
          82.09,
          77.07,
          75.15,
          70.43,
          79.36,
          80.71,
          78.14,
          70.92
         ],
         "yaxis": "y"
        },
        {
         "hovertemplate": "Country Name=Suecia<br>Year=%{x}<br>TCR=%{y}<extra></extra>",
         "legendgroup": "Suecia",
         "line": {
          "color": "#FF6692",
          "dash": "solid"
         },
         "mode": "lines",
         "name": "Suecia",
         "orientation": "v",
         "showlegend": true,
         "type": "scatter",
         "x": [
          "2011",
          "2012",
          "2013",
          "2014",
          "2015",
          "2016",
          "2017",
          "2018",
          "2019",
          "2020"
         ],
         "xaxis": "x",
         "y": [
          105.84,
          105.13,
          106.41,
          100.75,
          93.33,
          93.89,
          92.98,
          89.17,
          85.65,
          87.73
         ],
         "yaxis": "y"
        },
        {
         "hovertemplate": "Country Name=Suiza<br>Year=%{x}<br>TCR=%{y}<extra></extra>",
         "legendgroup": "Suiza",
         "line": {
          "color": "#B6E880",
          "dash": "solid"
         },
         "mode": "lines",
         "name": "Suiza",
         "orientation": "v",
         "showlegend": true,
         "type": "scatter",
         "x": [
          "2011",
          "2012",
          "2013",
          "2014",
          "2015",
          "2016",
          "2017",
          "2018",
          "2019",
          "2020"
         ],
         "xaxis": "x",
         "y": [
          109.47,
          105.34,
          103.6,
          104.24,
          110.5,
          108.14,
          106,
          103.07,
          104.17,
          108.13
         ],
         "yaxis": "y"
        },
        {
         "hovertemplate": "Country Name=Trinidad y Tobago<br>Year=%{x}<br>TCR=%{y}<extra></extra>",
         "legendgroup": "Trinidad y Tobago",
         "line": {
          "color": "#FF97FF",
          "dash": "solid"
         },
         "mode": "lines",
         "name": "Trinidad y Tobago",
         "orientation": "v",
         "showlegend": true,
         "type": "scatter",
         "x": [
          "2011",
          "2012",
          "2013",
          "2014",
          "2015",
          "2016",
          "2017",
          "2018",
          "2019",
          "2020"
         ],
         "xaxis": "x",
         "y": [
          98.71,
          107.32,
          111.09,
          117.53,
          132.49,
          131.35,
          127.97,
          126.31,
          128.78,
          130.35
         ],
         "yaxis": "y"
        },
        {
         "hovertemplate": "Country Name=Uruguay<br>Year=%{x}<br>TCR=%{y}<extra></extra>",
         "legendgroup": "Uruguay",
         "line": {
          "color": "#FECB52",
          "dash": "solid"
         },
         "mode": "lines",
         "name": "Uruguay",
         "orientation": "v",
         "showlegend": true,
         "type": "scatter",
         "x": [
          "2011",
          "2012",
          "2013",
          "2014",
          "2015",
          "2016",
          "2017",
          "2018",
          "2019",
          "2020"
         ],
         "xaxis": "x",
         "y": [
          102.07,
          104.8,
          111.09,
          106.77,
          107.47,
          108.47,
          115.01,
          116.75,
          113.15,
          107.77
         ],
         "yaxis": "y"
        }
       ],
       "layout": {
        "legend": {
         "title": {
          "text": "Country Name"
         },
         "tracegroupgap": 0
        },
        "margin": {
         "t": 60
        },
        "template": {
         "data": {
          "bar": [
           {
            "error_x": {
             "color": "#2a3f5f"
            },
            "error_y": {
             "color": "#2a3f5f"
            },
            "marker": {
             "line": {
              "color": "#E5ECF6",
              "width": 0.5
             }
            },
            "type": "bar"
           }
          ],
          "barpolar": [
           {
            "marker": {
             "line": {
              "color": "#E5ECF6",
              "width": 0.5
             }
            },
            "type": "barpolar"
           }
          ],
          "carpet": [
           {
            "aaxis": {
             "endlinecolor": "#2a3f5f",
             "gridcolor": "white",
             "linecolor": "white",
             "minorgridcolor": "white",
             "startlinecolor": "#2a3f5f"
            },
            "baxis": {
             "endlinecolor": "#2a3f5f",
             "gridcolor": "white",
             "linecolor": "white",
             "minorgridcolor": "white",
             "startlinecolor": "#2a3f5f"
            },
            "type": "carpet"
           }
          ],
          "choropleth": [
           {
            "colorbar": {
             "outlinewidth": 0,
             "ticks": ""
            },
            "type": "choropleth"
           }
          ],
          "contour": [
           {
            "colorbar": {
             "outlinewidth": 0,
             "ticks": ""
            },
            "colorscale": [
             [
              0,
              "#0d0887"
             ],
             [
              0.1111111111111111,
              "#46039f"
             ],
             [
              0.2222222222222222,
              "#7201a8"
             ],
             [
              0.3333333333333333,
              "#9c179e"
             ],
             [
              0.4444444444444444,
              "#bd3786"
             ],
             [
              0.5555555555555556,
              "#d8576b"
             ],
             [
              0.6666666666666666,
              "#ed7953"
             ],
             [
              0.7777777777777778,
              "#fb9f3a"
             ],
             [
              0.8888888888888888,
              "#fdca26"
             ],
             [
              1,
              "#f0f921"
             ]
            ],
            "type": "contour"
           }
          ],
          "contourcarpet": [
           {
            "colorbar": {
             "outlinewidth": 0,
             "ticks": ""
            },
            "type": "contourcarpet"
           }
          ],
          "heatmap": [
           {
            "colorbar": {
             "outlinewidth": 0,
             "ticks": ""
            },
            "colorscale": [
             [
              0,
              "#0d0887"
             ],
             [
              0.1111111111111111,
              "#46039f"
             ],
             [
              0.2222222222222222,
              "#7201a8"
             ],
             [
              0.3333333333333333,
              "#9c179e"
             ],
             [
              0.4444444444444444,
              "#bd3786"
             ],
             [
              0.5555555555555556,
              "#d8576b"
             ],
             [
              0.6666666666666666,
              "#ed7953"
             ],
             [
              0.7777777777777778,
              "#fb9f3a"
             ],
             [
              0.8888888888888888,
              "#fdca26"
             ],
             [
              1,
              "#f0f921"
             ]
            ],
            "type": "heatmap"
           }
          ],
          "heatmapgl": [
           {
            "colorbar": {
             "outlinewidth": 0,
             "ticks": ""
            },
            "colorscale": [
             [
              0,
              "#0d0887"
             ],
             [
              0.1111111111111111,
              "#46039f"
             ],
             [
              0.2222222222222222,
              "#7201a8"
             ],
             [
              0.3333333333333333,
              "#9c179e"
             ],
             [
              0.4444444444444444,
              "#bd3786"
             ],
             [
              0.5555555555555556,
              "#d8576b"
             ],
             [
              0.6666666666666666,
              "#ed7953"
             ],
             [
              0.7777777777777778,
              "#fb9f3a"
             ],
             [
              0.8888888888888888,
              "#fdca26"
             ],
             [
              1,
              "#f0f921"
             ]
            ],
            "type": "heatmapgl"
           }
          ],
          "histogram": [
           {
            "marker": {
             "colorbar": {
              "outlinewidth": 0,
              "ticks": ""
             }
            },
            "type": "histogram"
           }
          ],
          "histogram2d": [
           {
            "colorbar": {
             "outlinewidth": 0,
             "ticks": ""
            },
            "colorscale": [
             [
              0,
              "#0d0887"
             ],
             [
              0.1111111111111111,
              "#46039f"
             ],
             [
              0.2222222222222222,
              "#7201a8"
             ],
             [
              0.3333333333333333,
              "#9c179e"
             ],
             [
              0.4444444444444444,
              "#bd3786"
             ],
             [
              0.5555555555555556,
              "#d8576b"
             ],
             [
              0.6666666666666666,
              "#ed7953"
             ],
             [
              0.7777777777777778,
              "#fb9f3a"
             ],
             [
              0.8888888888888888,
              "#fdca26"
             ],
             [
              1,
              "#f0f921"
             ]
            ],
            "type": "histogram2d"
           }
          ],
          "histogram2dcontour": [
           {
            "colorbar": {
             "outlinewidth": 0,
             "ticks": ""
            },
            "colorscale": [
             [
              0,
              "#0d0887"
             ],
             [
              0.1111111111111111,
              "#46039f"
             ],
             [
              0.2222222222222222,
              "#7201a8"
             ],
             [
              0.3333333333333333,
              "#9c179e"
             ],
             [
              0.4444444444444444,
              "#bd3786"
             ],
             [
              0.5555555555555556,
              "#d8576b"
             ],
             [
              0.6666666666666666,
              "#ed7953"
             ],
             [
              0.7777777777777778,
              "#fb9f3a"
             ],
             [
              0.8888888888888888,
              "#fdca26"
             ],
             [
              1,
              "#f0f921"
             ]
            ],
            "type": "histogram2dcontour"
           }
          ],
          "mesh3d": [
           {
            "colorbar": {
             "outlinewidth": 0,
             "ticks": ""
            },
            "type": "mesh3d"
           }
          ],
          "parcoords": [
           {
            "line": {
             "colorbar": {
              "outlinewidth": 0,
              "ticks": ""
             }
            },
            "type": "parcoords"
           }
          ],
          "pie": [
           {
            "automargin": true,
            "type": "pie"
           }
          ],
          "scatter": [
           {
            "marker": {
             "colorbar": {
              "outlinewidth": 0,
              "ticks": ""
             }
            },
            "type": "scatter"
           }
          ],
          "scatter3d": [
           {
            "line": {
             "colorbar": {
              "outlinewidth": 0,
              "ticks": ""
             }
            },
            "marker": {
             "colorbar": {
              "outlinewidth": 0,
              "ticks": ""
             }
            },
            "type": "scatter3d"
           }
          ],
          "scattercarpet": [
           {
            "marker": {
             "colorbar": {
              "outlinewidth": 0,
              "ticks": ""
             }
            },
            "type": "scattercarpet"
           }
          ],
          "scattergeo": [
           {
            "marker": {
             "colorbar": {
              "outlinewidth": 0,
              "ticks": ""
             }
            },
            "type": "scattergeo"
           }
          ],
          "scattergl": [
           {
            "marker": {
             "colorbar": {
              "outlinewidth": 0,
              "ticks": ""
             }
            },
            "type": "scattergl"
           }
          ],
          "scattermapbox": [
           {
            "marker": {
             "colorbar": {
              "outlinewidth": 0,
              "ticks": ""
             }
            },
            "type": "scattermapbox"
           }
          ],
          "scatterpolar": [
           {
            "marker": {
             "colorbar": {
              "outlinewidth": 0,
              "ticks": ""
             }
            },
            "type": "scatterpolar"
           }
          ],
          "scatterpolargl": [
           {
            "marker": {
             "colorbar": {
              "outlinewidth": 0,
              "ticks": ""
             }
            },
            "type": "scatterpolargl"
           }
          ],
          "scatterternary": [
           {
            "marker": {
             "colorbar": {
              "outlinewidth": 0,
              "ticks": ""
             }
            },
            "type": "scatterternary"
           }
          ],
          "surface": [
           {
            "colorbar": {
             "outlinewidth": 0,
             "ticks": ""
            },
            "colorscale": [
             [
              0,
              "#0d0887"
             ],
             [
              0.1111111111111111,
              "#46039f"
             ],
             [
              0.2222222222222222,
              "#7201a8"
             ],
             [
              0.3333333333333333,
              "#9c179e"
             ],
             [
              0.4444444444444444,
              "#bd3786"
             ],
             [
              0.5555555555555556,
              "#d8576b"
             ],
             [
              0.6666666666666666,
              "#ed7953"
             ],
             [
              0.7777777777777778,
              "#fb9f3a"
             ],
             [
              0.8888888888888888,
              "#fdca26"
             ],
             [
              1,
              "#f0f921"
             ]
            ],
            "type": "surface"
           }
          ],
          "table": [
           {
            "cells": {
             "fill": {
              "color": "#EBF0F8"
             },
             "line": {
              "color": "white"
             }
            },
            "header": {
             "fill": {
              "color": "#C8D4E3"
             },
             "line": {
              "color": "white"
             }
            },
            "type": "table"
           }
          ]
         },
         "layout": {
          "annotationdefaults": {
           "arrowcolor": "#2a3f5f",
           "arrowhead": 0,
           "arrowwidth": 1
          },
          "autotypenumbers": "strict",
          "coloraxis": {
           "colorbar": {
            "outlinewidth": 0,
            "ticks": ""
           }
          },
          "colorscale": {
           "diverging": [
            [
             0,
             "#8e0152"
            ],
            [
             0.1,
             "#c51b7d"
            ],
            [
             0.2,
             "#de77ae"
            ],
            [
             0.3,
             "#f1b6da"
            ],
            [
             0.4,
             "#fde0ef"
            ],
            [
             0.5,
             "#f7f7f7"
            ],
            [
             0.6,
             "#e6f5d0"
            ],
            [
             0.7,
             "#b8e186"
            ],
            [
             0.8,
             "#7fbc41"
            ],
            [
             0.9,
             "#4d9221"
            ],
            [
             1,
             "#276419"
            ]
           ],
           "sequential": [
            [
             0,
             "#0d0887"
            ],
            [
             0.1111111111111111,
             "#46039f"
            ],
            [
             0.2222222222222222,
             "#7201a8"
            ],
            [
             0.3333333333333333,
             "#9c179e"
            ],
            [
             0.4444444444444444,
             "#bd3786"
            ],
            [
             0.5555555555555556,
             "#d8576b"
            ],
            [
             0.6666666666666666,
             "#ed7953"
            ],
            [
             0.7777777777777778,
             "#fb9f3a"
            ],
            [
             0.8888888888888888,
             "#fdca26"
            ],
            [
             1,
             "#f0f921"
            ]
           ],
           "sequentialminus": [
            [
             0,
             "#0d0887"
            ],
            [
             0.1111111111111111,
             "#46039f"
            ],
            [
             0.2222222222222222,
             "#7201a8"
            ],
            [
             0.3333333333333333,
             "#9c179e"
            ],
            [
             0.4444444444444444,
             "#bd3786"
            ],
            [
             0.5555555555555556,
             "#d8576b"
            ],
            [
             0.6666666666666666,
             "#ed7953"
            ],
            [
             0.7777777777777778,
             "#fb9f3a"
            ],
            [
             0.8888888888888888,
             "#fdca26"
            ],
            [
             1,
             "#f0f921"
            ]
           ]
          },
          "colorway": [
           "#636efa",
           "#EF553B",
           "#00cc96",
           "#ab63fa",
           "#FFA15A",
           "#19d3f3",
           "#FF6692",
           "#B6E880",
           "#FF97FF",
           "#FECB52"
          ],
          "font": {
           "color": "#2a3f5f"
          },
          "geo": {
           "bgcolor": "white",
           "lakecolor": "white",
           "landcolor": "#E5ECF6",
           "showlakes": true,
           "showland": true,
           "subunitcolor": "white"
          },
          "hoverlabel": {
           "align": "left"
          },
          "hovermode": "closest",
          "mapbox": {
           "style": "light"
          },
          "paper_bgcolor": "white",
          "plot_bgcolor": "#E5ECF6",
          "polar": {
           "angularaxis": {
            "gridcolor": "white",
            "linecolor": "white",
            "ticks": ""
           },
           "bgcolor": "#E5ECF6",
           "radialaxis": {
            "gridcolor": "white",
            "linecolor": "white",
            "ticks": ""
           }
          },
          "scene": {
           "xaxis": {
            "backgroundcolor": "#E5ECF6",
            "gridcolor": "white",
            "gridwidth": 2,
            "linecolor": "white",
            "showbackground": true,
            "ticks": "",
            "zerolinecolor": "white"
           },
           "yaxis": {
            "backgroundcolor": "#E5ECF6",
            "gridcolor": "white",
            "gridwidth": 2,
            "linecolor": "white",
            "showbackground": true,
            "ticks": "",
            "zerolinecolor": "white"
           },
           "zaxis": {
            "backgroundcolor": "#E5ECF6",
            "gridcolor": "white",
            "gridwidth": 2,
            "linecolor": "white",
            "showbackground": true,
            "ticks": "",
            "zerolinecolor": "white"
           }
          },
          "shapedefaults": {
           "line": {
            "color": "#2a3f5f"
           }
          },
          "ternary": {
           "aaxis": {
            "gridcolor": "white",
            "linecolor": "white",
            "ticks": ""
           },
           "baxis": {
            "gridcolor": "white",
            "linecolor": "white",
            "ticks": ""
           },
           "bgcolor": "#E5ECF6",
           "caxis": {
            "gridcolor": "white",
            "linecolor": "white",
            "ticks": ""
           }
          },
          "title": {
           "x": 0.05
          },
          "xaxis": {
           "automargin": true,
           "gridcolor": "white",
           "linecolor": "white",
           "ticks": "",
           "title": {
            "standoff": 15
           },
           "zerolinecolor": "white",
           "zerolinewidth": 2
          },
          "yaxis": {
           "automargin": true,
           "gridcolor": "white",
           "linecolor": "white",
           "ticks": "",
           "title": {
            "standoff": 15
           },
           "zerolinecolor": "white",
           "zerolinewidth": 2
          }
         }
        },
        "xaxis": {
         "anchor": "y",
         "domain": [
          0,
          1
         ],
         "title": {
          "text": "Year"
         }
        },
        "yaxis": {
         "anchor": "x",
         "domain": [
          0,
          1
         ],
         "title": {
          "text": "TCR"
         },
         "type": "log"
        }
       }
      },
      "text/html": [
       "<div>                            <div id=\"bb2276d9-a0b1-472e-aab4-2b035a220e1a\" class=\"plotly-graph-div\" style=\"height:525px; width:100%;\"></div>            <script type=\"text/javascript\">                require([\"plotly\"], function(Plotly) {                    window.PLOTLYENV=window.PLOTLYENV || {};                                    if (document.getElementById(\"bb2276d9-a0b1-472e-aab4-2b035a220e1a\")) {                    Plotly.newPlot(                        \"bb2276d9-a0b1-472e-aab4-2b035a220e1a\",                        [{\"hovertemplate\": \"Country Name=Argentina<br>Year=%{x}<br>TCR=%{y}<extra></extra>\", \"legendgroup\": \"Argentina\", \"line\": {\"color\": \"#636efa\", \"dash\": \"solid\"}, \"mode\": \"lines\", \"name\": \"Argentina\", \"orientation\": \"v\", \"showlegend\": true, \"type\": \"scatter\", \"x\": [\"2011\", \"2012\", \"2013\", \"2014\", \"2015\", \"2016\", \"2017\", \"2018\", \"2019\", \"2020\"], \"xaxis\": \"x\", \"y\": [93.4, 80.0, 77.1, 81.2, 63.5, 72.4, 67.8, 84.1, 93.3, 118.4], \"yaxis\": \"y\"}, {\"hovertemplate\": \"Country Name=Australia<br>Year=%{x}<br>TCR=%{y}<extra></extra>\", \"legendgroup\": \"Australia\", \"line\": {\"color\": \"#EF553B\", \"dash\": \"solid\"}, \"mode\": \"lines\", \"name\": \"Australia\", \"orientation\": \"v\", \"showlegend\": true, \"type\": \"scatter\", \"x\": [\"2011\", \"2012\", \"2013\", \"2014\", \"2015\", \"2016\", \"2017\", \"2018\", \"2019\", \"2020\"], \"xaxis\": \"x\", \"y\": [106.96, 109.03, 103.45, 98.32, 89.85, 90.93, 93.69, 89.95, 86.01, 85.36], \"yaxis\": \"y\"}, {\"hovertemplate\": \"Country Name=Bahamas<br>Year=%{x}<br>TCR=%{y}<extra></extra>\", \"legendgroup\": \"Bahamas\", \"line\": {\"color\": \"#00cc96\", \"dash\": \"solid\"}, \"mode\": \"lines\", \"name\": \"Bahamas\", \"orientation\": \"v\", \"showlegend\": true, \"type\": \"scatter\", \"x\": [\"2011\", \"2012\", \"2013\", \"2014\", \"2015\", \"2016\", \"2017\", \"2018\", \"2019\", \"2020\"], \"xaxis\": \"x\", \"y\": [99.34, 99.26, 99.01, 99.0, 102.26, 101.33, 100.71, 100.49, 101.85, 100.28], \"yaxis\": \"y\"}, {\"hovertemplate\": \"Country Name=Belice<br>Year=%{x}<br>TCR=%{y}<extra></extra>\", \"legendgroup\": \"Belice\", \"line\": {\"color\": \"#ab63fa\", \"dash\": \"solid\"}, \"mode\": \"lines\", \"name\": \"Belice\", \"orientation\": \"v\", \"showlegend\": true, \"type\": \"scatter\", \"x\": [\"2011\", \"2012\", \"2013\", \"2014\", \"2015\", \"2016\", \"2017\", \"2018\", \"2019\", \"2020\"], \"xaxis\": \"x\", \"y\": [95.37, 96.98, 95.4, 96.35, 102.61, 104.38, 102.63, 99.9, 100.1, 99.54], \"yaxis\": \"y\"}, {\"hovertemplate\": \"Country Name=Bolivia<br>Year=%{x}<br>TCR=%{y}<extra></extra>\", \"legendgroup\": \"Bolivia\", \"line\": {\"color\": \"#FFA15A\", \"dash\": \"solid\"}, \"mode\": \"lines\", \"name\": \"Bolivia\", \"orientation\": \"v\", \"showlegend\": true, \"type\": \"scatter\", \"x\": [\"2011\", \"2012\", \"2013\", \"2014\", \"2015\", \"2016\", \"2017\", \"2018\", \"2019\", \"2020\"], \"xaxis\": \"x\", \"y\": [102.29, 106.66, 112.27, 120.09, 137.69, 143.32, 140.12, 143.26, 149.84, 157.44], \"yaxis\": \"y\"}, {\"hovertemplate\": \"Country Name=Brasil<br>Year=%{x}<br>TCR=%{y}<extra></extra>\", \"legendgroup\": \"Brasil\", \"line\": {\"color\": \"#19d3f3\", \"dash\": \"solid\"}, \"mode\": \"lines\", \"name\": \"Brasil\", \"orientation\": \"v\", \"showlegend\": true, \"type\": \"scatter\", \"x\": [\"2011\", \"2012\", \"2013\", \"2014\", \"2015\", \"2016\", \"2017\", \"2018\", \"2019\", \"2020\"], \"xaxis\": \"x\", \"y\": [103.18, 92.01, 86.43, 84.59, 69.62, 73.04, 79.26, 70.98, 69.68, 55.31], \"yaxis\": \"y\"}, {\"hovertemplate\": \"Country Name=Bulgaria<br>Year=%{x}<br>TCR=%{y}<extra></extra>\", \"legendgroup\": \"Bulgaria\", \"line\": {\"color\": \"#FF6692\", \"dash\": \"solid\"}, \"mode\": \"lines\", \"name\": \"Bulgaria\", \"orientation\": \"v\", \"showlegend\": true, \"type\": \"scatter\", \"x\": [\"2011\", \"2012\", \"2013\", \"2014\", \"2015\", \"2016\", \"2017\", \"2018\", \"2019\", \"2020\"], \"xaxis\": \"x\", \"y\": [101.45, 100.02, 100.92, 100.11, 96.82, 96.97, 98.04, 101.31, 101.82, 104.68], \"yaxis\": \"y\"}, {\"hovertemplate\": \"Country Name=Camer\\u00fan<br>Year=%{x}<br>TCR=%{y}<extra></extra>\", \"legendgroup\": \"Camer\\u00fan\", \"line\": {\"color\": \"#B6E880\", \"dash\": \"solid\"}, \"mode\": \"lines\", \"name\": \"Camer\\u00fan\", \"orientation\": \"v\", \"showlegend\": true, \"type\": \"scatter\", \"x\": [\"2011\", \"2012\", \"2013\", \"2014\", \"2015\", \"2016\", \"2017\", \"2018\", \"2019\", \"2020\"], \"xaxis\": \"x\", \"y\": [100.22, 96.46, 98.92, 99.72, 93.54, 95.64, 96.53, 97.92, 96.85, 99.85], \"yaxis\": \"y\"}, {\"hovertemplate\": \"Country Name=Canad\\u00e1<br>Year=%{x}<br>TCR=%{y}<extra></extra>\", \"legendgroup\": \"Canad\\u00e1\", \"line\": {\"color\": \"#FF97FF\", \"dash\": \"solid\"}, \"mode\": \"lines\", \"name\": \"Canad\\u00e1\", \"orientation\": \"v\", \"showlegend\": true, \"type\": \"scatter\", \"x\": [\"2011\", \"2012\", \"2013\", \"2014\", \"2015\", \"2016\", \"2017\", \"2018\", \"2019\", \"2020\"], \"xaxis\": \"x\", \"y\": [101.56, 101.08, 97.48, 91.48, 83.13, 81.53, 82.75, 82.3, 81.52, 80.63], \"yaxis\": \"y\"}, {\"hovertemplate\": \"Country Name=Chile<br>Year=%{x}<br>TCR=%{y}<extra></extra>\", \"legendgroup\": \"Chile\", \"line\": {\"color\": \"#FECB52\", \"dash\": \"solid\"}, \"mode\": \"lines\", \"name\": \"Chile\", \"orientation\": \"v\", \"showlegend\": true, \"type\": \"scatter\", \"x\": [\"2011\", \"2012\", \"2013\", \"2014\", \"2015\", \"2016\", \"2017\", \"2018\", \"2019\", \"2020\"], \"xaxis\": \"x\", \"y\": [100.71, 102.9, 101.35, 91.87, 90.99, 92.62, 95.74, 97.1, 92.52, 84.86], \"yaxis\": \"y\"}, {\"hovertemplate\": \"Country Name=China<br>Year=%{x}<br>TCR=%{y}<extra></extra>\", \"legendgroup\": \"China\", \"line\": {\"color\": \"#636efa\", \"dash\": \"solid\"}, \"mode\": \"lines\", \"name\": \"China\", \"orientation\": \"v\", \"showlegend\": true, \"type\": \"scatter\", \"x\": [\"2011\", \"2012\", \"2013\", \"2014\", \"2015\", \"2016\", \"2017\", \"2018\", \"2019\", \"2020\"], \"xaxis\": \"x\", \"y\": [102.69, 108.68, 114.62, 118.31, 129.97, 123.67, 120.09, 121.74, 120.89, 123.44], \"yaxis\": \"y\"}, {\"hovertemplate\": \"Country Name=Colombia<br>Year=%{x}<br>TCR=%{y}<extra></extra>\", \"legendgroup\": \"Colombia\", \"line\": {\"color\": \"#EF553B\", \"dash\": \"solid\"}, \"mode\": \"lines\", \"name\": \"Colombia\", \"orientation\": \"v\", \"showlegend\": true, \"type\": \"scatter\", \"x\": [\"2011\", \"2012\", \"2013\", \"2014\", \"2015\", \"2016\", \"2017\", \"2018\", \"2019\", \"2020\"], \"xaxis\": \"x\", \"y\": [100.13, 105.34, 101.29, 95.87, 77.62, 73.99, 76.44, 77.23, 72.71, 67.05], \"yaxis\": \"y\"}, {\"hovertemplate\": \"Country Name=Costa Rica<br>Year=%{x}<br>TCR=%{y}<extra></extra>\", \"legendgroup\": \"Costa Rica\", \"line\": {\"color\": \"#00cc96\", \"dash\": \"solid\"}, \"mode\": \"lines\", \"name\": \"Costa Rica\", \"orientation\": \"v\", \"showlegend\": true, \"type\": \"scatter\", \"x\": [\"2011\", \"2012\", \"2013\", \"2014\", \"2015\", \"2016\", \"2017\", \"2018\", \"2019\", \"2020\"], \"xaxis\": \"x\", \"y\": [101.82, 106.19, 110.5, 106.31, 114.59, 113.79, 108.53, 105.74, 106.42, 107.3], \"yaxis\": \"y\"}, {\"hovertemplate\": \"Country Name=Dominica<br>Year=%{x}<br>TCR=%{y}<extra></extra>\", \"legendgroup\": \"Dominica\", \"line\": {\"color\": \"#ab63fa\", \"dash\": \"solid\"}, \"mode\": \"lines\", \"name\": \"Dominica\", \"orientation\": \"v\", \"showlegend\": true, \"type\": \"scatter\", \"x\": [\"2011\", \"2012\", \"2013\", \"2014\", \"2015\", \"2016\", \"2017\", \"2018\", \"2019\", \"2020\"], \"xaxis\": \"x\", \"y\": [95.2, 95.55, 94.52, 94.22, 98.27, 101.84, 102.61, 101.85, 103.01, 94.36], \"yaxis\": \"y\"}, {\"hovertemplate\": \"Country Name=Granada<br>Year=%{x}<br>TCR=%{y}<extra></extra>\", \"legendgroup\": \"Granada\", \"line\": {\"color\": \"#FFA15A\", \"dash\": \"solid\"}, \"mode\": \"lines\", \"name\": \"Granada\", \"orientation\": \"v\", \"showlegend\": true, \"type\": \"scatter\", \"x\": [\"2011\", \"2012\", \"2013\", \"2014\", \"2015\", \"2016\", \"2017\", \"2018\", \"2019\", \"2020\"], \"xaxis\": \"x\", \"y\": [97.06, 97.71, 96.46, 93.63, 97.02, 99.15, 97.79, 95.43, 96.12, 94.16], \"yaxis\": \"y\"}, {\"hovertemplate\": \"Country Name=Guyana<br>Year=%{x}<br>TCR=%{y}<extra></extra>\", \"legendgroup\": \"Guyana\", \"line\": {\"color\": \"#19d3f3\", \"dash\": \"solid\"}, \"mode\": \"lines\", \"name\": \"Guyana\", \"orientation\": \"v\", \"showlegend\": true, \"type\": \"scatter\", \"x\": [\"2011\", \"2012\", \"2013\", \"2014\", \"2015\", \"2016\", \"2017\", \"2018\", \"2019\", \"2020\"], \"xaxis\": \"x\", \"y\": [97.76, 99.27, 99.58, 99.08, 105.43, 107.28, 107.04, 104.61, 107.48, 108.66], \"yaxis\": \"y\"}, {\"hovertemplate\": \"Country Name=Jap\\u00f3n<br>Year=%{x}<br>TCR=%{y}<extra></extra>\", \"legendgroup\": \"Jap\\u00f3n\", \"line\": {\"color\": \"#FF6692\", \"dash\": \"solid\"}, \"mode\": \"lines\", \"name\": \"Jap\\u00f3n\", \"orientation\": \"v\", \"showlegend\": true, \"type\": \"scatter\", \"x\": [\"2011\", \"2012\", \"2013\", \"2014\", \"2015\", \"2016\", \"2017\", \"2018\", \"2019\", \"2020\"], \"xaxis\": \"x\", \"y\": [101.13, 99.89, 79.64, 74.58, 69.42, 78.85, 75.03, 74.37, 76.53, 77.25], \"yaxis\": \"y\"}, {\"hovertemplate\": \"Country Name=M\\u00e9xico<br>Year=%{x}<br>TCR=%{y}<extra></extra>\", \"legendgroup\": \"M\\u00e9xico\", \"line\": {\"color\": \"#B6E880\", \"dash\": \"solid\"}, \"mode\": \"lines\", \"name\": \"M\\u00e9xico\", \"orientation\": \"v\", \"showlegend\": true, \"type\": \"scatter\", \"x\": [\"2011\", \"2012\", \"2013\", \"2014\", \"2015\", \"2016\", \"2017\", \"2018\", \"2019\", \"2020\"], \"xaxis\": \"x\", \"y\": [99.8, 96.63, 102.27, 101.24, 90.75, 79.03, 80.88, 80.99, 83.69, 77.35], \"yaxis\": \"y\"}, {\"hovertemplate\": \"Country Name=Nicaragua<br>Year=%{x}<br>TCR=%{y}<extra></extra>\", \"legendgroup\": \"Nicaragua\", \"line\": {\"color\": \"#FF97FF\", \"dash\": \"solid\"}, \"mode\": \"lines\", \"name\": \"Nicaragua\", \"orientation\": \"v\", \"showlegend\": true, \"type\": \"scatter\", \"x\": [\"2011\", \"2012\", \"2013\", \"2014\", \"2015\", \"2016\", \"2017\", \"2018\", \"2019\", \"2020\"], \"xaxis\": \"x\", \"y\": [95.88, 97.43, 97.23, 97.32, 101.99, 102.1, 98.33, 95.57, 95.54, 95.72], \"yaxis\": \"y\"}, {\"hovertemplate\": \"Country Name=Noruega<br>Year=%{x}<br>TCR=%{y}<extra></extra>\", \"legendgroup\": \"Noruega\", \"line\": {\"color\": \"#FECB52\", \"dash\": \"solid\"}, \"mode\": \"lines\", \"name\": \"Noruega\", \"orientation\": \"v\", \"showlegend\": true, \"type\": \"scatter\", \"x\": [\"2011\", \"2012\", \"2013\", \"2014\", \"2015\", \"2016\", \"2017\", \"2018\", \"2019\", \"2020\"], \"xaxis\": \"x\", \"y\": [100.39, 99.6, 98.1, 93.19, 84.31, 84.82, 85.65, 86.06, 83.74, 78.2], \"yaxis\": \"y\"}, {\"hovertemplate\": \"Country Name=Nueva Zelandia<br>Year=%{x}<br>TCR=%{y}<extra></extra>\", \"legendgroup\": \"Nueva Zelandia\", \"line\": {\"color\": \"#636efa\", \"dash\": \"solid\"}, \"mode\": \"lines\", \"name\": \"Nueva Zelandia\", \"orientation\": \"v\", \"showlegend\": true, \"type\": \"scatter\", \"x\": [\"2011\", \"2012\", \"2013\", \"2014\", \"2015\", \"2016\", \"2017\", \"2018\", \"2019\", \"2020\"], \"xaxis\": \"x\", \"y\": [104.19, 107.71, 109.98, 112.87, 104.98, 105.85, 107.38, 102.87, 101.35, 100.57], \"yaxis\": \"y\"}, {\"hovertemplate\": \"Country Name=Paraguay<br>Year=%{x}<br>TCR=%{y}<extra></extra>\", \"legendgroup\": \"Paraguay\", \"line\": {\"color\": \"#EF553B\", \"dash\": \"solid\"}, \"mode\": \"lines\", \"name\": \"Paraguay\", \"orientation\": \"v\", \"showlegend\": true, \"type\": \"scatter\", \"x\": [\"2011\", \"2012\", \"2013\", \"2014\", \"2015\", \"2016\", \"2017\", \"2018\", \"2019\", \"2020\"], \"xaxis\": \"x\", \"y\": [112.19, 110.27, 115.33, 117.52, 114.81, 110.83, 109.94, 113.52, 110.21, 108.86], \"yaxis\": \"y\"}, {\"hovertemplate\": \"Country Name=Polonia<br>Year=%{x}<br>TCR=%{y}<extra></extra>\", \"legendgroup\": \"Polonia\", \"line\": {\"color\": \"#00cc96\", \"dash\": \"solid\"}, \"mode\": \"lines\", \"name\": \"Polonia\", \"orientation\": \"v\", \"showlegend\": true, \"type\": \"scatter\", \"x\": [\"2011\", \"2012\", \"2013\", \"2014\", \"2015\", \"2016\", \"2017\", \"2018\", \"2019\", \"2020\"], \"xaxis\": \"x\", \"y\": [98.43, 95.68, 96.26, 96.86, 92.61, 88.86, 91.83, 93.37, 92.18, 92.8], \"yaxis\": \"y\"}, {\"hovertemplate\": \"Country Name=Portugal<br>Year=%{x}<br>TCR=%{y}<extra></extra>\", \"legendgroup\": \"Portugal\", \"line\": {\"color\": \"#ab63fa\", \"dash\": \"solid\"}, \"mode\": \"lines\", \"name\": \"Portugal\", \"orientation\": \"v\", \"showlegend\": true, \"type\": \"scatter\", \"x\": [\"2011\", \"2012\", \"2013\", \"2014\", \"2015\", \"2016\", \"2017\", \"2018\", \"2019\", \"2020\"], \"xaxis\": \"x\", \"y\": [100.81, 99.28, 99.28, 98.47, 95.42, 96.72, 96.81, 97.8, 96.27, 97.1], \"yaxis\": \"y\"}, {\"hovertemplate\": \"Country Name=Rep\\u00fablica Dominicana<br>Year=%{x}<br>TCR=%{y}<extra></extra>\", \"legendgroup\": \"Rep\\u00fablica Dominicana\", \"line\": {\"color\": \"#FFA15A\", \"dash\": \"solid\"}, \"mode\": \"lines\", \"name\": \"Rep\\u00fablica Dominicana\", \"orientation\": \"v\", \"showlegend\": true, \"type\": \"scatter\", \"x\": [\"2011\", \"2012\", \"2013\", \"2014\", \"2015\", \"2016\", \"2017\", \"2018\", \"2019\", \"2020\"], \"xaxis\": \"x\", \"y\": [96.42, 96.33, 93.55, 91.64, 94.2, 93.77, 90.88, 87.85, 86.83, 81.02], \"yaxis\": \"y\"}, {\"hovertemplate\": \"Country Name=Sud\\u00e1frica<br>Year=%{x}<br>TCR=%{y}<extra></extra>\", \"legendgroup\": \"Sud\\u00e1frica\", \"line\": {\"color\": \"#19d3f3\", \"dash\": \"solid\"}, \"mode\": \"lines\", \"name\": \"Sud\\u00e1frica\", \"orientation\": \"v\", \"showlegend\": true, \"type\": \"scatter\", \"x\": [\"2011\", \"2012\", \"2013\", \"2014\", \"2015\", \"2016\", \"2017\", \"2018\", \"2019\", \"2020\"], \"xaxis\": \"x\", \"y\": [98.28, 92.44, 82.09, 77.07, 75.15, 70.43, 79.36, 80.71, 78.14, 70.92], \"yaxis\": \"y\"}, {\"hovertemplate\": \"Country Name=Suecia<br>Year=%{x}<br>TCR=%{y}<extra></extra>\", \"legendgroup\": \"Suecia\", \"line\": {\"color\": \"#FF6692\", \"dash\": \"solid\"}, \"mode\": \"lines\", \"name\": \"Suecia\", \"orientation\": \"v\", \"showlegend\": true, \"type\": \"scatter\", \"x\": [\"2011\", \"2012\", \"2013\", \"2014\", \"2015\", \"2016\", \"2017\", \"2018\", \"2019\", \"2020\"], \"xaxis\": \"x\", \"y\": [105.84, 105.13, 106.41, 100.75, 93.33, 93.89, 92.98, 89.17, 85.65, 87.73], \"yaxis\": \"y\"}, {\"hovertemplate\": \"Country Name=Suiza<br>Year=%{x}<br>TCR=%{y}<extra></extra>\", \"legendgroup\": \"Suiza\", \"line\": {\"color\": \"#B6E880\", \"dash\": \"solid\"}, \"mode\": \"lines\", \"name\": \"Suiza\", \"orientation\": \"v\", \"showlegend\": true, \"type\": \"scatter\", \"x\": [\"2011\", \"2012\", \"2013\", \"2014\", \"2015\", \"2016\", \"2017\", \"2018\", \"2019\", \"2020\"], \"xaxis\": \"x\", \"y\": [109.47, 105.34, 103.6, 104.24, 110.5, 108.14, 106.0, 103.07, 104.17, 108.13], \"yaxis\": \"y\"}, {\"hovertemplate\": \"Country Name=Trinidad y Tobago<br>Year=%{x}<br>TCR=%{y}<extra></extra>\", \"legendgroup\": \"Trinidad y Tobago\", \"line\": {\"color\": \"#FF97FF\", \"dash\": \"solid\"}, \"mode\": \"lines\", \"name\": \"Trinidad y Tobago\", \"orientation\": \"v\", \"showlegend\": true, \"type\": \"scatter\", \"x\": [\"2011\", \"2012\", \"2013\", \"2014\", \"2015\", \"2016\", \"2017\", \"2018\", \"2019\", \"2020\"], \"xaxis\": \"x\", \"y\": [98.71, 107.32, 111.09, 117.53, 132.49, 131.35, 127.97, 126.31, 128.78, 130.35], \"yaxis\": \"y\"}, {\"hovertemplate\": \"Country Name=Uruguay<br>Year=%{x}<br>TCR=%{y}<extra></extra>\", \"legendgroup\": \"Uruguay\", \"line\": {\"color\": \"#FECB52\", \"dash\": \"solid\"}, \"mode\": \"lines\", \"name\": \"Uruguay\", \"orientation\": \"v\", \"showlegend\": true, \"type\": \"scatter\", \"x\": [\"2011\", \"2012\", \"2013\", \"2014\", \"2015\", \"2016\", \"2017\", \"2018\", \"2019\", \"2020\"], \"xaxis\": \"x\", \"y\": [102.07, 104.8, 111.09, 106.77, 107.47, 108.47, 115.01, 116.75, 113.15, 107.77], \"yaxis\": \"y\"}],                        {\"legend\": {\"title\": {\"text\": \"Country Name\"}, \"tracegroupgap\": 0}, \"margin\": {\"t\": 60}, \"template\": {\"data\": {\"bar\": [{\"error_x\": {\"color\": \"#2a3f5f\"}, \"error_y\": {\"color\": \"#2a3f5f\"}, \"marker\": {\"line\": {\"color\": \"#E5ECF6\", \"width\": 0.5}}, \"type\": \"bar\"}], \"barpolar\": [{\"marker\": {\"line\": {\"color\": \"#E5ECF6\", \"width\": 0.5}}, \"type\": \"barpolar\"}], \"carpet\": [{\"aaxis\": {\"endlinecolor\": \"#2a3f5f\", \"gridcolor\": \"white\", \"linecolor\": \"white\", \"minorgridcolor\": \"white\", \"startlinecolor\": \"#2a3f5f\"}, \"baxis\": {\"endlinecolor\": \"#2a3f5f\", \"gridcolor\": \"white\", \"linecolor\": \"white\", \"minorgridcolor\": \"white\", \"startlinecolor\": \"#2a3f5f\"}, \"type\": \"carpet\"}], \"choropleth\": [{\"colorbar\": {\"outlinewidth\": 0, \"ticks\": \"\"}, \"type\": \"choropleth\"}], \"contour\": [{\"colorbar\": {\"outlinewidth\": 0, \"ticks\": \"\"}, \"colorscale\": [[0.0, \"#0d0887\"], [0.1111111111111111, \"#46039f\"], [0.2222222222222222, \"#7201a8\"], [0.3333333333333333, \"#9c179e\"], [0.4444444444444444, \"#bd3786\"], [0.5555555555555556, \"#d8576b\"], [0.6666666666666666, \"#ed7953\"], [0.7777777777777778, \"#fb9f3a\"], [0.8888888888888888, \"#fdca26\"], [1.0, \"#f0f921\"]], \"type\": \"contour\"}], \"contourcarpet\": [{\"colorbar\": {\"outlinewidth\": 0, \"ticks\": \"\"}, \"type\": \"contourcarpet\"}], \"heatmap\": [{\"colorbar\": {\"outlinewidth\": 0, \"ticks\": \"\"}, \"colorscale\": [[0.0, \"#0d0887\"], [0.1111111111111111, \"#46039f\"], [0.2222222222222222, \"#7201a8\"], [0.3333333333333333, \"#9c179e\"], [0.4444444444444444, \"#bd3786\"], [0.5555555555555556, \"#d8576b\"], [0.6666666666666666, \"#ed7953\"], [0.7777777777777778, \"#fb9f3a\"], [0.8888888888888888, \"#fdca26\"], [1.0, \"#f0f921\"]], \"type\": \"heatmap\"}], \"heatmapgl\": [{\"colorbar\": {\"outlinewidth\": 0, \"ticks\": \"\"}, \"colorscale\": [[0.0, \"#0d0887\"], [0.1111111111111111, \"#46039f\"], [0.2222222222222222, \"#7201a8\"], [0.3333333333333333, \"#9c179e\"], [0.4444444444444444, \"#bd3786\"], [0.5555555555555556, \"#d8576b\"], [0.6666666666666666, \"#ed7953\"], [0.7777777777777778, \"#fb9f3a\"], [0.8888888888888888, \"#fdca26\"], [1.0, \"#f0f921\"]], \"type\": \"heatmapgl\"}], \"histogram\": [{\"marker\": {\"colorbar\": {\"outlinewidth\": 0, \"ticks\": \"\"}}, \"type\": \"histogram\"}], \"histogram2d\": [{\"colorbar\": {\"outlinewidth\": 0, \"ticks\": \"\"}, \"colorscale\": [[0.0, \"#0d0887\"], [0.1111111111111111, \"#46039f\"], [0.2222222222222222, \"#7201a8\"], [0.3333333333333333, \"#9c179e\"], [0.4444444444444444, \"#bd3786\"], [0.5555555555555556, \"#d8576b\"], [0.6666666666666666, \"#ed7953\"], [0.7777777777777778, \"#fb9f3a\"], [0.8888888888888888, \"#fdca26\"], [1.0, \"#f0f921\"]], \"type\": \"histogram2d\"}], \"histogram2dcontour\": [{\"colorbar\": {\"outlinewidth\": 0, \"ticks\": \"\"}, \"colorscale\": [[0.0, \"#0d0887\"], [0.1111111111111111, \"#46039f\"], [0.2222222222222222, \"#7201a8\"], [0.3333333333333333, \"#9c179e\"], [0.4444444444444444, \"#bd3786\"], [0.5555555555555556, \"#d8576b\"], [0.6666666666666666, \"#ed7953\"], [0.7777777777777778, \"#fb9f3a\"], [0.8888888888888888, \"#fdca26\"], [1.0, \"#f0f921\"]], \"type\": \"histogram2dcontour\"}], \"mesh3d\": [{\"colorbar\": {\"outlinewidth\": 0, \"ticks\": \"\"}, \"type\": \"mesh3d\"}], \"parcoords\": [{\"line\": {\"colorbar\": {\"outlinewidth\": 0, \"ticks\": \"\"}}, \"type\": \"parcoords\"}], \"pie\": [{\"automargin\": true, \"type\": \"pie\"}], \"scatter\": [{\"marker\": {\"colorbar\": {\"outlinewidth\": 0, \"ticks\": \"\"}}, \"type\": \"scatter\"}], \"scatter3d\": [{\"line\": {\"colorbar\": {\"outlinewidth\": 0, \"ticks\": \"\"}}, \"marker\": {\"colorbar\": {\"outlinewidth\": 0, \"ticks\": \"\"}}, \"type\": \"scatter3d\"}], \"scattercarpet\": [{\"marker\": {\"colorbar\": {\"outlinewidth\": 0, \"ticks\": \"\"}}, \"type\": \"scattercarpet\"}], \"scattergeo\": [{\"marker\": {\"colorbar\": {\"outlinewidth\": 0, \"ticks\": \"\"}}, \"type\": \"scattergeo\"}], \"scattergl\": [{\"marker\": {\"colorbar\": {\"outlinewidth\": 0, \"ticks\": \"\"}}, \"type\": \"scattergl\"}], \"scattermapbox\": [{\"marker\": {\"colorbar\": {\"outlinewidth\": 0, \"ticks\": \"\"}}, \"type\": \"scattermapbox\"}], \"scatterpolar\": [{\"marker\": {\"colorbar\": {\"outlinewidth\": 0, \"ticks\": \"\"}}, \"type\": \"scatterpolar\"}], \"scatterpolargl\": [{\"marker\": {\"colorbar\": {\"outlinewidth\": 0, \"ticks\": \"\"}}, \"type\": \"scatterpolargl\"}], \"scatterternary\": [{\"marker\": {\"colorbar\": {\"outlinewidth\": 0, \"ticks\": \"\"}}, \"type\": \"scatterternary\"}], \"surface\": [{\"colorbar\": {\"outlinewidth\": 0, \"ticks\": \"\"}, \"colorscale\": [[0.0, \"#0d0887\"], [0.1111111111111111, \"#46039f\"], [0.2222222222222222, \"#7201a8\"], [0.3333333333333333, \"#9c179e\"], [0.4444444444444444, \"#bd3786\"], [0.5555555555555556, \"#d8576b\"], [0.6666666666666666, \"#ed7953\"], [0.7777777777777778, \"#fb9f3a\"], [0.8888888888888888, \"#fdca26\"], [1.0, \"#f0f921\"]], \"type\": \"surface\"}], \"table\": [{\"cells\": {\"fill\": {\"color\": \"#EBF0F8\"}, \"line\": {\"color\": \"white\"}}, \"header\": {\"fill\": {\"color\": \"#C8D4E3\"}, \"line\": {\"color\": \"white\"}}, \"type\": \"table\"}]}, \"layout\": {\"annotationdefaults\": {\"arrowcolor\": \"#2a3f5f\", \"arrowhead\": 0, \"arrowwidth\": 1}, \"autotypenumbers\": \"strict\", \"coloraxis\": {\"colorbar\": {\"outlinewidth\": 0, \"ticks\": \"\"}}, \"colorscale\": {\"diverging\": [[0, \"#8e0152\"], [0.1, \"#c51b7d\"], [0.2, \"#de77ae\"], [0.3, \"#f1b6da\"], [0.4, \"#fde0ef\"], [0.5, \"#f7f7f7\"], [0.6, \"#e6f5d0\"], [0.7, \"#b8e186\"], [0.8, \"#7fbc41\"], [0.9, \"#4d9221\"], [1, \"#276419\"]], \"sequential\": [[0.0, \"#0d0887\"], [0.1111111111111111, \"#46039f\"], [0.2222222222222222, \"#7201a8\"], [0.3333333333333333, \"#9c179e\"], [0.4444444444444444, \"#bd3786\"], [0.5555555555555556, \"#d8576b\"], [0.6666666666666666, \"#ed7953\"], [0.7777777777777778, \"#fb9f3a\"], [0.8888888888888888, \"#fdca26\"], [1.0, \"#f0f921\"]], \"sequentialminus\": [[0.0, \"#0d0887\"], [0.1111111111111111, \"#46039f\"], [0.2222222222222222, \"#7201a8\"], [0.3333333333333333, \"#9c179e\"], [0.4444444444444444, \"#bd3786\"], [0.5555555555555556, \"#d8576b\"], [0.6666666666666666, \"#ed7953\"], [0.7777777777777778, \"#fb9f3a\"], [0.8888888888888888, \"#fdca26\"], [1.0, \"#f0f921\"]]}, \"colorway\": [\"#636efa\", \"#EF553B\", \"#00cc96\", \"#ab63fa\", \"#FFA15A\", \"#19d3f3\", \"#FF6692\", \"#B6E880\", \"#FF97FF\", \"#FECB52\"], \"font\": {\"color\": \"#2a3f5f\"}, \"geo\": {\"bgcolor\": \"white\", \"lakecolor\": \"white\", \"landcolor\": \"#E5ECF6\", \"showlakes\": true, \"showland\": true, \"subunitcolor\": \"white\"}, \"hoverlabel\": {\"align\": \"left\"}, \"hovermode\": \"closest\", \"mapbox\": {\"style\": \"light\"}, \"paper_bgcolor\": \"white\", \"plot_bgcolor\": \"#E5ECF6\", \"polar\": {\"angularaxis\": {\"gridcolor\": \"white\", \"linecolor\": \"white\", \"ticks\": \"\"}, \"bgcolor\": \"#E5ECF6\", \"radialaxis\": {\"gridcolor\": \"white\", \"linecolor\": \"white\", \"ticks\": \"\"}}, \"scene\": {\"xaxis\": {\"backgroundcolor\": \"#E5ECF6\", \"gridcolor\": \"white\", \"gridwidth\": 2, \"linecolor\": \"white\", \"showbackground\": true, \"ticks\": \"\", \"zerolinecolor\": \"white\"}, \"yaxis\": {\"backgroundcolor\": \"#E5ECF6\", \"gridcolor\": \"white\", \"gridwidth\": 2, \"linecolor\": \"white\", \"showbackground\": true, \"ticks\": \"\", \"zerolinecolor\": \"white\"}, \"zaxis\": {\"backgroundcolor\": \"#E5ECF6\", \"gridcolor\": \"white\", \"gridwidth\": 2, \"linecolor\": \"white\", \"showbackground\": true, \"ticks\": \"\", \"zerolinecolor\": \"white\"}}, \"shapedefaults\": {\"line\": {\"color\": \"#2a3f5f\"}}, \"ternary\": {\"aaxis\": {\"gridcolor\": \"white\", \"linecolor\": \"white\", \"ticks\": \"\"}, \"baxis\": {\"gridcolor\": \"white\", \"linecolor\": \"white\", \"ticks\": \"\"}, \"bgcolor\": \"#E5ECF6\", \"caxis\": {\"gridcolor\": \"white\", \"linecolor\": \"white\", \"ticks\": \"\"}}, \"title\": {\"x\": 0.05}, \"xaxis\": {\"automargin\": true, \"gridcolor\": \"white\", \"linecolor\": \"white\", \"ticks\": \"\", \"title\": {\"standoff\": 15}, \"zerolinecolor\": \"white\", \"zerolinewidth\": 2}, \"yaxis\": {\"automargin\": true, \"gridcolor\": \"white\", \"linecolor\": \"white\", \"ticks\": \"\", \"title\": {\"standoff\": 15}, \"zerolinecolor\": \"white\", \"zerolinewidth\": 2}}}, \"xaxis\": {\"anchor\": \"y\", \"domain\": [0.0, 1.0], \"title\": {\"text\": \"Year\"}}, \"yaxis\": {\"anchor\": \"x\", \"domain\": [0.0, 1.0], \"title\": {\"text\": \"TCR\"}, \"type\": \"log\"}},                        {\"responsive\": true}                    ).then(function(){\n",
       "                            \n",
       "var gd = document.getElementById('bb2276d9-a0b1-472e-aab4-2b035a220e1a');\n",
       "var x = new MutationObserver(function (mutations, observer) {{\n",
       "        var display = window.getComputedStyle(gd).display;\n",
       "        if (!display || display === 'none') {{\n",
       "            console.log([gd, 'removed!']);\n",
       "            Plotly.purge(gd);\n",
       "            observer.disconnect();\n",
       "        }}\n",
       "}});\n",
       "\n",
       "// Listen for the removal of the full notebook cells\n",
       "var notebookContainer = gd.closest('#notebook-container');\n",
       "if (notebookContainer) {{\n",
       "    x.observe(notebookContainer, {childList: true});\n",
       "}}\n",
       "\n",
       "// Listen for the clearing of the current output cell\n",
       "var outputEl = gd.closest('.output');\n",
       "if (outputEl) {{\n",
       "    x.observe(outputEl, {childList: true});\n",
       "}}\n",
       "\n",
       "                        })                };                });            </script>        </div>"
      ]
     },
     "metadata": {},
     "output_type": "display_data"
    }
   ],
   "source": [
    "fig = px.line(final, x=\"Year\", y=\"TCR\", color='Country Name',log_y=True)\n",
    "fig.show()"
   ]
  },
  {
   "cell_type": "code",
   "execution_count": 58,
   "id": "ea7922a1",
   "metadata": {},
   "outputs": [
    {
     "data": {
      "application/vnd.plotly.v1+json": {
       "config": {
        "plotlyServerURL": "https://plotly.com"
       },
       "data": [
        {
         "hovertemplate": "<b>%{hovertext}</b><br><br>PBI=%{x}<br>TCR=%{y}<extra></extra>",
         "hovertext": [
          "Argentina",
          "Argentina",
          "Argentina",
          "Argentina",
          "Argentina",
          "Argentina",
          "Argentina",
          "Argentina",
          "Argentina",
          "Argentina",
          "Australia",
          "Australia",
          "Australia",
          "Australia",
          "Australia",
          "Australia",
          "Australia",
          "Australia",
          "Australia",
          "Australia",
          "Bahamas",
          "Bahamas",
          "Bahamas",
          "Bahamas",
          "Bahamas",
          "Bahamas",
          "Bahamas",
          "Bahamas",
          "Bahamas",
          "Bahamas",
          "Belice",
          "Belice",
          "Belice",
          "Belice",
          "Belice",
          "Belice",
          "Belice",
          "Belice",
          "Belice",
          "Belice",
          "Bolivia",
          "Bolivia",
          "Bolivia",
          "Bolivia",
          "Bolivia",
          "Bolivia",
          "Bolivia",
          "Bolivia",
          "Bolivia",
          "Bolivia",
          "Brasil",
          "Brasil",
          "Brasil",
          "Brasil",
          "Brasil",
          "Brasil",
          "Brasil",
          "Brasil",
          "Brasil",
          "Brasil",
          "Bulgaria",
          "Bulgaria",
          "Bulgaria",
          "Bulgaria",
          "Bulgaria",
          "Bulgaria",
          "Bulgaria",
          "Bulgaria",
          "Bulgaria",
          "Bulgaria",
          "Camerún",
          "Camerún",
          "Camerún",
          "Camerún",
          "Camerún",
          "Camerún",
          "Camerún",
          "Camerún",
          "Camerún",
          "Camerún",
          "Canadá",
          "Canadá",
          "Canadá",
          "Canadá",
          "Canadá",
          "Canadá",
          "Canadá",
          "Canadá",
          "Canadá",
          "Canadá",
          "Chile",
          "Chile",
          "Chile",
          "Chile",
          "Chile",
          "Chile",
          "Chile",
          "Chile",
          "Chile",
          "Chile",
          "China",
          "China",
          "China",
          "China",
          "China",
          "China",
          "China",
          "China",
          "China",
          "China",
          "Colombia",
          "Colombia",
          "Colombia",
          "Colombia",
          "Colombia",
          "Colombia",
          "Colombia",
          "Colombia",
          "Colombia",
          "Colombia",
          "Costa Rica",
          "Costa Rica",
          "Costa Rica",
          "Costa Rica",
          "Costa Rica",
          "Costa Rica",
          "Costa Rica",
          "Costa Rica",
          "Costa Rica",
          "Costa Rica",
          "Dominica",
          "Dominica",
          "Dominica",
          "Dominica",
          "Dominica",
          "Dominica",
          "Dominica",
          "Dominica",
          "Dominica",
          "Dominica",
          "Granada",
          "Granada",
          "Granada",
          "Granada",
          "Granada",
          "Granada",
          "Granada",
          "Granada",
          "Granada",
          "Granada",
          "Guyana",
          "Guyana",
          "Guyana",
          "Guyana",
          "Guyana",
          "Guyana",
          "Guyana",
          "Guyana",
          "Guyana",
          "Guyana",
          "Japón",
          "Japón",
          "Japón",
          "Japón",
          "Japón",
          "Japón",
          "Japón",
          "Japón",
          "Japón",
          "Japón",
          "México",
          "México",
          "México",
          "México",
          "México",
          "México",
          "México",
          "México",
          "México",
          "México",
          "Nicaragua",
          "Nicaragua",
          "Nicaragua",
          "Nicaragua",
          "Nicaragua",
          "Nicaragua",
          "Nicaragua",
          "Nicaragua",
          "Nicaragua",
          "Nicaragua",
          "Noruega",
          "Noruega",
          "Noruega",
          "Noruega",
          "Noruega",
          "Noruega",
          "Noruega",
          "Noruega",
          "Noruega",
          "Noruega",
          "Nueva Zelandia",
          "Nueva Zelandia",
          "Nueva Zelandia",
          "Nueva Zelandia",
          "Nueva Zelandia",
          "Nueva Zelandia",
          "Nueva Zelandia",
          "Nueva Zelandia",
          "Nueva Zelandia",
          "Nueva Zelandia",
          "Paraguay",
          "Paraguay",
          "Paraguay",
          "Paraguay",
          "Paraguay",
          "Paraguay",
          "Paraguay",
          "Paraguay",
          "Paraguay",
          "Paraguay",
          "Polonia",
          "Polonia",
          "Polonia",
          "Polonia",
          "Polonia",
          "Polonia",
          "Polonia",
          "Polonia",
          "Polonia",
          "Polonia",
          "Portugal",
          "Portugal",
          "Portugal",
          "Portugal",
          "Portugal",
          "Portugal",
          "Portugal",
          "Portugal",
          "Portugal",
          "Portugal",
          "República Dominicana",
          "República Dominicana",
          "República Dominicana",
          "República Dominicana",
          "República Dominicana",
          "República Dominicana",
          "República Dominicana",
          "República Dominicana",
          "República Dominicana",
          "República Dominicana",
          "Sudáfrica",
          "Sudáfrica",
          "Sudáfrica",
          "Sudáfrica",
          "Sudáfrica",
          "Sudáfrica",
          "Sudáfrica",
          "Sudáfrica",
          "Sudáfrica",
          "Sudáfrica",
          "Suecia",
          "Suecia",
          "Suecia",
          "Suecia",
          "Suecia",
          "Suecia",
          "Suecia",
          "Suecia",
          "Suecia",
          "Suecia",
          "Suiza",
          "Suiza",
          "Suiza",
          "Suiza",
          "Suiza",
          "Suiza",
          "Suiza",
          "Suiza",
          "Suiza",
          "Suiza",
          "Trinidad y Tobago",
          "Trinidad y Tobago",
          "Trinidad y Tobago",
          "Trinidad y Tobago",
          "Trinidad y Tobago",
          "Trinidad y Tobago",
          "Trinidad y Tobago",
          "Trinidad y Tobago",
          "Trinidad y Tobago",
          "Trinidad y Tobago",
          "Uruguay",
          "Uruguay",
          "Uruguay",
          "Uruguay",
          "Uruguay",
          "Uruguay",
          "Uruguay",
          "Uruguay",
          "Uruguay",
          "Uruguay"
         ],
         "legendgroup": "",
         "marker": {
          "color": "#636efa",
          "symbol": "circle"
         },
         "mode": "markers",
         "name": "",
         "orientation": "v",
         "showlegend": false,
         "type": "scatter",
         "x": [
          10883.3,
          10649.8,
          10784.6,
          10398.7,
          10568.2,
          10239.5,
          10419.5,
          10049.6,
          9742.5,
          8692.7,
          52567.8,
          53682,
          54129.9,
          54679.4,
          55079.9,
          55728.7,
          56058.5,
          56832.1,
          57183.4,
          56307.3,
          28248.5,
          28800.2,
          27755.3,
          27785.9,
          27583.9,
          27706.5,
          28283.4,
          28845.6,
          28908.3,
          23971.1,
          4250.4,
          4253.1,
          4212.4,
          4287.4,
          4308.2,
          4219.4,
          4211.6,
          4251.6,
          4245.7,
          3583,
          2024.1,
          2094,
          2201.4,
          2286,
          2361.1,
          2425.6,
          2491,
          2559.5,
          2579.9,
          2345.5,
          11627.8,
          11745.8,
          11993.5,
          11951.2,
          11431.2,
          10966,
          11021.7,
          11130.7,
          11203.3,
          10672.2,
          7017.7,
          7083.6,
          7146.6,
          7322.8,
          7663.7,
          8012.5,
          8354,
          8674.7,
          9058.7,
          8743.2,
          1303.4,
          1325.9,
          1360.1,
          1401.8,
          1441.8,
          1469.2,
          1481.7,
          1502.2,
          1518.3,
          1490.8,
          48581,
          48903.2,
          49516.3,
          50427.9,
          50382.9,
          50314.4,
          51225.7,
          51734.3,
          51956.8,
          48617.1,
          13455.8,
          14035.7,
          14461.2,
          14561.3,
          14722.4,
          14777.1,
          14740.6,
          15076.9,
          15039.9,
          14050.2,
          4961.2,
          5325.4,
          5710.7,
          6103.7,
          6500.4,
          6908.1,
          7346.8,
          7807.1,
          8242.1,
          8405.2,
          6711.7,
          6911.8,
          7201,
          7449.3,
          7580.3,
          7633.4,
          7620.9,
          7698.1,
          7843.5,
          7228.4,
          8486.1,
          8796.2,
          8912.7,
          9125.9,
          9356.9,
          9647.8,
          9946.1,
          10050.2,
          10170.2,
          9619.7,
          6948.4,
          6870.7,
          6795.8,
          7090.9,
          6891.9,
          7055,
          6561.2,
          6696.5,
          6910.5,
          5741.2,
          7275.4,
          7146.8,
          7266.2,
          7747.6,
          8193.9,
          8449.2,
          8775.9,
          9092.2,
          9226.6,
          8152.7,
          4808.6,
          5044.9,
          5202.4,
          5261.8,
          5269.9,
          5442.7,
          5617.8,
          5838.8,
          6121.7,
          8741.2,
          44538.7,
          45276.9,
          46249.2,
          46484.2,
          47102.6,
          47403,
          48510.6,
          48766.1,
          49000.3,
          47628.3,
          9477.9,
          9690.9,
          9693.7,
          9843.4,
          10042.1,
          10183,
          10277.9,
          10385.8,
          10267.5,
          9322.3,
          1577.5,
          1657.7,
          1716.4,
          1775,
          1836,
          1895.2,
          1957.9,
          1868.4,
          1777.8,
          1721.8,
          87413.1,
          88604.6,
          88444.9,
          89175.5,
          90029.4,
          90196,
          91549,
          91964.3,
          92123.7,
          90884.6,
          34175.2,
          34749.9,
          35413.5,
          36158.5,
          36743.3,
          37267.4,
          37815.8,
          38335.2,
          38345.7,
          37922.2,
          4484.6,
          4392.1,
          4691.5,
          4873.4,
          4950.6,
          5094,
          5269.7,
          5369,
          5280.2,
          5163,
          13206,
          13381,
          13539.8,
          14007.7,
          14610.9,
          15076.4,
          15802.7,
          16648.8,
          17409,
          16945.2,
          22149.6,
          21337.3,
          21256.8,
          21541,
          22018,
          22533.6,
          23380.7,
          24085.4,
          24679,
          22769.7,
          5660.5,
          5745.4,
          5955.2,
          6301.7,
          6661.9,
          7026.2,
          7273.4,
          7697.7,
          8002.4,
          7389.7,
          7454.8,
          7500.2,
          7564.3,
          7582.9,
          7556.8,
          7476.1,
          7475.2,
          7432,
          7346,
          6748.2,
          54147.9,
          53432.6,
          53611.1,
          54492.6,
          56340,
          56788.5,
          57467.2,
          57911.2,
          58112.4,
          56068.3,
          77729,
          77844.2,
          78356,
          79299.8,
          79702,
          80448.7,
          80964.6,
          82792.3,
          83093.2,
          80132.4,
          16534.2,
          16636.7,
          16895.8,
          16635.6,
          16783.9,
          15760.6,
          15218,
          15164.7,
          14920.6,
          13707.6,
          12574.9,
          12981.1,
          13541.2,
          13934.6,
          13938.8,
          14124.1,
          14301.8,
          14317.5,
          14316,
          13430.7
         ],
         "xaxis": "x",
         "y": [
          93.4,
          80,
          77.1,
          81.2,
          63.5,
          72.4,
          67.8,
          84.1,
          93.3,
          118.4,
          106.96,
          109.03,
          103.45,
          98.32,
          89.85,
          90.93,
          93.69,
          89.95,
          86.01,
          85.36,
          99.34,
          99.26,
          99.01,
          99,
          102.26,
          101.33,
          100.71,
          100.49,
          101.85,
          100.28,
          95.37,
          96.98,
          95.4,
          96.35,
          102.61,
          104.38,
          102.63,
          99.9,
          100.1,
          99.54,
          102.29,
          106.66,
          112.27,
          120.09,
          137.69,
          143.32,
          140.12,
          143.26,
          149.84,
          157.44,
          103.18,
          92.01,
          86.43,
          84.59,
          69.62,
          73.04,
          79.26,
          70.98,
          69.68,
          55.31,
          101.45,
          100.02,
          100.92,
          100.11,
          96.82,
          96.97,
          98.04,
          101.31,
          101.82,
          104.68,
          100.22,
          96.46,
          98.92,
          99.72,
          93.54,
          95.64,
          96.53,
          97.92,
          96.85,
          99.85,
          101.56,
          101.08,
          97.48,
          91.48,
          83.13,
          81.53,
          82.75,
          82.3,
          81.52,
          80.63,
          100.71,
          102.9,
          101.35,
          91.87,
          90.99,
          92.62,
          95.74,
          97.1,
          92.52,
          84.86,
          102.69,
          108.68,
          114.62,
          118.31,
          129.97,
          123.67,
          120.09,
          121.74,
          120.89,
          123.44,
          100.13,
          105.34,
          101.29,
          95.87,
          77.62,
          73.99,
          76.44,
          77.23,
          72.71,
          67.05,
          101.82,
          106.19,
          110.5,
          106.31,
          114.59,
          113.79,
          108.53,
          105.74,
          106.42,
          107.3,
          95.2,
          95.55,
          94.52,
          94.22,
          98.27,
          101.84,
          102.61,
          101.85,
          103.01,
          94.36,
          97.06,
          97.71,
          96.46,
          93.63,
          97.02,
          99.15,
          97.79,
          95.43,
          96.12,
          94.16,
          97.76,
          99.27,
          99.58,
          99.08,
          105.43,
          107.28,
          107.04,
          104.61,
          107.48,
          108.66,
          101.13,
          99.89,
          79.64,
          74.58,
          69.42,
          78.85,
          75.03,
          74.37,
          76.53,
          77.25,
          99.8,
          96.63,
          102.27,
          101.24,
          90.75,
          79.03,
          80.88,
          80.99,
          83.69,
          77.35,
          95.88,
          97.43,
          97.23,
          97.32,
          101.99,
          102.1,
          98.33,
          95.57,
          95.54,
          95.72,
          100.39,
          99.6,
          98.1,
          93.19,
          84.31,
          84.82,
          85.65,
          86.06,
          83.74,
          78.2,
          104.19,
          107.71,
          109.98,
          112.87,
          104.98,
          105.85,
          107.38,
          102.87,
          101.35,
          100.57,
          112.19,
          110.27,
          115.33,
          117.52,
          114.81,
          110.83,
          109.94,
          113.52,
          110.21,
          108.86,
          98.43,
          95.68,
          96.26,
          96.86,
          92.61,
          88.86,
          91.83,
          93.37,
          92.18,
          92.8,
          100.81,
          99.28,
          99.28,
          98.47,
          95.42,
          96.72,
          96.81,
          97.8,
          96.27,
          97.1,
          96.42,
          96.33,
          93.55,
          91.64,
          94.2,
          93.77,
          90.88,
          87.85,
          86.83,
          81.02,
          98.28,
          92.44,
          82.09,
          77.07,
          75.15,
          70.43,
          79.36,
          80.71,
          78.14,
          70.92,
          105.84,
          105.13,
          106.41,
          100.75,
          93.33,
          93.89,
          92.98,
          89.17,
          85.65,
          87.73,
          109.47,
          105.34,
          103.6,
          104.24,
          110.5,
          108.14,
          106,
          103.07,
          104.17,
          108.13,
          98.71,
          107.32,
          111.09,
          117.53,
          132.49,
          131.35,
          127.97,
          126.31,
          128.78,
          130.35,
          102.07,
          104.8,
          111.09,
          106.77,
          107.47,
          108.47,
          115.01,
          116.75,
          113.15,
          107.77
         ],
         "yaxis": "y"
        }
       ],
       "layout": {
        "legend": {
         "tracegroupgap": 0
        },
        "margin": {
         "t": 60
        },
        "template": {
         "data": {
          "bar": [
           {
            "error_x": {
             "color": "#2a3f5f"
            },
            "error_y": {
             "color": "#2a3f5f"
            },
            "marker": {
             "line": {
              "color": "#E5ECF6",
              "width": 0.5
             }
            },
            "type": "bar"
           }
          ],
          "barpolar": [
           {
            "marker": {
             "line": {
              "color": "#E5ECF6",
              "width": 0.5
             }
            },
            "type": "barpolar"
           }
          ],
          "carpet": [
           {
            "aaxis": {
             "endlinecolor": "#2a3f5f",
             "gridcolor": "white",
             "linecolor": "white",
             "minorgridcolor": "white",
             "startlinecolor": "#2a3f5f"
            },
            "baxis": {
             "endlinecolor": "#2a3f5f",
             "gridcolor": "white",
             "linecolor": "white",
             "minorgridcolor": "white",
             "startlinecolor": "#2a3f5f"
            },
            "type": "carpet"
           }
          ],
          "choropleth": [
           {
            "colorbar": {
             "outlinewidth": 0,
             "ticks": ""
            },
            "type": "choropleth"
           }
          ],
          "contour": [
           {
            "colorbar": {
             "outlinewidth": 0,
             "ticks": ""
            },
            "colorscale": [
             [
              0,
              "#0d0887"
             ],
             [
              0.1111111111111111,
              "#46039f"
             ],
             [
              0.2222222222222222,
              "#7201a8"
             ],
             [
              0.3333333333333333,
              "#9c179e"
             ],
             [
              0.4444444444444444,
              "#bd3786"
             ],
             [
              0.5555555555555556,
              "#d8576b"
             ],
             [
              0.6666666666666666,
              "#ed7953"
             ],
             [
              0.7777777777777778,
              "#fb9f3a"
             ],
             [
              0.8888888888888888,
              "#fdca26"
             ],
             [
              1,
              "#f0f921"
             ]
            ],
            "type": "contour"
           }
          ],
          "contourcarpet": [
           {
            "colorbar": {
             "outlinewidth": 0,
             "ticks": ""
            },
            "type": "contourcarpet"
           }
          ],
          "heatmap": [
           {
            "colorbar": {
             "outlinewidth": 0,
             "ticks": ""
            },
            "colorscale": [
             [
              0,
              "#0d0887"
             ],
             [
              0.1111111111111111,
              "#46039f"
             ],
             [
              0.2222222222222222,
              "#7201a8"
             ],
             [
              0.3333333333333333,
              "#9c179e"
             ],
             [
              0.4444444444444444,
              "#bd3786"
             ],
             [
              0.5555555555555556,
              "#d8576b"
             ],
             [
              0.6666666666666666,
              "#ed7953"
             ],
             [
              0.7777777777777778,
              "#fb9f3a"
             ],
             [
              0.8888888888888888,
              "#fdca26"
             ],
             [
              1,
              "#f0f921"
             ]
            ],
            "type": "heatmap"
           }
          ],
          "heatmapgl": [
           {
            "colorbar": {
             "outlinewidth": 0,
             "ticks": ""
            },
            "colorscale": [
             [
              0,
              "#0d0887"
             ],
             [
              0.1111111111111111,
              "#46039f"
             ],
             [
              0.2222222222222222,
              "#7201a8"
             ],
             [
              0.3333333333333333,
              "#9c179e"
             ],
             [
              0.4444444444444444,
              "#bd3786"
             ],
             [
              0.5555555555555556,
              "#d8576b"
             ],
             [
              0.6666666666666666,
              "#ed7953"
             ],
             [
              0.7777777777777778,
              "#fb9f3a"
             ],
             [
              0.8888888888888888,
              "#fdca26"
             ],
             [
              1,
              "#f0f921"
             ]
            ],
            "type": "heatmapgl"
           }
          ],
          "histogram": [
           {
            "marker": {
             "colorbar": {
              "outlinewidth": 0,
              "ticks": ""
             }
            },
            "type": "histogram"
           }
          ],
          "histogram2d": [
           {
            "colorbar": {
             "outlinewidth": 0,
             "ticks": ""
            },
            "colorscale": [
             [
              0,
              "#0d0887"
             ],
             [
              0.1111111111111111,
              "#46039f"
             ],
             [
              0.2222222222222222,
              "#7201a8"
             ],
             [
              0.3333333333333333,
              "#9c179e"
             ],
             [
              0.4444444444444444,
              "#bd3786"
             ],
             [
              0.5555555555555556,
              "#d8576b"
             ],
             [
              0.6666666666666666,
              "#ed7953"
             ],
             [
              0.7777777777777778,
              "#fb9f3a"
             ],
             [
              0.8888888888888888,
              "#fdca26"
             ],
             [
              1,
              "#f0f921"
             ]
            ],
            "type": "histogram2d"
           }
          ],
          "histogram2dcontour": [
           {
            "colorbar": {
             "outlinewidth": 0,
             "ticks": ""
            },
            "colorscale": [
             [
              0,
              "#0d0887"
             ],
             [
              0.1111111111111111,
              "#46039f"
             ],
             [
              0.2222222222222222,
              "#7201a8"
             ],
             [
              0.3333333333333333,
              "#9c179e"
             ],
             [
              0.4444444444444444,
              "#bd3786"
             ],
             [
              0.5555555555555556,
              "#d8576b"
             ],
             [
              0.6666666666666666,
              "#ed7953"
             ],
             [
              0.7777777777777778,
              "#fb9f3a"
             ],
             [
              0.8888888888888888,
              "#fdca26"
             ],
             [
              1,
              "#f0f921"
             ]
            ],
            "type": "histogram2dcontour"
           }
          ],
          "mesh3d": [
           {
            "colorbar": {
             "outlinewidth": 0,
             "ticks": ""
            },
            "type": "mesh3d"
           }
          ],
          "parcoords": [
           {
            "line": {
             "colorbar": {
              "outlinewidth": 0,
              "ticks": ""
             }
            },
            "type": "parcoords"
           }
          ],
          "pie": [
           {
            "automargin": true,
            "type": "pie"
           }
          ],
          "scatter": [
           {
            "marker": {
             "colorbar": {
              "outlinewidth": 0,
              "ticks": ""
             }
            },
            "type": "scatter"
           }
          ],
          "scatter3d": [
           {
            "line": {
             "colorbar": {
              "outlinewidth": 0,
              "ticks": ""
             }
            },
            "marker": {
             "colorbar": {
              "outlinewidth": 0,
              "ticks": ""
             }
            },
            "type": "scatter3d"
           }
          ],
          "scattercarpet": [
           {
            "marker": {
             "colorbar": {
              "outlinewidth": 0,
              "ticks": ""
             }
            },
            "type": "scattercarpet"
           }
          ],
          "scattergeo": [
           {
            "marker": {
             "colorbar": {
              "outlinewidth": 0,
              "ticks": ""
             }
            },
            "type": "scattergeo"
           }
          ],
          "scattergl": [
           {
            "marker": {
             "colorbar": {
              "outlinewidth": 0,
              "ticks": ""
             }
            },
            "type": "scattergl"
           }
          ],
          "scattermapbox": [
           {
            "marker": {
             "colorbar": {
              "outlinewidth": 0,
              "ticks": ""
             }
            },
            "type": "scattermapbox"
           }
          ],
          "scatterpolar": [
           {
            "marker": {
             "colorbar": {
              "outlinewidth": 0,
              "ticks": ""
             }
            },
            "type": "scatterpolar"
           }
          ],
          "scatterpolargl": [
           {
            "marker": {
             "colorbar": {
              "outlinewidth": 0,
              "ticks": ""
             }
            },
            "type": "scatterpolargl"
           }
          ],
          "scatterternary": [
           {
            "marker": {
             "colorbar": {
              "outlinewidth": 0,
              "ticks": ""
             }
            },
            "type": "scatterternary"
           }
          ],
          "surface": [
           {
            "colorbar": {
             "outlinewidth": 0,
             "ticks": ""
            },
            "colorscale": [
             [
              0,
              "#0d0887"
             ],
             [
              0.1111111111111111,
              "#46039f"
             ],
             [
              0.2222222222222222,
              "#7201a8"
             ],
             [
              0.3333333333333333,
              "#9c179e"
             ],
             [
              0.4444444444444444,
              "#bd3786"
             ],
             [
              0.5555555555555556,
              "#d8576b"
             ],
             [
              0.6666666666666666,
              "#ed7953"
             ],
             [
              0.7777777777777778,
              "#fb9f3a"
             ],
             [
              0.8888888888888888,
              "#fdca26"
             ],
             [
              1,
              "#f0f921"
             ]
            ],
            "type": "surface"
           }
          ],
          "table": [
           {
            "cells": {
             "fill": {
              "color": "#EBF0F8"
             },
             "line": {
              "color": "white"
             }
            },
            "header": {
             "fill": {
              "color": "#C8D4E3"
             },
             "line": {
              "color": "white"
             }
            },
            "type": "table"
           }
          ]
         },
         "layout": {
          "annotationdefaults": {
           "arrowcolor": "#2a3f5f",
           "arrowhead": 0,
           "arrowwidth": 1
          },
          "autotypenumbers": "strict",
          "coloraxis": {
           "colorbar": {
            "outlinewidth": 0,
            "ticks": ""
           }
          },
          "colorscale": {
           "diverging": [
            [
             0,
             "#8e0152"
            ],
            [
             0.1,
             "#c51b7d"
            ],
            [
             0.2,
             "#de77ae"
            ],
            [
             0.3,
             "#f1b6da"
            ],
            [
             0.4,
             "#fde0ef"
            ],
            [
             0.5,
             "#f7f7f7"
            ],
            [
             0.6,
             "#e6f5d0"
            ],
            [
             0.7,
             "#b8e186"
            ],
            [
             0.8,
             "#7fbc41"
            ],
            [
             0.9,
             "#4d9221"
            ],
            [
             1,
             "#276419"
            ]
           ],
           "sequential": [
            [
             0,
             "#0d0887"
            ],
            [
             0.1111111111111111,
             "#46039f"
            ],
            [
             0.2222222222222222,
             "#7201a8"
            ],
            [
             0.3333333333333333,
             "#9c179e"
            ],
            [
             0.4444444444444444,
             "#bd3786"
            ],
            [
             0.5555555555555556,
             "#d8576b"
            ],
            [
             0.6666666666666666,
             "#ed7953"
            ],
            [
             0.7777777777777778,
             "#fb9f3a"
            ],
            [
             0.8888888888888888,
             "#fdca26"
            ],
            [
             1,
             "#f0f921"
            ]
           ],
           "sequentialminus": [
            [
             0,
             "#0d0887"
            ],
            [
             0.1111111111111111,
             "#46039f"
            ],
            [
             0.2222222222222222,
             "#7201a8"
            ],
            [
             0.3333333333333333,
             "#9c179e"
            ],
            [
             0.4444444444444444,
             "#bd3786"
            ],
            [
             0.5555555555555556,
             "#d8576b"
            ],
            [
             0.6666666666666666,
             "#ed7953"
            ],
            [
             0.7777777777777778,
             "#fb9f3a"
            ],
            [
             0.8888888888888888,
             "#fdca26"
            ],
            [
             1,
             "#f0f921"
            ]
           ]
          },
          "colorway": [
           "#636efa",
           "#EF553B",
           "#00cc96",
           "#ab63fa",
           "#FFA15A",
           "#19d3f3",
           "#FF6692",
           "#B6E880",
           "#FF97FF",
           "#FECB52"
          ],
          "font": {
           "color": "#2a3f5f"
          },
          "geo": {
           "bgcolor": "white",
           "lakecolor": "white",
           "landcolor": "#E5ECF6",
           "showlakes": true,
           "showland": true,
           "subunitcolor": "white"
          },
          "hoverlabel": {
           "align": "left"
          },
          "hovermode": "closest",
          "mapbox": {
           "style": "light"
          },
          "paper_bgcolor": "white",
          "plot_bgcolor": "#E5ECF6",
          "polar": {
           "angularaxis": {
            "gridcolor": "white",
            "linecolor": "white",
            "ticks": ""
           },
           "bgcolor": "#E5ECF6",
           "radialaxis": {
            "gridcolor": "white",
            "linecolor": "white",
            "ticks": ""
           }
          },
          "scene": {
           "xaxis": {
            "backgroundcolor": "#E5ECF6",
            "gridcolor": "white",
            "gridwidth": 2,
            "linecolor": "white",
            "showbackground": true,
            "ticks": "",
            "zerolinecolor": "white"
           },
           "yaxis": {
            "backgroundcolor": "#E5ECF6",
            "gridcolor": "white",
            "gridwidth": 2,
            "linecolor": "white",
            "showbackground": true,
            "ticks": "",
            "zerolinecolor": "white"
           },
           "zaxis": {
            "backgroundcolor": "#E5ECF6",
            "gridcolor": "white",
            "gridwidth": 2,
            "linecolor": "white",
            "showbackground": true,
            "ticks": "",
            "zerolinecolor": "white"
           }
          },
          "shapedefaults": {
           "line": {
            "color": "#2a3f5f"
           }
          },
          "ternary": {
           "aaxis": {
            "gridcolor": "white",
            "linecolor": "white",
            "ticks": ""
           },
           "baxis": {
            "gridcolor": "white",
            "linecolor": "white",
            "ticks": ""
           },
           "bgcolor": "#E5ECF6",
           "caxis": {
            "gridcolor": "white",
            "linecolor": "white",
            "ticks": ""
           }
          },
          "title": {
           "x": 0.05
          },
          "xaxis": {
           "automargin": true,
           "gridcolor": "white",
           "linecolor": "white",
           "ticks": "",
           "title": {
            "standoff": 15
           },
           "zerolinecolor": "white",
           "zerolinewidth": 2
          },
          "yaxis": {
           "automargin": true,
           "gridcolor": "white",
           "linecolor": "white",
           "ticks": "",
           "title": {
            "standoff": 15
           },
           "zerolinecolor": "white",
           "zerolinewidth": 2
          }
         }
        },
        "xaxis": {
         "anchor": "y",
         "domain": [
          0,
          1
         ],
         "title": {
          "text": "PBI"
         }
        },
        "yaxis": {
         "anchor": "x",
         "domain": [
          0,
          1
         ],
         "title": {
          "text": "TCR"
         },
         "type": "log"
        }
       }
      },
      "text/html": [
       "<div>                            <div id=\"8393c6ed-472d-4489-ba0c-b1b84d6a880c\" class=\"plotly-graph-div\" style=\"height:525px; width:100%;\"></div>            <script type=\"text/javascript\">                require([\"plotly\"], function(Plotly) {                    window.PLOTLYENV=window.PLOTLYENV || {};                                    if (document.getElementById(\"8393c6ed-472d-4489-ba0c-b1b84d6a880c\")) {                    Plotly.newPlot(                        \"8393c6ed-472d-4489-ba0c-b1b84d6a880c\",                        [{\"hovertemplate\": \"<b>%{hovertext}</b><br><br>PBI=%{x}<br>TCR=%{y}<extra></extra>\", \"hovertext\": [\"Argentina\", \"Argentina\", \"Argentina\", \"Argentina\", \"Argentina\", \"Argentina\", \"Argentina\", \"Argentina\", \"Argentina\", \"Argentina\", \"Australia\", \"Australia\", \"Australia\", \"Australia\", \"Australia\", \"Australia\", \"Australia\", \"Australia\", \"Australia\", \"Australia\", \"Bahamas\", \"Bahamas\", \"Bahamas\", \"Bahamas\", \"Bahamas\", \"Bahamas\", \"Bahamas\", \"Bahamas\", \"Bahamas\", \"Bahamas\", \"Belice\", \"Belice\", \"Belice\", \"Belice\", \"Belice\", \"Belice\", \"Belice\", \"Belice\", \"Belice\", \"Belice\", \"Bolivia\", \"Bolivia\", \"Bolivia\", \"Bolivia\", \"Bolivia\", \"Bolivia\", \"Bolivia\", \"Bolivia\", \"Bolivia\", \"Bolivia\", \"Brasil\", \"Brasil\", \"Brasil\", \"Brasil\", \"Brasil\", \"Brasil\", \"Brasil\", \"Brasil\", \"Brasil\", \"Brasil\", \"Bulgaria\", \"Bulgaria\", \"Bulgaria\", \"Bulgaria\", \"Bulgaria\", \"Bulgaria\", \"Bulgaria\", \"Bulgaria\", \"Bulgaria\", \"Bulgaria\", \"Camer\\u00fan\", \"Camer\\u00fan\", \"Camer\\u00fan\", \"Camer\\u00fan\", \"Camer\\u00fan\", \"Camer\\u00fan\", \"Camer\\u00fan\", \"Camer\\u00fan\", \"Camer\\u00fan\", \"Camer\\u00fan\", \"Canad\\u00e1\", \"Canad\\u00e1\", \"Canad\\u00e1\", \"Canad\\u00e1\", \"Canad\\u00e1\", \"Canad\\u00e1\", \"Canad\\u00e1\", \"Canad\\u00e1\", \"Canad\\u00e1\", \"Canad\\u00e1\", \"Chile\", \"Chile\", \"Chile\", \"Chile\", \"Chile\", \"Chile\", \"Chile\", \"Chile\", \"Chile\", \"Chile\", \"China\", \"China\", \"China\", \"China\", \"China\", \"China\", \"China\", \"China\", \"China\", \"China\", \"Colombia\", \"Colombia\", \"Colombia\", \"Colombia\", \"Colombia\", \"Colombia\", \"Colombia\", \"Colombia\", \"Colombia\", \"Colombia\", \"Costa Rica\", \"Costa Rica\", \"Costa Rica\", \"Costa Rica\", \"Costa Rica\", \"Costa Rica\", \"Costa Rica\", \"Costa Rica\", \"Costa Rica\", \"Costa Rica\", \"Dominica\", \"Dominica\", \"Dominica\", \"Dominica\", \"Dominica\", \"Dominica\", \"Dominica\", \"Dominica\", \"Dominica\", \"Dominica\", \"Granada\", \"Granada\", \"Granada\", \"Granada\", \"Granada\", \"Granada\", \"Granada\", \"Granada\", \"Granada\", \"Granada\", \"Guyana\", \"Guyana\", \"Guyana\", \"Guyana\", \"Guyana\", \"Guyana\", \"Guyana\", \"Guyana\", \"Guyana\", \"Guyana\", \"Jap\\u00f3n\", \"Jap\\u00f3n\", \"Jap\\u00f3n\", \"Jap\\u00f3n\", \"Jap\\u00f3n\", \"Jap\\u00f3n\", \"Jap\\u00f3n\", \"Jap\\u00f3n\", \"Jap\\u00f3n\", \"Jap\\u00f3n\", \"M\\u00e9xico\", \"M\\u00e9xico\", \"M\\u00e9xico\", \"M\\u00e9xico\", \"M\\u00e9xico\", \"M\\u00e9xico\", \"M\\u00e9xico\", \"M\\u00e9xico\", \"M\\u00e9xico\", \"M\\u00e9xico\", \"Nicaragua\", \"Nicaragua\", \"Nicaragua\", \"Nicaragua\", \"Nicaragua\", \"Nicaragua\", \"Nicaragua\", \"Nicaragua\", \"Nicaragua\", \"Nicaragua\", \"Noruega\", \"Noruega\", \"Noruega\", \"Noruega\", \"Noruega\", \"Noruega\", \"Noruega\", \"Noruega\", \"Noruega\", \"Noruega\", \"Nueva Zelandia\", \"Nueva Zelandia\", \"Nueva Zelandia\", \"Nueva Zelandia\", \"Nueva Zelandia\", \"Nueva Zelandia\", \"Nueva Zelandia\", \"Nueva Zelandia\", \"Nueva Zelandia\", \"Nueva Zelandia\", \"Paraguay\", \"Paraguay\", \"Paraguay\", \"Paraguay\", \"Paraguay\", \"Paraguay\", \"Paraguay\", \"Paraguay\", \"Paraguay\", \"Paraguay\", \"Polonia\", \"Polonia\", \"Polonia\", \"Polonia\", \"Polonia\", \"Polonia\", \"Polonia\", \"Polonia\", \"Polonia\", \"Polonia\", \"Portugal\", \"Portugal\", \"Portugal\", \"Portugal\", \"Portugal\", \"Portugal\", \"Portugal\", \"Portugal\", \"Portugal\", \"Portugal\", \"Rep\\u00fablica Dominicana\", \"Rep\\u00fablica Dominicana\", \"Rep\\u00fablica Dominicana\", \"Rep\\u00fablica Dominicana\", \"Rep\\u00fablica Dominicana\", \"Rep\\u00fablica Dominicana\", \"Rep\\u00fablica Dominicana\", \"Rep\\u00fablica Dominicana\", \"Rep\\u00fablica Dominicana\", \"Rep\\u00fablica Dominicana\", \"Sud\\u00e1frica\", \"Sud\\u00e1frica\", \"Sud\\u00e1frica\", \"Sud\\u00e1frica\", \"Sud\\u00e1frica\", \"Sud\\u00e1frica\", \"Sud\\u00e1frica\", \"Sud\\u00e1frica\", \"Sud\\u00e1frica\", \"Sud\\u00e1frica\", \"Suecia\", \"Suecia\", \"Suecia\", \"Suecia\", \"Suecia\", \"Suecia\", \"Suecia\", \"Suecia\", \"Suecia\", \"Suecia\", \"Suiza\", \"Suiza\", \"Suiza\", \"Suiza\", \"Suiza\", \"Suiza\", \"Suiza\", \"Suiza\", \"Suiza\", \"Suiza\", \"Trinidad y Tobago\", \"Trinidad y Tobago\", \"Trinidad y Tobago\", \"Trinidad y Tobago\", \"Trinidad y Tobago\", \"Trinidad y Tobago\", \"Trinidad y Tobago\", \"Trinidad y Tobago\", \"Trinidad y Tobago\", \"Trinidad y Tobago\", \"Uruguay\", \"Uruguay\", \"Uruguay\", \"Uruguay\", \"Uruguay\", \"Uruguay\", \"Uruguay\", \"Uruguay\", \"Uruguay\", \"Uruguay\"], \"legendgroup\": \"\", \"marker\": {\"color\": \"#636efa\", \"symbol\": \"circle\"}, \"mode\": \"markers\", \"name\": \"\", \"orientation\": \"v\", \"showlegend\": false, \"type\": \"scatter\", \"x\": [10883.3, 10649.8, 10784.6, 10398.7, 10568.2, 10239.5, 10419.5, 10049.6, 9742.5, 8692.7, 52567.8, 53682.0, 54129.9, 54679.4, 55079.9, 55728.7, 56058.5, 56832.1, 57183.4, 56307.3, 28248.5, 28800.2, 27755.3, 27785.9, 27583.9, 27706.5, 28283.4, 28845.6, 28908.3, 23971.1, 4250.4, 4253.1, 4212.4, 4287.4, 4308.2, 4219.4, 4211.6, 4251.6, 4245.7, 3583.0, 2024.1, 2094.0, 2201.4, 2286.0, 2361.1, 2425.6, 2491.0, 2559.5, 2579.9, 2345.5, 11627.8, 11745.8, 11993.5, 11951.2, 11431.2, 10966.0, 11021.7, 11130.7, 11203.3, 10672.2, 7017.7, 7083.6, 7146.6, 7322.8, 7663.7, 8012.5, 8354.0, 8674.7, 9058.7, 8743.2, 1303.4, 1325.9, 1360.1, 1401.8, 1441.8, 1469.2, 1481.7, 1502.2, 1518.3, 1490.8, 48581.0, 48903.2, 49516.3, 50427.9, 50382.9, 50314.4, 51225.7, 51734.3, 51956.8, 48617.1, 13455.8, 14035.7, 14461.2, 14561.3, 14722.4, 14777.1, 14740.6, 15076.9, 15039.9, 14050.2, 4961.2, 5325.4, 5710.7, 6103.7, 6500.4, 6908.1, 7346.8, 7807.1, 8242.1, 8405.2, 6711.7, 6911.8, 7201.0, 7449.3, 7580.3, 7633.4, 7620.9, 7698.1, 7843.5, 7228.4, 8486.1, 8796.2, 8912.7, 9125.9, 9356.9, 9647.8, 9946.1, 10050.2, 10170.2, 9619.7, 6948.4, 6870.7, 6795.8, 7090.9, 6891.9, 7055.0, 6561.2, 6696.5, 6910.5, 5741.2, 7275.4, 7146.8, 7266.2, 7747.6, 8193.9, 8449.2, 8775.9, 9092.2, 9226.6, 8152.7, 4808.6, 5044.9, 5202.4, 5261.8, 5269.9, 5442.7, 5617.8, 5838.8, 6121.7, 8741.2, 44538.7, 45276.9, 46249.2, 46484.2, 47102.6, 47403.0, 48510.6, 48766.1, 49000.3, 47628.3, 9477.9, 9690.9, 9693.7, 9843.4, 10042.1, 10183.0, 10277.9, 10385.8, 10267.5, 9322.3, 1577.5, 1657.7, 1716.4, 1775.0, 1836.0, 1895.2, 1957.9, 1868.4, 1777.8, 1721.8, 87413.1, 88604.6, 88444.9, 89175.5, 90029.4, 90196.0, 91549.0, 91964.3, 92123.7, 90884.6, 34175.2, 34749.9, 35413.5, 36158.5, 36743.3, 37267.4, 37815.8, 38335.2, 38345.7, 37922.2, 4484.6, 4392.1, 4691.5, 4873.4, 4950.6, 5094.0, 5269.7, 5369.0, 5280.2, 5163.0, 13206.0, 13381.0, 13539.8, 14007.7, 14610.9, 15076.4, 15802.7, 16648.8, 17409.0, 16945.2, 22149.6, 21337.3, 21256.8, 21541.0, 22018.0, 22533.6, 23380.7, 24085.4, 24679.0, 22769.7, 5660.5, 5745.4, 5955.2, 6301.7, 6661.9, 7026.2, 7273.4, 7697.7, 8002.4, 7389.7, 7454.8, 7500.2, 7564.3, 7582.9, 7556.8, 7476.1, 7475.2, 7432.0, 7346.0, 6748.2, 54147.9, 53432.6, 53611.1, 54492.6, 56340.0, 56788.5, 57467.2, 57911.2, 58112.4, 56068.3, 77729.0, 77844.2, 78356.0, 79299.8, 79702.0, 80448.7, 80964.6, 82792.3, 83093.2, 80132.4, 16534.2, 16636.7, 16895.8, 16635.6, 16783.9, 15760.6, 15218.0, 15164.7, 14920.6, 13707.6, 12574.9, 12981.1, 13541.2, 13934.6, 13938.8, 14124.1, 14301.8, 14317.5, 14316.0, 13430.7], \"xaxis\": \"x\", \"y\": [93.4, 80.0, 77.1, 81.2, 63.5, 72.4, 67.8, 84.1, 93.3, 118.4, 106.96, 109.03, 103.45, 98.32, 89.85, 90.93, 93.69, 89.95, 86.01, 85.36, 99.34, 99.26, 99.01, 99.0, 102.26, 101.33, 100.71, 100.49, 101.85, 100.28, 95.37, 96.98, 95.4, 96.35, 102.61, 104.38, 102.63, 99.9, 100.1, 99.54, 102.29, 106.66, 112.27, 120.09, 137.69, 143.32, 140.12, 143.26, 149.84, 157.44, 103.18, 92.01, 86.43, 84.59, 69.62, 73.04, 79.26, 70.98, 69.68, 55.31, 101.45, 100.02, 100.92, 100.11, 96.82, 96.97, 98.04, 101.31, 101.82, 104.68, 100.22, 96.46, 98.92, 99.72, 93.54, 95.64, 96.53, 97.92, 96.85, 99.85, 101.56, 101.08, 97.48, 91.48, 83.13, 81.53, 82.75, 82.3, 81.52, 80.63, 100.71, 102.9, 101.35, 91.87, 90.99, 92.62, 95.74, 97.1, 92.52, 84.86, 102.69, 108.68, 114.62, 118.31, 129.97, 123.67, 120.09, 121.74, 120.89, 123.44, 100.13, 105.34, 101.29, 95.87, 77.62, 73.99, 76.44, 77.23, 72.71, 67.05, 101.82, 106.19, 110.5, 106.31, 114.59, 113.79, 108.53, 105.74, 106.42, 107.3, 95.2, 95.55, 94.52, 94.22, 98.27, 101.84, 102.61, 101.85, 103.01, 94.36, 97.06, 97.71, 96.46, 93.63, 97.02, 99.15, 97.79, 95.43, 96.12, 94.16, 97.76, 99.27, 99.58, 99.08, 105.43, 107.28, 107.04, 104.61, 107.48, 108.66, 101.13, 99.89, 79.64, 74.58, 69.42, 78.85, 75.03, 74.37, 76.53, 77.25, 99.8, 96.63, 102.27, 101.24, 90.75, 79.03, 80.88, 80.99, 83.69, 77.35, 95.88, 97.43, 97.23, 97.32, 101.99, 102.1, 98.33, 95.57, 95.54, 95.72, 100.39, 99.6, 98.1, 93.19, 84.31, 84.82, 85.65, 86.06, 83.74, 78.2, 104.19, 107.71, 109.98, 112.87, 104.98, 105.85, 107.38, 102.87, 101.35, 100.57, 112.19, 110.27, 115.33, 117.52, 114.81, 110.83, 109.94, 113.52, 110.21, 108.86, 98.43, 95.68, 96.26, 96.86, 92.61, 88.86, 91.83, 93.37, 92.18, 92.8, 100.81, 99.28, 99.28, 98.47, 95.42, 96.72, 96.81, 97.8, 96.27, 97.1, 96.42, 96.33, 93.55, 91.64, 94.2, 93.77, 90.88, 87.85, 86.83, 81.02, 98.28, 92.44, 82.09, 77.07, 75.15, 70.43, 79.36, 80.71, 78.14, 70.92, 105.84, 105.13, 106.41, 100.75, 93.33, 93.89, 92.98, 89.17, 85.65, 87.73, 109.47, 105.34, 103.6, 104.24, 110.5, 108.14, 106.0, 103.07, 104.17, 108.13, 98.71, 107.32, 111.09, 117.53, 132.49, 131.35, 127.97, 126.31, 128.78, 130.35, 102.07, 104.8, 111.09, 106.77, 107.47, 108.47, 115.01, 116.75, 113.15, 107.77], \"yaxis\": \"y\"}],                        {\"legend\": {\"tracegroupgap\": 0}, \"margin\": {\"t\": 60}, \"template\": {\"data\": {\"bar\": [{\"error_x\": {\"color\": \"#2a3f5f\"}, \"error_y\": {\"color\": \"#2a3f5f\"}, \"marker\": {\"line\": {\"color\": \"#E5ECF6\", \"width\": 0.5}}, \"type\": \"bar\"}], \"barpolar\": [{\"marker\": {\"line\": {\"color\": \"#E5ECF6\", \"width\": 0.5}}, \"type\": \"barpolar\"}], \"carpet\": [{\"aaxis\": {\"endlinecolor\": \"#2a3f5f\", \"gridcolor\": \"white\", \"linecolor\": \"white\", \"minorgridcolor\": \"white\", \"startlinecolor\": \"#2a3f5f\"}, \"baxis\": {\"endlinecolor\": \"#2a3f5f\", \"gridcolor\": \"white\", \"linecolor\": \"white\", \"minorgridcolor\": \"white\", \"startlinecolor\": \"#2a3f5f\"}, \"type\": \"carpet\"}], \"choropleth\": [{\"colorbar\": {\"outlinewidth\": 0, \"ticks\": \"\"}, \"type\": \"choropleth\"}], \"contour\": [{\"colorbar\": {\"outlinewidth\": 0, \"ticks\": \"\"}, \"colorscale\": [[0.0, \"#0d0887\"], [0.1111111111111111, \"#46039f\"], [0.2222222222222222, \"#7201a8\"], [0.3333333333333333, \"#9c179e\"], [0.4444444444444444, \"#bd3786\"], [0.5555555555555556, \"#d8576b\"], [0.6666666666666666, \"#ed7953\"], [0.7777777777777778, \"#fb9f3a\"], [0.8888888888888888, \"#fdca26\"], [1.0, \"#f0f921\"]], \"type\": \"contour\"}], \"contourcarpet\": [{\"colorbar\": {\"outlinewidth\": 0, \"ticks\": \"\"}, \"type\": \"contourcarpet\"}], \"heatmap\": [{\"colorbar\": {\"outlinewidth\": 0, \"ticks\": \"\"}, \"colorscale\": [[0.0, \"#0d0887\"], [0.1111111111111111, \"#46039f\"], [0.2222222222222222, \"#7201a8\"], [0.3333333333333333, \"#9c179e\"], [0.4444444444444444, \"#bd3786\"], [0.5555555555555556, \"#d8576b\"], [0.6666666666666666, \"#ed7953\"], [0.7777777777777778, \"#fb9f3a\"], [0.8888888888888888, \"#fdca26\"], [1.0, \"#f0f921\"]], \"type\": \"heatmap\"}], \"heatmapgl\": [{\"colorbar\": {\"outlinewidth\": 0, \"ticks\": \"\"}, \"colorscale\": [[0.0, \"#0d0887\"], [0.1111111111111111, \"#46039f\"], [0.2222222222222222, \"#7201a8\"], [0.3333333333333333, \"#9c179e\"], [0.4444444444444444, \"#bd3786\"], [0.5555555555555556, \"#d8576b\"], [0.6666666666666666, \"#ed7953\"], [0.7777777777777778, \"#fb9f3a\"], [0.8888888888888888, \"#fdca26\"], [1.0, \"#f0f921\"]], \"type\": \"heatmapgl\"}], \"histogram\": [{\"marker\": {\"colorbar\": {\"outlinewidth\": 0, \"ticks\": \"\"}}, \"type\": \"histogram\"}], \"histogram2d\": [{\"colorbar\": {\"outlinewidth\": 0, \"ticks\": \"\"}, \"colorscale\": [[0.0, \"#0d0887\"], [0.1111111111111111, \"#46039f\"], [0.2222222222222222, \"#7201a8\"], [0.3333333333333333, \"#9c179e\"], [0.4444444444444444, \"#bd3786\"], [0.5555555555555556, \"#d8576b\"], [0.6666666666666666, \"#ed7953\"], [0.7777777777777778, \"#fb9f3a\"], [0.8888888888888888, \"#fdca26\"], [1.0, \"#f0f921\"]], \"type\": \"histogram2d\"}], \"histogram2dcontour\": [{\"colorbar\": {\"outlinewidth\": 0, \"ticks\": \"\"}, \"colorscale\": [[0.0, \"#0d0887\"], [0.1111111111111111, \"#46039f\"], [0.2222222222222222, \"#7201a8\"], [0.3333333333333333, \"#9c179e\"], [0.4444444444444444, \"#bd3786\"], [0.5555555555555556, \"#d8576b\"], [0.6666666666666666, \"#ed7953\"], [0.7777777777777778, \"#fb9f3a\"], [0.8888888888888888, \"#fdca26\"], [1.0, \"#f0f921\"]], \"type\": \"histogram2dcontour\"}], \"mesh3d\": [{\"colorbar\": {\"outlinewidth\": 0, \"ticks\": \"\"}, \"type\": \"mesh3d\"}], \"parcoords\": [{\"line\": {\"colorbar\": {\"outlinewidth\": 0, \"ticks\": \"\"}}, \"type\": \"parcoords\"}], \"pie\": [{\"automargin\": true, \"type\": \"pie\"}], \"scatter\": [{\"marker\": {\"colorbar\": {\"outlinewidth\": 0, \"ticks\": \"\"}}, \"type\": \"scatter\"}], \"scatter3d\": [{\"line\": {\"colorbar\": {\"outlinewidth\": 0, \"ticks\": \"\"}}, \"marker\": {\"colorbar\": {\"outlinewidth\": 0, \"ticks\": \"\"}}, \"type\": \"scatter3d\"}], \"scattercarpet\": [{\"marker\": {\"colorbar\": {\"outlinewidth\": 0, \"ticks\": \"\"}}, \"type\": \"scattercarpet\"}], \"scattergeo\": [{\"marker\": {\"colorbar\": {\"outlinewidth\": 0, \"ticks\": \"\"}}, \"type\": \"scattergeo\"}], \"scattergl\": [{\"marker\": {\"colorbar\": {\"outlinewidth\": 0, \"ticks\": \"\"}}, \"type\": \"scattergl\"}], \"scattermapbox\": [{\"marker\": {\"colorbar\": {\"outlinewidth\": 0, \"ticks\": \"\"}}, \"type\": \"scattermapbox\"}], \"scatterpolar\": [{\"marker\": {\"colorbar\": {\"outlinewidth\": 0, \"ticks\": \"\"}}, \"type\": \"scatterpolar\"}], \"scatterpolargl\": [{\"marker\": {\"colorbar\": {\"outlinewidth\": 0, \"ticks\": \"\"}}, \"type\": \"scatterpolargl\"}], \"scatterternary\": [{\"marker\": {\"colorbar\": {\"outlinewidth\": 0, \"ticks\": \"\"}}, \"type\": \"scatterternary\"}], \"surface\": [{\"colorbar\": {\"outlinewidth\": 0, \"ticks\": \"\"}, \"colorscale\": [[0.0, \"#0d0887\"], [0.1111111111111111, \"#46039f\"], [0.2222222222222222, \"#7201a8\"], [0.3333333333333333, \"#9c179e\"], [0.4444444444444444, \"#bd3786\"], [0.5555555555555556, \"#d8576b\"], [0.6666666666666666, \"#ed7953\"], [0.7777777777777778, \"#fb9f3a\"], [0.8888888888888888, \"#fdca26\"], [1.0, \"#f0f921\"]], \"type\": \"surface\"}], \"table\": [{\"cells\": {\"fill\": {\"color\": \"#EBF0F8\"}, \"line\": {\"color\": \"white\"}}, \"header\": {\"fill\": {\"color\": \"#C8D4E3\"}, \"line\": {\"color\": \"white\"}}, \"type\": \"table\"}]}, \"layout\": {\"annotationdefaults\": {\"arrowcolor\": \"#2a3f5f\", \"arrowhead\": 0, \"arrowwidth\": 1}, \"autotypenumbers\": \"strict\", \"coloraxis\": {\"colorbar\": {\"outlinewidth\": 0, \"ticks\": \"\"}}, \"colorscale\": {\"diverging\": [[0, \"#8e0152\"], [0.1, \"#c51b7d\"], [0.2, \"#de77ae\"], [0.3, \"#f1b6da\"], [0.4, \"#fde0ef\"], [0.5, \"#f7f7f7\"], [0.6, \"#e6f5d0\"], [0.7, \"#b8e186\"], [0.8, \"#7fbc41\"], [0.9, \"#4d9221\"], [1, \"#276419\"]], \"sequential\": [[0.0, \"#0d0887\"], [0.1111111111111111, \"#46039f\"], [0.2222222222222222, \"#7201a8\"], [0.3333333333333333, \"#9c179e\"], [0.4444444444444444, \"#bd3786\"], [0.5555555555555556, \"#d8576b\"], [0.6666666666666666, \"#ed7953\"], [0.7777777777777778, \"#fb9f3a\"], [0.8888888888888888, \"#fdca26\"], [1.0, \"#f0f921\"]], \"sequentialminus\": [[0.0, \"#0d0887\"], [0.1111111111111111, \"#46039f\"], [0.2222222222222222, \"#7201a8\"], [0.3333333333333333, \"#9c179e\"], [0.4444444444444444, \"#bd3786\"], [0.5555555555555556, \"#d8576b\"], [0.6666666666666666, \"#ed7953\"], [0.7777777777777778, \"#fb9f3a\"], [0.8888888888888888, \"#fdca26\"], [1.0, \"#f0f921\"]]}, \"colorway\": [\"#636efa\", \"#EF553B\", \"#00cc96\", \"#ab63fa\", \"#FFA15A\", \"#19d3f3\", \"#FF6692\", \"#B6E880\", \"#FF97FF\", \"#FECB52\"], \"font\": {\"color\": \"#2a3f5f\"}, \"geo\": {\"bgcolor\": \"white\", \"lakecolor\": \"white\", \"landcolor\": \"#E5ECF6\", \"showlakes\": true, \"showland\": true, \"subunitcolor\": \"white\"}, \"hoverlabel\": {\"align\": \"left\"}, \"hovermode\": \"closest\", \"mapbox\": {\"style\": \"light\"}, \"paper_bgcolor\": \"white\", \"plot_bgcolor\": \"#E5ECF6\", \"polar\": {\"angularaxis\": {\"gridcolor\": \"white\", \"linecolor\": \"white\", \"ticks\": \"\"}, \"bgcolor\": \"#E5ECF6\", \"radialaxis\": {\"gridcolor\": \"white\", \"linecolor\": \"white\", \"ticks\": \"\"}}, \"scene\": {\"xaxis\": {\"backgroundcolor\": \"#E5ECF6\", \"gridcolor\": \"white\", \"gridwidth\": 2, \"linecolor\": \"white\", \"showbackground\": true, \"ticks\": \"\", \"zerolinecolor\": \"white\"}, \"yaxis\": {\"backgroundcolor\": \"#E5ECF6\", \"gridcolor\": \"white\", \"gridwidth\": 2, \"linecolor\": \"white\", \"showbackground\": true, \"ticks\": \"\", \"zerolinecolor\": \"white\"}, \"zaxis\": {\"backgroundcolor\": \"#E5ECF6\", \"gridcolor\": \"white\", \"gridwidth\": 2, \"linecolor\": \"white\", \"showbackground\": true, \"ticks\": \"\", \"zerolinecolor\": \"white\"}}, \"shapedefaults\": {\"line\": {\"color\": \"#2a3f5f\"}}, \"ternary\": {\"aaxis\": {\"gridcolor\": \"white\", \"linecolor\": \"white\", \"ticks\": \"\"}, \"baxis\": {\"gridcolor\": \"white\", \"linecolor\": \"white\", \"ticks\": \"\"}, \"bgcolor\": \"#E5ECF6\", \"caxis\": {\"gridcolor\": \"white\", \"linecolor\": \"white\", \"ticks\": \"\"}}, \"title\": {\"x\": 0.05}, \"xaxis\": {\"automargin\": true, \"gridcolor\": \"white\", \"linecolor\": \"white\", \"ticks\": \"\", \"title\": {\"standoff\": 15}, \"zerolinecolor\": \"white\", \"zerolinewidth\": 2}, \"yaxis\": {\"automargin\": true, \"gridcolor\": \"white\", \"linecolor\": \"white\", \"ticks\": \"\", \"title\": {\"standoff\": 15}, \"zerolinecolor\": \"white\", \"zerolinewidth\": 2}}}, \"xaxis\": {\"anchor\": \"y\", \"domain\": [0.0, 1.0], \"title\": {\"text\": \"PBI\"}}, \"yaxis\": {\"anchor\": \"x\", \"domain\": [0.0, 1.0], \"title\": {\"text\": \"TCR\"}, \"type\": \"log\"}},                        {\"responsive\": true}                    ).then(function(){\n",
       "                            \n",
       "var gd = document.getElementById('8393c6ed-472d-4489-ba0c-b1b84d6a880c');\n",
       "var x = new MutationObserver(function (mutations, observer) {{\n",
       "        var display = window.getComputedStyle(gd).display;\n",
       "        if (!display || display === 'none') {{\n",
       "            console.log([gd, 'removed!']);\n",
       "            Plotly.purge(gd);\n",
       "            observer.disconnect();\n",
       "        }}\n",
       "}});\n",
       "\n",
       "// Listen for the removal of the full notebook cells\n",
       "var notebookContainer = gd.closest('#notebook-container');\n",
       "if (notebookContainer) {{\n",
       "    x.observe(notebookContainer, {childList: true});\n",
       "}}\n",
       "\n",
       "// Listen for the clearing of the current output cell\n",
       "var outputEl = gd.closest('.output');\n",
       "if (outputEl) {{\n",
       "    x.observe(outputEl, {childList: true});\n",
       "}}\n",
       "\n",
       "                        })                };                });            </script>        </div>"
      ]
     },
     "metadata": {},
     "output_type": "display_data"
    }
   ],
   "source": [
    "fig = px.scatter(final, x=\"PBI\", y=\"TCR\", hover_name=\"Country Name\", log_y=True)\n",
    "fig.show()"
   ]
  },
  {
   "cell_type": "code",
   "execution_count": null,
   "id": "50f68cb2",
   "metadata": {},
   "outputs": [],
   "source": [
    "#table.to_csv('basefinal.csv')"
   ]
  }
 ],
 "metadata": {
  "kernelspec": {
   "display_name": "Python [conda env:dhdsblend2021] *",
   "language": "python",
   "name": "conda-env-dhdsblend2021-py"
  },
  "language_info": {
   "codemirror_mode": {
    "name": "ipython",
    "version": 3
   },
   "file_extension": ".py",
   "mimetype": "text/x-python",
   "name": "python",
   "nbconvert_exporter": "python",
   "pygments_lexer": "ipython3",
   "version": "3.8.10"
  }
 },
 "nbformat": 4,
 "nbformat_minor": 5
}
